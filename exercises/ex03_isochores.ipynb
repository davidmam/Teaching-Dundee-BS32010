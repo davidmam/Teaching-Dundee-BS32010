{
 "metadata": {
  "name": ""
 },
 "nbformat": 3,
 "nbformat_minor": 0,
 "worksheets": [
  {
   "cells": [
    {
     "cell_type": "heading",
     "level": 1,
     "metadata": {},
     "source": [
      "ex03_isochores - Identifying and plotting isochores <img src=\"data/JHI_STRAP_Web.png\" style=\"width: 150px; float: right;\"> "
     ]
    },
    {
     "cell_type": "code",
     "collapsed": false,
     "input": [
      "%pylab inline"
     ],
     "language": "python",
     "metadata": {},
     "outputs": [
      {
       "output_type": "stream",
       "stream": "stdout",
       "text": [
        "Populating the interactive namespace from numpy and matplotlib\n"
       ]
      }
     ],
     "prompt_number": 1
    },
    {
     "cell_type": "markdown",
     "metadata": {},
     "source": [
      "The purpose of this activity is \n",
      "\n",
      "1. to demonstrate that genome comparisons do not need to involve sequence comparison, or comparison of biological features\n",
      "2. to demonstrate basic data visualisation using Python, in a biological context\n",
      "3. to demonstrate some simple Python code for interacting with biological sequences and dataframes\n",
      "\n",
      "When you have completed this activity you should be able \n",
      "\n",
      "1. to calculate isochores in a genome using Python\n",
      "2. to plot properties of a chromosom in relation to their position"
     ]
    },
    {
     "cell_type": "heading",
     "level": 2,
     "metadata": {},
     "source": [
      "Introduction"
     ]
    },
    {
     "cell_type": "markdown",
     "metadata": {},
     "source": [
      "This exercise will partially reproduce some work from the paper [Costantini *et al.* (2006) \"An isochore map of human chromosomes\" *Genome Res.* **16**:536\u2013541](http://dx.doi.org/10.1101/gr.4910606). In particular, we will be plotting the isochore distribution for a human chromosome, as in figures 1 and 5 from that paper.\n",
      "\n",
      "![Distribution of isochores by %GC](files/data/isochore_hist.png \"Distribution of isochores by %GC\")\n",
      "\n",
      "![k-mer spectra for a range of organisms](files/data/isochore_chromosome.png \"k-mer spectra for a range of organisms\")\n",
      "\n",
      "Isochores are large DNA segments ($\\approx$300 kb on average) characterized by internal variation in %GC well\n",
      "below the full variation seen in the mammalian genome. In their paper, Costantini and colleagues used a\n",
      "very simple approach to segment the human chromosomes de novo, based on assessments of GC and its variation\n",
      "within and between adjacent regions. We will replicate this, below."
     ]
    },
    {
     "cell_type": "heading",
     "level": 2,
     "metadata": {},
     "source": [
      "Exercise"
     ]
    },
    {
     "cell_type": "heading",
     "level": 3,
     "metadata": {},
     "source": [
      "Importing Python modules"
     ]
    },
    {
     "cell_type": "markdown",
     "metadata": {},
     "source": [
      "We will use the [`Biopython`](http://www.biopython.org) libraries to interact with and manipulate sequence data.\n",
      "\n",
      "We will also use the [`Pandas`](http://pandas.pydata.org/) data analysis libraries to manipulate numerical data.\n",
      "\n",
      "Some code is exercise-specific, and will be imported from the local `bs32010` module in this directory."
     ]
    },
    {
     "cell_type": "code",
     "collapsed": false,
     "input": [
      "import pandas as pd  # For manipulating data\n",
      "\n",
      "from Bio import SeqIO  # For working with sequence data files\n",
      "\n",
      "#from bs32010.ex03 import *  # Local functions and data"
     ],
     "language": "python",
     "metadata": {},
     "outputs": [],
     "prompt_number": 2
    },
    {
     "cell_type": "heading",
     "level": 3,
     "metadata": {},
     "source": [
      "Sequence data"
     ]
    },
    {
     "cell_type": "markdown",
     "metadata": {},
     "source": [
      "As this is an exercise, we will be working with a single human reference chromosome ([Chr21](http://www.sanger.ac.uk/about/history/hgp/chr21.html)) - the shortest chromosome - whose sequence is located in the file `data/hs_ref_GRCh38_chr21.fa`. Although \"finished\", this chromosome is not completely assembled, and is in 30 fragments. We can load these into a variable with Biopython, and inspect basic information."
     ]
    },
    {
     "cell_type": "code",
     "collapsed": false,
     "input": [
      "chr_data = list(SeqIO.parse('data/hs_ref_GRCh38_chr21.fa', 'fasta'))\n",
      "for fragment in chr_data:\n",
      "    print(\"%s (len: %d)\" % (fragment.description, len(fragment)))"
     ],
     "language": "python",
     "metadata": {},
     "outputs": [
      {
       "output_type": "stream",
       "stream": "stdout",
       "text": [
        "gi|568815299|ref|NT_008413.19| Homo sapiens chromosome 9 genomic scaffold, GRCh38 Primary Assembly HSCHR9_CTG1 (len: 43212167)\n",
        "gi|568815298|ref|NT_187203.1| Homo sapiens chromosome 9 genomic scaffold, GRCh38 Primary Assembly CEN9_1 (len: 153368)\n",
        "gi|568815297|ref|NT_187204.1| Homo sapiens chromosome 9 genomic scaffold, GRCh38 Primary Assembly CEN9_2 (len: 2128923)\n",
        "gi|224514639|ref|NT_113916.2| Homo sapiens chromosome 9 genomic scaffold, GRCh38 Primary Assembly HSCHR9_CTG5 (len: 169874)\n",
        "gi|568815296|ref|NT_187205.1| Homo sapiens chromosome 9 genomic scaffold, GRCh38 Primary Assembly HSCHR9_CTG6 (len: 41089)\n",
        "gi|568815295|ref|NT_187206.1| Homo sapiens chromosome 9 genomic scaffold, GRCh38 Primary Assembly HSCHR9_CTG7 (len: 174366)\n",
        "gi|568815294|ref|NT_078052.5| Homo sapiens chromosome 9 genomic scaffold, GRCh38 Primary Assembly HSCHR9_CTG9 (len: 178079)\n",
        "gi|568815293|ref|NT_187207.1| Homo sapiens chromosome 9 genomic scaffold, GRCh38 Primary Assembly HSCHR9_CTG10 (len: 186842)\n",
        "gi|568815292|ref|NT_187208.1| Homo sapiens chromosome 9 genomic scaffold, GRCh38 Primary Assembly HSCHR9_CTG10_2 (len: 216560)\n",
        "gi|568815291|ref|NT_187209.1| Homo sapiens chromosome 9 genomic scaffold, GRCh38 Primary Assembly HSCHR9_CTG10_1 (len: 364370)\n",
        "gi|224514741|ref|NT_086755.3| Homo sapiens chromosome 9 genomic scaffold, GRCh38 Primary Assembly HSCHR9_CTG17 (len: 499094)\n",
        "gi|568815290|ref|NT_187210.1| Homo sapiens chromosome 9 genomic scaffold, GRCh38 Primary Assembly HSCHR9_CTG21_2 (len: 159539)\n",
        "gi|568815289|ref|NT_187211.1| Homo sapiens chromosome 9 genomic scaffold, GRCh38 Primary Assembly HSCHR9_CTG21_3 (len: 483893)\n",
        "gi|89029475|ref|NT_078067.3| Homo sapiens chromosome 9 genomic scaffold, GRCh38 Primary Assembly HSCHR9_CTG28 (len: 376183)\n",
        "gi|568815288|ref|NT_113961.2| Homo sapiens chromosome 9 genomic scaffold, GRCh38 Primary Assembly HSCHR9_CTG29 (len: 246715)\n",
        "gi|568815287|ref|NT_078070.4| Homo sapiens chromosome 9 genomic scaffold, GRCh38 Primary Assembly HSCHR9_CTG30_1 (len: 764920)\n",
        "gi|568815286|ref|NT_187212.1| Homo sapiens chromosome 9 genomic scaffold, GRCh38 Primary Assembly HSCHR9_CTG30_2 (len: 195041)\n",
        "gi|568815285|ref|NT_187213.1| Homo sapiens chromosome 9 genomic scaffold, GRCh38 Primary Assembly HSCHR9_CTG32 (len: 220068)\n",
        "gi|568815284|ref|NT_078055.5| Homo sapiens chromosome 9 genomic scaffold, GRCh38 Primary Assembly HSCHR9_CTG33 (len: 746196)\n",
        "gi|568815283|ref|NT_187214.1| Homo sapiens chromosome 9 genomic scaffold, GRCh38 Primary Assembly HSCHR9_CTG34 (len: 1329165)\n",
        "gi|568815282|ref|NT_008470.20| Homo sapiens chromosome 9 genomic scaffold, GRCh38 Primary Assembly HSCHR9_CTG35 (len: 70114165)\n",
        "gi|568801932|ref|NT_187372.1| Homo sapiens chromosome 9 unlocalized genomic scaffold, GRCh38 Primary Assembly HSCHR9_UNLOCALIZED_CTG1 (len: 40062)\n",
        "gi|568801931|ref|NT_187373.1| Homo sapiens chromosome 9 unlocalized genomic scaffold, GRCh38 Primary Assembly HSCHR9_UNLOCALIZED_CTG2 (len: 38054)\n",
        "gi|568801930|ref|NT_187374.1| Homo sapiens chromosome 9 unlocalized genomic scaffold, GRCh38 Primary Assembly HSCHR9_UNLOCALIZED_CTG3 (len: 176845)\n",
        "gi|568801929|ref|NT_187375.1| Homo sapiens chromosome 9 unlocalized genomic scaffold, GRCh38 Primary Assembly HSCHR9_UNLOCALIZED_CTG4 (len: 39050)\n",
        "gi|303308519|ref|NW_003315928.1| Homo sapiens chromosome 9 genomic scaffold, GRCh38 alternate locus group ALT_REF_LOCI_1 HSCHR9_1_CTG1 (len: 162988)\n",
        "gi|303308518|ref|NW_003315929.1| Homo sapiens chromosome 9 genomic scaffold, GRCh38 alternate locus group ALT_REF_LOCI_1 HSCHR9_1_CTG2 (len: 71551)\n",
        "gi|303308517|ref|NW_003315930.1| Homo sapiens chromosome 9 genomic scaffold, GRCh38 alternate locus group ALT_REF_LOCI_1 HSCHR9_1_CTG3 (len: 171286)\n",
        "gi|303308516|ref|NW_003315931.1| Homo sapiens chromosome 9 genomic scaffold, GRCh38 alternate locus group ALT_REF_LOCI_1 HSCHR9_1_CTG4 (len: 60032)\n",
        "gi|568815433|ref|NT_187578.1| Homo sapiens chromosome 9 genomic scaffold, GRCh38 alternate locus group ALT_REF_LOCI_1 HSCHR9_1_CTG5 (len: 439082)\n"
       ]
      }
     ],
     "prompt_number": 12
    },
    {
     "cell_type": "heading",
     "level": 3,
     "metadata": {},
     "source": [
      "Windowed %GC content"
     ]
    },
    {
     "cell_type": "markdown",
     "metadata": {},
     "source": [
      "The first step in the analysis is to generate a windowed %GC content profile along each sequence. As noted in the source manuscript:\n",
      "\n",
      "> If one scans the GC profiles (Fig. 1, see gatefold) of human chromosomes\n",
      "from any starting point using a fixed window of 100\n",
      "kb, one finds a mosaic of sequences ranging from 200 kb to\n",
      "several megabases that are characterized by different GC levels\n",
      "and by a remarkable compositional homogeneity."
     ]
    },
    {
     "cell_type": "markdown",
     "metadata": {},
     "source": [
      "We will calculate this profile by looping over each chromosome sequence in 100bp steps, and storing the start position and the corresponding %GC as a tuple: `(start, gc)`, in lists - one for each sequence fragment."
     ]
    },
    {
     "cell_type": "code",
     "collapsed": false,
     "input": [
      "mydata = [(0, 0.54), (100, 0.78), (200, 0.32)]\n",
      "mydf = pd.DataFrame(mydata, columns=(\"start\", \"gc\"))\n",
      "mydf.head()"
     ],
     "language": "python",
     "metadata": {},
     "outputs": [
      {
       "html": [
        "<div style=\"max-height:1000px;max-width:1500px;overflow:auto;\">\n",
        "<table border=\"1\" class=\"dataframe\">\n",
        "  <thead>\n",
        "    <tr style=\"text-align: right;\">\n",
        "      <th></th>\n",
        "      <th>start</th>\n",
        "      <th>gc</th>\n",
        "    </tr>\n",
        "  </thead>\n",
        "  <tbody>\n",
        "    <tr>\n",
        "      <th>0</th>\n",
        "      <td>   0</td>\n",
        "      <td> 0.54</td>\n",
        "    </tr>\n",
        "    <tr>\n",
        "      <th>1</th>\n",
        "      <td> 100</td>\n",
        "      <td> 0.78</td>\n",
        "    </tr>\n",
        "    <tr>\n",
        "      <th>2</th>\n",
        "      <td> 200</td>\n",
        "      <td> 0.32</td>\n",
        "    </tr>\n",
        "  </tbody>\n",
        "</table>\n",
        "<p>3 rows \u00d7 2 columns</p>\n",
        "</div>"
       ],
       "metadata": {},
       "output_type": "pyout",
       "prompt_number": 14,
       "text": [
        "   start    gc\n",
        "0      0  0.54\n",
        "1    100  0.78\n",
        "2    200  0.32\n",
        "\n",
        "[3 rows x 2 columns]"
       ]
      }
     ],
     "prompt_number": 14
    },
    {
     "cell_type": "code",
     "collapsed": false,
     "input": [
      "def calc_gc(frag):\n",
      "    \"\"\"Returns the GC content of the passed sequence.\"\"\"\n",
      "    return float(frag.seq.count('C') + frag.seq.count('G')) / len(frag)\n",
      "\n",
      "df_dict = {}\n",
      "for fragment in chr_data:\n",
      "    name = fragment.description.split()[-1]  # Splits description string on whitespace, ID is last part\n",
      "    data = []\n",
      "    for idx in range(0, len(fragment) - 100, 100):\n",
      "        data.append((idx, calc_gc(fragment[idx:idx+100])))\n",
      "    df_dict[name] = pd.DataFrame(data, columns=(\"start\", \"gc\"))"
     ],
     "language": "python",
     "metadata": {},
     "outputs": [],
     "prompt_number": 22
    },
    {
     "cell_type": "markdown",
     "metadata": {},
     "source": [
      "We now have a dictionary, keyed by fragment identifier, containing dataframes representing 100bp windows along each fragment, and their associated %GC content."
     ]
    },
    {
     "cell_type": "heading",
     "level": 3,
     "metadata": {},
     "source": [
      "Histogram of windowed %GC content"
     ]
    },
    {
     "cell_type": "markdown",
     "metadata": {},
     "source": [
      "We can plot a histogram of windowed %GC content for the chromosome as a whole. To do this, we combine all the windowed %GC content values into a single dataframe, ignoring the divisions between sequence fragments."
     ]
    },
    {
     "cell_type": "code",
     "collapsed": false,
     "input": [
      "all_windows = pd.concat(df_dict.values())\n",
      "all_windows.shape  # Get (rows, columns) of new dataframe"
     ],
     "language": "python",
     "metadata": {},
     "outputs": [
      {
       "metadata": {},
       "output_type": "pyout",
       "prompt_number": 36,
       "text": [
        "(1231577, 2)"
       ]
      }
     ],
     "prompt_number": 36
    },
    {
     "cell_type": "markdown",
     "metadata": {},
     "source": [
      "Now we can use the built-in `.hist()` method of the dataframe to see how the data is distributed"
     ]
    },
    {
     "cell_type": "code",
     "collapsed": false,
     "input": [
      "all_windows['gc'].hist(bins=99)"
     ],
     "language": "python",
     "metadata": {},
     "outputs": [
      {
       "metadata": {},
       "output_type": "pyout",
       "prompt_number": 41,
       "text": [
        "<matplotlib.axes.AxesSubplot at 0x10e268750>"
       ]
      },
      {
       "metadata": {},
       "output_type": "display_data",
       "png": "[encoded data removed]",
       "text": [
        "<matplotlib.figure.Figure at 0x1116af390>"
       ]
      }
     ],
     "prompt_number": 41
    },
    {
     "cell_type": "markdown",
     "metadata": {},
     "source": [
      "Note that this does not give us a plot resembling Figure 5 of the source paper. "
     ]
    },
    {
     "cell_type": "heading",
     "level": 3,
     "metadata": {},
     "source": [
      "Finding isochore boundaries"
     ]
    },
    {
     "cell_type": "markdown",
     "metadata": {},
     "source": [
      "The isochore finding method first defines boundaries of isochores on the basis of the difference in %GC content between neighbouring 100bp windows. In the Costantini *et al.* paper, these boundaries are defined on the basis of %GC difference between neighbouring windows:\n",
      "\n",
      "> As a guideline, we focused on jumps of at least 1%\u20132%\n",
      "GC between adjacent candidate segments, although in rare cases\n",
      "smaller jumps were justified because of differences in variability\n",
      "between the two segments\n",
      "\n",
      "This is an exercise, so we will set a hard threshold of a 1% difference in GC content between neighbouring windows."
     ]
    },
    {
     "cell_type": "markdown",
     "metadata": {},
     "source": [
      "For each fragment then, we can loop over the rows in the dataframe of %GC contents, and identify such boundaries."
     ]
    },
    {
     "cell_type": "code",
     "collapsed": false,
     "input": [],
     "language": "python",
     "metadata": {},
     "outputs": []
    }
   ],
   "metadata": {}
  }
 ]
}