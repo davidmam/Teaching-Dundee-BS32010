{
 "metadata": {
  "name": "",
  "signature": "sha256:4856736ab788133375a849297e9552ad9f732022ce5fd46d4f4c626227b0827d"
 },
 "nbformat": 3,
 "nbformat_minor": 0,
 "worksheets": [
  {
   "cells": [
    {
     "cell_type": "heading",
     "level": 1,
     "metadata": {},
     "source": [
      "ex03_ani - ANIb, ANIm and TETRA comparison"
     ]
    },
    {
     "cell_type": "code",
     "collapsed": false,
     "input": [
      "%pylab inline"
     ],
     "language": "python",
     "metadata": {},
     "outputs": [
      {
       "output_type": "stream",
       "stream": "stdout",
       "text": [
        "Populating the interactive namespace from numpy and matplotlib\n"
       ]
      }
     ],
     "prompt_number": 1
    },
    {
     "cell_type": "heading",
     "level": 2,
     "metadata": {},
     "source": [
      "Overview"
     ]
    },
    {
     "cell_type": "markdown",
     "metadata": {},
     "source": [
      "The purpose of this activity is \n",
      "\n",
      "1. to demonstrate Average Nucleotide Identity (ANI) analysis\n",
      "2. to demonstrate basic data analysis visualisation using Python\n",
      "3. to compare the performance of different, related algorithms for genome analysis\n",
      "\n",
      "When you have completed this activity you should be able \n",
      "\n",
      "1. to understand how to perform ANI analysis\n",
      "2. to interpret ANI output"
     ]
    },
    {
     "cell_type": "heading",
     "level": 2,
     "metadata": {},
     "source": [
      "Introduction"
     ]
    },
    {
     "cell_type": "markdown",
     "metadata": {},
     "source": [
      "In their paper [\"DNA-DNA hybridization values and their relationship to whole-genome sequence similarities.\"](http://dx.doi.org/10.1099/ijs.0.64483-0), Goris *et al.* introduced ANI using BLAST (ANIb) as a substitute for experimental DNA-DNA hybridisation (DDH) for determining prokaryotic species boundaries. The 2009 paper [\"Shifting the genomic gold standard for the prokaryotic species definition\"](http://dx.doi.org/10.1073/pnas.0906412106) by Richter and Rossell\u00f3-M\u00f3ra adapts the ANI method to use the MUMmer alignment package (ANIm). The two methods are broadly equivalent, especially when sequence similarity is very high. However, ANIm is more stringent in the selection of genome sequence regions for comparison, leading to some differences in classification.\n",
      "\n",
      "ANIb and ANIm methods both  still require sequence alignment. This means that a decision, however reasonable, clear-cut, and automatable it might be, has to be made concerning what parts of the genomes are equivalent, and suitable for comparison. An alternative approach might be to use an alignment-free method that considers all the genome sequence information, without bias. Richter and Rossell\u00f3-M\u00f3ra also proposed such a method in their 2009 paper, based on tetranucleotide frequencies (TETRA). \n",
      "\n",
      "However, the relationship between ANI and TETRA is not straightforward (not least because TETRA actually measures correlation between statistical deviations of tetranucleotide frequency from an expected frequency, rather than the frequencies themselves), and the results are fuzzy and still need to be interpreted in conjunction with the overall sequence similarity. In particular, a very high TETRA score may be accompanied with an ANIm that falls below the species boundary cutoff.\n",
      "\n",
      "Richter and Rossell\u00f3-M\u00f3ra provided the [JSpecies](http://www.imedea.uib.es/jspecies/) software, which is written in Java, GUI-based, and provides some summary graphics, in addition to ANIb, TETRA, and ANIm output. Here, we will use a Python module that performs the same calculations, to achieve two goals:\n",
      "\n",
      "1. Illustrate the steps required to conduct a single pairwise ANIb analysis\n",
      "2. Generate c"
     ]
    },
    {
     "cell_type": "heading",
     "level": 2,
     "metadata": {},
     "source": [
      "Importing Python code"
     ]
    },
    {
     "cell_type": "markdown",
     "metadata": {},
     "source": [
      "We'll be using Biopython to interact with and manipulate sequence data, and alignment output.\n",
      "\n",
      "We'll be using the pyani package to conduct ANI and TETRA analyses."
     ]
    },
    {
     "cell_type": "code",
     "collapsed": false,
     "input": [
      "from Bio import SeqIO  # For working with sequence data files\n",
      "\n",
      "#from bs32010.ex03 import *  # Local functions and data\n",
      "from bs32010.pyani import anib, anim, tetra, pyani_graphics  # Module to run ANI analyses"
     ],
     "language": "python",
     "metadata": {},
     "outputs": [],
     "prompt_number": 2
    },
    {
     "cell_type": "heading",
     "level": 2,
     "metadata": {},
     "source": [
      "Sequence data"
     ]
    },
    {
     "cell_type": "markdown",
     "metadata": {},
     "source": [
      "The sequence data we'll be working with is in the subdirectory `data/Anaplasma_chromosomes`. There are additional files in the `data` subdirectory: `anaplasma_classes.txt` and `anaplasma_labels.txt`. These can be inspected by using the shell escape `!`, e.g.\n",
      "\n",
      "```text\n",
      "!ls -ltrh data/Anaplasma_chromosomes\n",
      "!head data/anaplasma_classes.txt\n",
      "!head data/anaplasma_labels.txt\n",
      "```"
     ]
    },
    {
     "cell_type": "code",
     "collapsed": false,
     "input": [
      "# Use shell escapes in this cell\n",
      "!ls -ltrh data/Anaplasma_chromosomes"
     ],
     "language": "python",
     "metadata": {},
     "outputs": [
      {
       "output_type": "stream",
       "stream": "stdout",
       "text": [
        "total 23608\r\n",
        "-rw-r--r--  1 lpritc  staff   1.4M 11 Mar 13:42 NC_021881.fna\r\n",
        "-rw-r--r--  1 lpritc  staff   1.4M 11 Mar 13:42 NC_021880.fna\r\n",
        "-rw-r--r--  1 lpritc  staff   1.4M 11 Mar 13:42 NC_021879.fna\r\n",
        "-rw-r--r--  1 lpritc  staff   1.2M 11 Mar 13:42 NC_013532.fna\r\n",
        "-rw-r--r--  1 lpritc  staff   1.2M 11 Mar 13:42 NC_012026.fna\r\n",
        "-rw-r--r--  1 lpritc  staff   1.4M 11 Mar 13:42 NC_007797.fna\r\n",
        "-rw-r--r--  1 lpritc  staff   1.2M 11 Mar 13:42 NC_004842.fna\r\n",
        "-rw-r--r--  1 lpritc  staff   1.2M 11 Mar 13:42 NC_022784.fna\r\n",
        "-rw-r--r--  1 lpritc  staff   1.2M 11 Mar 13:42 NC_022760.fna\r\n"
       ]
      }
     ],
     "prompt_number": 3
    },
    {
     "cell_type": "heading",
     "level": 2,
     "metadata": {},
     "source": [
      "ANIb analysis"
     ]
    },
    {
     "cell_type": "markdown",
     "metadata": {},
     "source": [
      "First, we will work long-hand through an ANIb analysis. This has three steps, as described in [Goris *et al* (2007)](http://dx.doi.org/10.1099/ijs.0.64483-0):\n",
      "\n",
      "1. Fragment input sequences for organisms $A$ and $B$ into 1020nt sections\n",
      "2. BLASTN between all sequence fragments\n",
      "3. Calculate ANI as mean identity of all BLASTN matches with more than 30% overall sequence identity (recalculated to an identity along the entire sequence) over an alignable region of at least 70% of their length."
     ]
    },
    {
     "cell_type": "markdown",
     "metadata": {},
     "source": [
      "In more detail, this involves the following actions:\n",
      "\n",
      "1. Load each input file, split into fragments, and write them out to fragment files\n",
      "2. Convert each input file into a corresponding BLAST database\n",
      "3. Carry out the BLASTN comparison, and save the results\n",
      "4. Read the BLASTN results, and identify all matches that satisfy the match criteria (30% identity over 70% of the sequence), recalculating the identity score with respect to the fragment\n",
      "5. Calculate the average recalculated identity score: **this is the ANI**"
     ]
    },
    {
     "cell_type": "heading",
     "level": 3,
     "metadata": {},
     "source": [
      "1. Fragment the input files"
     ]
    },
    {
     "cell_type": "markdown",
     "metadata": {},
     "source": [
      "We'll work with the sequence files `NC_022760.fna` (*A. marginale*) and `NC_013532.fna` (*A. centrale*). These are both located in the `data/Anaplasma_chromosomes` subdirectory."
     ]
    },
    {
     "cell_type": "markdown",
     "metadata": {},
     "source": [
      "We'll use a handy function from the `pyani` module, `fragment_FASTA_files()` to chop up our FASTA input files and place them in a directory. We will have to create this directory first with the command `mkdir ex03_fragments`"
     ]
    },
    {
     "cell_type": "code",
     "collapsed": false,
     "input": [
      "# Use shell escapes in this cell\n",
      "!mkdir ex03_fragments"
     ],
     "language": "python",
     "metadata": {},
     "outputs": [],
     "prompt_number": 4
    },
    {
     "cell_type": "markdown",
     "metadata": {},
     "source": [
      "Now we can use the `fragment_FASTA_files()` function twice to create our data for ANIb. To see what the function does, we can use:\n",
      "\n",
      "```python\n",
      "help(anib.fragment_FASTA_files)\n",
      "```\n",
      "\n",
      "And to generate the 1020nt fragment sequences, capturing the output filenames in the variable `fragfilenames`, and a dictionary of fragment lengths in `fraglengths`:\n",
      "\n",
      "```python\n",
      "fragfilenames, fraglengths = anib.fragment_FASTA_files(['data/Anaplasma_chromosomes/NC_022760.fna',\n",
      "                                                        'data/Anaplasma_chromosomes/NC_013532.fna'],\n",
      "                                                        'ex03_fragments', 1020)\n",
      "```"
     ]
    },
    {
     "cell_type": "code",
     "collapsed": false,
     "input": [
      "# Enter code here\n",
      "fragfilenames, fraglengths = anib.fragment_FASTA_files(['data/Anaplasma_chromosomes/NC_022760.fna',\n",
      "                                                        'data/Anaplasma_chromosomes/NC_013532.fna'],\n",
      "                                                        'ex03_fragments', 1020)"
     ],
     "language": "python",
     "metadata": {},
     "outputs": [],
     "prompt_number": 5
    },
    {
     "cell_type": "markdown",
     "metadata": {},
     "source": [
      "If you're curious, you can inspect the subdirectory's new contents, with:\n",
      "\n",
      "```text\n",
      "!ls -ltrh ex03_fragments\n",
      "!head ex03_fragments/*\n",
      "```\n",
      "\n",
      "and the variables with:\n",
      "\n",
      "```python\n",
      "print(fragfilenames)\n",
      "print(fraglengths)\n",
      "```"
     ]
    },
    {
     "cell_type": "code",
     "collapsed": false,
     "input": [
      "# Use shell escapes in this cell\n",
      "!ls -ltrh ex03_fragments\n",
      "!head ex03_fragments/*"
     ],
     "language": "python",
     "metadata": {},
     "outputs": [
      {
       "output_type": "stream",
       "stream": "stdout",
       "text": [
        "total 5192\r\n",
        "-rw-r--r--  1 lpritc  staff   1.2M 11 Mar 13:43 NC_022760-fragments.fna\r\n",
        "-rw-r--r--  1 lpritc  staff   1.3M 11 Mar 13:43 NC_013532-fragments.fna\r\n"
       ]
      },
      {
       "output_type": "stream",
       "stream": "stdout",
       "text": [
        "==> ex03_fragments/NC_013532-fragments.fna <==\r\n",
        ">frag00001 gi|269958255|ref|NC_013532.1| Anaplasma centrale str. Israel chromosome, complete genome\r\n",
        "GTGGGGGGGTTTATGCCTTTAGAACAGCAGACTACTGATAACTCCAATCCTGGGTTGAAA\r\n",
        "AAAAACTCACATGCCAAGGGCGCCAGAGAGCCAAACGATGAGCGTTGGACCACAAACGAT\r\n",
        "AAGGATAAGGTAACAGCTCCGGGTGGCAACCCCGATCCGGATGATAATTCCGAAGAAAAT\r\n",
        "CTCTCCGAACTCAAAAGCCGCATTGCTGTCTTACACAGGGAATTGGTAAACTTGGAAGCC\r\n",
        "AAGCTTGCAACATGCCAGGACGAACAACATGAGGCATTTAACCACTATGTGACGCTGGCA\r\n",
        "TACAAGACCAGAAAAGTCACAGCATGTGTGGCACTATGTGTAATGGTGCTGCTGCTCTGC\r\n",
        "GTATCTACTGCGATACTCATCAAAAATGCGCTGCAAATTTCCAAGGCTTTTGCTCCTGGC\r\n",
        "TTTCTCCGTGGGGTGAAAGCGATTCTTTCTGGCCCGTATCCGCCAGCACTTAAAGTTGCA\r\n",
        "TTCGGCGCGGCCCTACCGCTGCTAATTGGGGTAATTGTCCTAGGATTGTACGTAACGCTT\r\n",
        "\r\n",
        "==> ex03_fragments/NC_022760-fragments.fna <==\r\n",
        ">frag00001 gi|557237421|ref|NC_022760.1| Anaplasma marginale str. Dawn genome\r\n",
        "CATTTTACTACTATATCATTGATGGCAACTGAAAATTGTAAGCCTTAATCTTTGTTCTTG\r\n",
        "TTGATACATACACACCACTATGTTAGCTTGACGGTGCAGCACGTGGTTGCACCTTCTTGG\r\n",
        "TGTAGGTGTCCATAACGCTGCATGAAAAGGTGCCGTTCAGAGGTTGCGCGCGCAATGCGT\r\n",
        "ACGCTTGTTGGACTGTTTCCTACGTAGATCCTGTGTAATCCACTGAGGTTGATGACGCAC\r\n",
        "TGCTCATCAAGCAAGGGGGTTGTTCTTTTTGTTGTGTAATTCAAAACATGGGGGGGTTTA\r\n",
        "TGCCTTTAAAACAGCAGACTACCGATGACTCTGATCTTGAGTCGGAAAAAAACTCACGCA\r\n",
        "CCAAGGGTACCGAAGAGTCCGACAACAAGCATCGGCCTGCAGGAAAAGGTAAGGCAGAAT\r\n",
        "CTCGAGATGGTAGCGCCAACCAGGATTATGGTGCCGACGAAAATCTCACGGCACTCAAAA\r\n",
        "GTCGCATTACCGTTCTACATAGGAAATTGGTACGCCTGGAGAGCGAACTTGCACGATGTC\r\n"
       ]
      }
     ],
     "prompt_number": 6
    },
    {
     "cell_type": "code",
     "collapsed": false,
     "input": [
      "# Enter code in this cell\n",
      "print(fragfilenames)"
     ],
     "language": "python",
     "metadata": {},
     "outputs": [
      {
       "output_type": "stream",
       "stream": "stdout",
       "text": [
        "['ex03_fragments/NC_022760-fragments.fna', 'ex03_fragments/NC_013532-fragments.fna']\n"
       ]
      }
     ],
     "prompt_number": 7
    },
    {
     "cell_type": "heading",
     "level": 3,
     "metadata": {},
     "source": [
      "2. Create BLAST databases from input files"
     ]
    },
    {
     "cell_type": "markdown",
     "metadata": {},
     "source": [
      "The `anib` module provides a useful function to help us generate BLAST database generation commands, called `generate_blastdb_commands()`. You can see what this does by issuing\n",
      "\n",
      "```python\n",
      "help(anib.generate_blastdb_commands)\n",
      "```\n",
      "\n",
      "in a cell. We will use it to generate BLASTN command-lines that can then be run in a terminal window, or in a cell, using the `!` shell escape. To obtain a list of these BLAST commands, which will be placed in the variable `cmdlist`, issue:\n",
      "\n",
      "```python\n",
      "cmdlist = anib.generate_blastdb_commands(['data/Anaplasma_chromosomes/NC_022760.fna',\n",
      "                                          'data/Anaplasma_chromosomes/NC_013532.fna'],\n",
      "                                         'ex03_fragments')\n",
      "print(cmdlist)\n",
      "```\n",
      "\n",
      "and then either run the commands from the current directory in a terminal window, or use shell escapes in an empty cell."
     ]
    },
    {
     "cell_type": "code",
     "collapsed": false,
     "input": [
      "# Enter code here\n",
      "cmdlist = anib.generate_blastdb_commands(['data/Anaplasma_chromosomes/NC_022760.fna',\n",
      "                                          'data/Anaplasma_chromosomes/NC_013532.fna'],\n",
      "                                         'ex03_fragments')\n",
      "print(cmdlist)"
     ],
     "language": "python",
     "metadata": {},
     "outputs": [
      {
       "output_type": "stream",
       "stream": "stdout",
       "text": [
        "['makeblastdb -dbtype nucl -in data/Anaplasma_chromosomes/NC_022760.fna -title NC_022760 -out ex03_fragments/NC_022760.fna', 'makeblastdb -dbtype nucl -in data/Anaplasma_chromosomes/NC_013532.fna -title NC_013532 -out ex03_fragments/NC_013532.fna']\n"
       ]
      }
     ],
     "prompt_number": 8
    },
    {
     "cell_type": "code",
     "collapsed": false,
     "input": [
      "# Use shell escapes here\n",
      "!makeblastdb -dbtype nucl -in data/Anaplasma_chromosomes/NC_022760.fna -title NC_022760 -out ex03_fragments/NC_022760.fna\n",
      "!makeblastdb -dbtype nucl -in data/Anaplasma_chromosomes/NC_013532.fna -title NC_013532 -out ex03_fragments/NC_013532.fna"
     ],
     "language": "python",
     "metadata": {},
     "outputs": [
      {
       "output_type": "stream",
       "stream": "stdout",
       "text": [
        "\r\n",
        "\r\n",
        "Building a new DB, current time: 03/11/2015 13:43:43\r\n",
        "New DB name:   ex03_fragments/NC_022760.fna\r\n",
        "New DB title:  NC_022760\r\n",
        "Sequence type: Nucleotide\r\n",
        "Keep Linkouts: T\r\n",
        "Keep MBits: T\r\n",
        "Maximum file size: 1000000000B\r\n",
        "Adding sequences from FASTA; added 1 sequences in 0.0210078 seconds.\r\n"
       ]
      },
      {
       "output_type": "stream",
       "stream": "stdout",
       "text": [
        "\r\n",
        "\r\n",
        "Building a new DB, current time: 03/11/2015 13:43:43\r\n",
        "New DB name:   ex03_fragments/NC_013532.fna\r\n",
        "New DB title:  NC_013532\r\n",
        "Sequence type: Nucleotide\r\n",
        "Keep Linkouts: T\r\n",
        "Keep MBits: T\r\n",
        "Maximum file size: 1000000000B\r\n",
        "Adding sequences from FASTA; added 1 sequences in 0.0168412 seconds.\r\n"
       ]
      }
     ],
     "prompt_number": 9
    },
    {
     "cell_type": "markdown",
     "metadata": {},
     "source": [
      "If you're curious, you can check the contents of the `ex03_fragments` database to see what has changed, with:\n",
      "\n",
      "```text\n",
      "!ls -ltrh ex03_fragments\n",
      "```\n",
      "\n",
      "There should be three new files for input sequence, ending in `.nsq`, `.nin`, and `.nhr`."
     ]
    },
    {
     "cell_type": "code",
     "collapsed": false,
     "input": [
      "# Use shell escapes here\n",
      "!ls -ltrh ex03_fragments"
     ],
     "language": "python",
     "metadata": {},
     "outputs": [
      {
       "output_type": "stream",
       "stream": "stdout",
       "text": [
        "total 6416\r\n",
        "-rw-r--r--  1 lpritc  staff   1.2M 11 Mar 13:43 NC_022760-fragments.fna\r\n",
        "-rw-r--r--  1 lpritc  staff   1.3M 11 Mar 13:43 NC_013532-fragments.fna\r\n",
        "-rw-r--r--  1 lpritc  staff   296K 11 Mar 13:43 NC_022760.fna.nsq\r\n",
        "-rw-r--r--  1 lpritc  staff    88B 11 Mar 13:43 NC_022760.fna.nin\r\n",
        "-rw-r--r--  1 lpritc  staff   129B 11 Mar 13:43 NC_022760.fna.nhr\r\n",
        "-rw-r--r--  1 lpritc  staff   295K 11 Mar 13:43 NC_013532.fna.nsq\r\n",
        "-rw-r--r--  1 lpritc  staff    88B 11 Mar 13:43 NC_013532.fna.nin\r\n",
        "-rw-r--r--  1 lpritc  staff   151B 11 Mar 13:43 NC_013532.fna.nhr\r\n"
       ]
      }
     ],
     "prompt_number": 10
    },
    {
     "cell_type": "heading",
     "level": 3,
     "metadata": {},
     "source": [
      "3. Run BLASTN comparisons"
     ]
    },
    {
     "cell_type": "markdown",
     "metadata": {},
     "source": [
      "As before, the `anib` module provides a useful function to help us generate BLAST comparison commands, this time called `generate_blastn_commands()`. You can see what this does by issuing\n",
      "\n",
      "```python\n",
      "help(anib.generate_blastn_commands)\n",
      "```\n",
      "\n",
      "in a cell. We will use it to generate BLASTN command-lines that can then be run in a terminal window, or in a cell, using the `!` shell escape. To obtain a list of these BLAST commands, which will be placed in the variable `cmdlist`, issue:\n",
      "\n",
      "```python\n",
      "cmdlist = anib.generate_blastn_commands(fragfilenames, 'ex03_fragments')\n",
      "print(cmdlist)\n",
      "```\n",
      "\n",
      "and then either run the commands from the current directory in a terminal window, or use shell escapes in an empty cell. You will notice errors concerning invalid query sequences or their translations - these can safely be ignored."
     ]
    },
    {
     "cell_type": "code",
     "collapsed": false,
     "input": [
      "# Enter code here\n",
      "cmdlist = anib.generate_blastn_commands(fragfilenames, 'ex03_fragments')\n",
      "print(cmdlist)"
     ],
     "language": "python",
     "metadata": {},
     "outputs": [
      {
       "output_type": "stream",
       "stream": "stdout",
       "text": [
        "[\"blastn -out ex03_fragments/NC_022760_vs_NC_013532.blast_tab -query ex03_fragments/NC_022760-fragments.fna -db ex03_fragments/NC_013532.fna -xdrop_gap_final 150 -dust no -evalue 1e-15 -max_target_seqs 1 -outfmt '6 qseqid sseqid length mismatch pident nident qlen slen qstart qend sstart send positive ppos gaps' -task blastn\", \"blastn -out ex03_fragments/NC_013532_vs_NC_022760.blast_tab -query ex03_fragments/NC_013532-fragments.fna -db ex03_fragments/NC_022760.fna -xdrop_gap_final 150 -dust no -evalue 1e-15 -max_target_seqs 1 -outfmt '6 qseqid sseqid length mismatch pident nident qlen slen qstart qend sstart send positive ppos gaps' -task blastn\"]\n"
       ]
      }
     ],
     "prompt_number": 11
    },
    {
     "cell_type": "code",
     "collapsed": false,
     "input": [
      "# Use shell escapes here\n",
      "!blastn -out ex03_fragments/NC_022760_vs_NC_013532.blast_tab -query ex03_fragments/NC_022760-fragments.fna -db ex03_fragments/NC_013532.fna -xdrop_gap_final 150 -dust no -evalue 1e-15 -max_target_seqs 1 -outfmt '6 qseqid sseqid length mismatch pident nident qlen slen qstart qend sstart send positive ppos gaps' -task blastn\n",
      "!blastn -out ex03_fragments/NC_013532_vs_NC_022760.blast_tab -query ex03_fragments/NC_013532-fragments.fna -db ex03_fragments/NC_022760.fna -xdrop_gap_final 150 -dust no -evalue 1e-15 -max_target_seqs 1 -outfmt '6 qseqid sseqid length mismatch pident nident qlen slen qstart qend sstart send positive ppos gaps' -task blastn"
     ],
     "language": "python",
     "metadata": {},
     "outputs": [
      {
       "output_type": "stream",
       "stream": "stdout",
       "text": [
        "Warning: lcl|Query_16 frag00016 gi|557237421|ref|NC_022760.1| Anaplasma marginale str. Dawn genome: Warning: Could not calculate ungapped Karlin-Altschul parameters due to an invalid query sequence or its translation. Please verify the query sequence(s) and/or filtering options \r\n",
        "Warning: lcl|Query_58 frag00058 gi|557237421|ref|NC_022760.1| Anaplasma marginale str. Dawn genome: Warning: Could not calculate ungapped Karlin-Altschul parameters due to an invalid query sequence or its translation. Please verify the query sequence(s) and/or filtering options \r\n",
        "Warning: lcl|Query_59 frag00059 gi|557237421|ref|NC_022760.1| Anaplasma marginale str. Dawn genome: Warning: Could not calculate ungapped Karlin-Altschul parameters due to an invalid query sequence or its translation. Please verify the query sequence(s) and/or filtering options \r\n",
        "Warning: lcl|Query_69 frag00069 gi|557237421|ref|NC_022760.1| Anaplasma marginale str. Dawn genome: Warning: Could not calculate ungapped Karlin-Altschul parameters due to an invalid query sequence or its translation. Please verify the query sequence(s) and/or filtering options \r\n",
        "Warning: lcl|Query_122 frag00122 gi|557237421|ref|NC_022760.1| Anaplasma marginale str. Dawn genome: Warning: Could not calculate ungapped Karlin-Altschul parameters due to an invalid query sequence or its translation. Please verify the query sequence(s) and/or filtering options \r\n",
        "Warning: lcl|Query_175 frag00175 gi|557237421|ref|NC_022760.1| Anaplasma marginale str. Dawn genome: Warning: Could not calculate ungapped Karlin-Altschul parameters due to an invalid query sequence or its translation. Please verify the query sequence(s) and/or filtering options \r\n",
        "Warning: lcl|Query_228 frag00228 gi|557237421|ref|NC_022760.1| Anaplasma marginale str. Dawn genome: Warning: Could not calculate ungapped Karlin-Altschul parameters due to an invalid query sequence or its translation. Please verify the query sequence(s) and/or filtering options \r\n",
        "Warning: lcl|Query_281 frag00281 gi|5572374"
       ]
      },
      {
       "output_type": "stream",
       "stream": "stdout",
       "text": [
        "21|ref|NC_022760.1| Anaplasma marginale str. Dawn genome: Warning: Could not calculate ungapped Karlin-Altschul parameters due to an invalid query sequence or its translation. Please verify the query sequence(s) and/or filtering options \r\n",
        "Warning: lcl|Query_334 frag00334 gi|557237421|ref|NC_022760.1| Anaplasma marginale str. Dawn genome: Warning: Could not calculate ungapped Karlin-Altschul parameters due to an invalid query sequence or its translation. Please verify the query sequence(s) and/or filtering options \r\n",
        "Warning: lcl|Query_368 frag00368 gi|557237421|ref|NC_022760.1| Anaplasma marginale str. Dawn genome: Warning: Could not calculate ungapped Karlin-Altschul parameters due to an invalid query sequence or its translation. Please verify the query sequence(s) and/or filtering options \r\n",
        "Warning: lcl|Query_387 frag00387 gi|557237421|ref|NC_022760.1| Anaplasma marginale str. Dawn genome: Warning: Could not calculate ungapped Karlin-Altschul parameters due to an invalid query sequence or its translation. Please verify the query sequence(s) and/or filtering options \r\n",
        "Warning: lcl|Query_440 frag00440 gi|557237421|ref|NC_022760.1| Anaplasma marginale str. Dawn genome: Warning: Could not calculate ungapped Karlin-Altschul parameters due to an invalid query sequence or its translation. Please verify the query sequence(s) and/or filtering options \r\n",
        "Warning: lcl|Query_600 frag00600 gi|557237421|ref|NC_022760.1| Anaplasma marginale str. Dawn genome: Warning: Could not calculate ungapped Karlin-Altschul parameters due to an invalid query sequence or its translation. Please verify the query sequence(s) and/or filtering options \r\n"
       ]
      },
      {
       "output_type": "stream",
       "stream": "stdout",
       "text": [
        "Warning: lcl|Query_652 frag00652 gi|557237421|ref|NC_022760.1| Anaplasma marginale str. Dawn genome: Warning: Could not calculate ungapped Karlin-Altschul parameters due to an invalid query sequence or its translation. Please verify the query sequence(s) and/or filtering options \r\n",
        "Warning: lcl|Query_706 frag00706 gi|557237421|ref|NC_022760.1| Anaplasma marginale str. Dawn genome: Warning: Could not calculate ungapped Karlin-Altschul parameters due to an invalid query sequence or its translation. Please verify the query sequence(s) and/or filtering options \r\n",
        "Warning: lcl|Query_759 frag00759 gi|557237421|ref|NC_022760.1| Anaplasma marginale str. Dawn genome: Warning: Could not calculate ungapped Karlin-Altschul parameters due to an invalid query sequence or its translation. Please verify the query sequence(s) and/or filtering options \r\n",
        "Warning: lcl|Query_812 frag00812 gi|557237421|ref|NC_022760.1| Anaplasma marginale str. Dawn genome: Warning: Could not calculate ungapped Karlin-Altschul parameters due to an invalid query sequence or its translation. Please verify the query sequence(s) and/or filtering options \r\n",
        "Warning: lcl|Query_865 frag00865 gi|557237421|ref|NC_022760.1| Anaplasma marginale str. Dawn genome: Warning: Could not calculate ungapped Karlin-Altschul parameters due to an invalid query sequence or its translation. Please verify the query sequence(s) and/or filtering options \r\n"
       ]
      },
      {
       "output_type": "stream",
       "stream": "stdout",
       "text": [
        "Warning: lcl|Query_918 frag00918 gi|557237421|ref|NC_022760.1| Anaplasma marginale str. Dawn genome: Warning: Could not calculate ungapped Karlin-Altschul parameters due to an invalid query sequence or its translation. Please verify the query sequence(s) and/or filtering options \r\n",
        "Warning: lcl|Query_947 frag00947 gi|557237421|ref|NC_022760.1| Anaplasma marginale str. Dawn genome: Warning: Could not calculate ungapped Karlin-Altschul parameters due to an invalid query sequence or its translation. Please verify the query sequence(s) and/or filtering options \r\n",
        "Warning: lcl|Query_971 frag00971 gi|557237421|ref|NC_022760.1| Anaplasma marginale str. Dawn genome: Warning: Could not calculate ungapped Karlin-Altschul parameters due to an invalid query sequence or its translation. Please verify the query sequence(s) and/or filtering options \r\n"
       ]
      },
      {
       "output_type": "stream",
       "stream": "stdout",
       "text": [
        "Warning: lcl|Query_1013 frag01013 gi|557237421|ref|NC_022760.1| Anaplasma marginale str. Dawn genome: Warning: Could not calculate ungapped Karlin-Altschul parameters due to an invalid query sequence or its translation. Please verify the query sequence(s) and/or filtering options \r\n",
        "Warning: lcl|Query_1017 frag01017 gi|557237421|ref|NC_022760.1| Anaplasma marginale str. Dawn genome: Warning: Could not calculate ungapped Karlin-Altschul parameters due to an invalid query sequence or its translation. Please verify the query sequence(s) and/or filtering options \r\n",
        "Warning: lcl|Query_1024 frag01024 gi|557237421|ref|NC_022760.1| Anaplasma marginale str. Dawn genome: Warning: Could not calculate ungapped Karlin-Altschul parameters due to an invalid query sequence or its translation. Please verify the query sequence(s) and/or filtering options \r\n"
       ]
      },
      {
       "output_type": "stream",
       "stream": "stdout",
       "text": [
        "Warning: lcl|Query_1077 frag01077 gi|557237421|ref|NC_022760.1| Anaplasma marginale str. Dawn genome: Warning: Could not calculate ungapped Karlin-Altschul parameters due to an invalid query sequence or its translation. Please verify the query sequence(s) and/or filtering options \r\n",
        "Warning: lcl|Query_1130 frag01130 gi|557237421|ref|NC_022760.1| Anaplasma marginale str. Dawn genome: Warning: Could not calculate ungapped Karlin-Altschul parameters due to an invalid query sequence or its translation. Please verify the query sequence(s) and/or filtering options \r\n"
       ]
      }
     ],
     "prompt_number": 12
    },
    {
     "cell_type": "markdown",
     "metadata": {},
     "source": [
      "If you're curious, you can check the contents of the `ex03_fragments` database to see what has changed, with:\n",
      "\n",
      "```text\n",
      "!ls -ltrh ex03_fragments\n",
      "```\n",
      "\n",
      "There should be two new files, ending in `.blast_tab`. These are tab-separated tabular BLASTN output that can be read into dataframes using `Pandas`. Once processed, these will allow us to calculate the ANI score for our two *Anaplasma* genomes.\n",
      "\n",
      "We will need these filenames in the next step."
     ]
    },
    {
     "cell_type": "code",
     "collapsed": false,
     "input": [
      "# Use shell escape here\n",
      "!ls -ltrh ex03_fragments"
     ],
     "language": "python",
     "metadata": {},
     "outputs": [
      {
       "output_type": "stream",
       "stream": "stdout",
       "text": [
        "total 7216\r\n",
        "-rw-r--r--  1 lpritc  staff   1.2M 11 Mar 13:43 NC_022760-fragments.fna\r\n",
        "-rw-r--r--  1 lpritc  staff   1.3M 11 Mar 13:43 NC_013532-fragments.fna\r\n",
        "-rw-r--r--  1 lpritc  staff   296K 11 Mar 13:43 NC_022760.fna.nsq\r\n",
        "-rw-r--r--  1 lpritc  staff    88B 11 Mar 13:43 NC_022760.fna.nin\r\n",
        "-rw-r--r--  1 lpritc  staff   129B 11 Mar 13:43 NC_022760.fna.nhr\r\n",
        "-rw-r--r--  1 lpritc  staff   295K 11 Mar 13:43 NC_013532.fna.nsq\r\n",
        "-rw-r--r--  1 lpritc  staff    88B 11 Mar 13:43 NC_013532.fna.nin\r\n",
        "-rw-r--r--  1 lpritc  staff   151B 11 Mar 13:43 NC_013532.fna.nhr\r\n",
        "-rw-r--r--  1 lpritc  staff   198K 11 Mar 13:43 NC_022760_vs_NC_013532.blast_tab\r\n",
        "-rw-r--r--  1 lpritc  staff   196K 11 Mar 13:43 NC_013532_vs_NC_022760.blast_tab\r\n"
       ]
      }
     ],
     "prompt_number": 13
    },
    {
     "cell_type": "heading",
     "level": 3,
     "metadata": {},
     "source": [
      "4./5. Process the BLASTN results and calculate ANI"
     ]
    },
    {
     "cell_type": "markdown",
     "metadata": {},
     "source": [
      "Once again, the `anib` module provides a useful function to help us do this, the `parse_blast_tab()` function. You can see what this does by issuing\n",
      "\n",
      "```python\n",
      "help(anib.parse_blast_tab)\n",
      "```\n",
      "\n",
      "in a cell. We will use it to process our BLAST output, and to calculate ANIb for each comparison (remember, we did two comparisons - sequence $A$ against sequence $B$, and there is no reason to expect the results to be the same in each direction). We need to pass two values each time - the BLAST output file, and the dictionary of fragment lengths that we acquired in step 1.\n",
      "\n",
      "To help keep these files and variables in order, we can use the code below to calculate the results.\n",
      "\n",
      "```python\n",
      "data = [('ex03_fragments/NC_022760_vs_NC_013532.blast_tab', fraglengths['NC_022760']),\n",
      "        ('ex03_fragments/NC_013532_vs_NC_022760.blast_tab', fraglengths['NC_013532'])]\n",
      "results = [anib.parse_blast_tab(filename, lendict) for (filename, lendict) in data]\n",
      "print(results)\n",
      "```\n",
      "\n",
      "There may be error messages concerning:\n",
      "\n",
      "`FutureWarning: cols is deprecated, use subset instead`\n",
      "\n",
      "and \n",
      "\n",
      "`A value is trying to be set on a copy of a slice from a DataFrame`\n",
      "\n",
      "these can safely be ignored."
     ]
    },
    {
     "cell_type": "code",
     "collapsed": false,
     "input": [
      "# Enter code here\n",
      "data = [('ex03_fragments/NC_022760_vs_NC_013532.blast_tab', fraglengths['NC_022760']),\n",
      "        ('ex03_fragments/NC_013532_vs_NC_022760.blast_tab', fraglengths['NC_013532'])]\n",
      "results = [anib.parse_blast_tab(filename, lendict) for (filename, lendict) in data]\n",
      "print(results)"
     ],
     "language": "python",
     "metadata": {},
     "outputs": [
      {
       "output_type": "stream",
       "stream": "stdout",
       "text": [
        "[(857130, 106953, 87.536494252873496), (856643, 107582, 87.427781609195449)]\n"
       ]
      },
      {
       "output_type": "stream",
       "stream": "stderr",
       "text": [
        "/Library/Python/2.7/site-packages/pandas-0.13.1_642_gf7205b5-py2.7-macosx-10.9-intel.egg/pandas/util/decorators.py:53: FutureWarning: cols is deprecated, use subset instead\n",
        "  warnings.warn(msg, FutureWarning)\n",
        "/Library/Python/2.7/site-packages/pandas-0.13.1_642_gf7205b5-py2.7-macosx-10.9-intel.egg/pandas/util/decorators.py:60: SettingWithCopyWarning: A value is trying to be set on a copy of a slice from a DataFrame\n",
        "  return func(*args, **kwargs)\n"
       ]
      }
     ],
     "prompt_number": 14
    },
    {
     "cell_type": "markdown",
     "metadata": {},
     "source": [
      "The `parse_blast_tab()` function has returned three values:\n",
      "\n",
      "* alignment length - the total length of sequence aligned between the two genomes\n",
      "* \"similarity errors\" - the number of mismatches, insertions and deletions in the alignments\n",
      "* the ANIb value, calculates as in Goris et al. (2007)\n",
      "\n",
      "**What value of ANIb do you get? Is it the same for both comparisons? Does it support classification of these organisms as different species?**"
     ]
    },
    {
     "cell_type": "code",
     "collapsed": false,
     "input": [],
     "language": "python",
     "metadata": {},
     "outputs": [],
     "prompt_number": 14
    }
   ],
   "metadata": {}
  }
 ]
}