{
 "metadata": {
  "name": "",
  "signature": "sha256:511be58baf51243f321b00cbc2be6634dbb148657896fb19011af6ca9d0f0622"
 },
 "nbformat": 3,
 "nbformat_minor": 0,
 "worksheets": [
  {
   "cells": [
    {
     "cell_type": "heading",
     "level": 1,
     "metadata": {},
     "source": [
      "*Phytophthora infestans* Two-speed Genome  <img src=\"files/JHI_STRAP_Web.png\" style=\"width: 150px; float: right;\"> "
     ]
    },
    {
     "cell_type": "code",
     "collapsed": false,
     "input": [
      "%pylab inline"
     ],
     "language": "python",
     "metadata": {},
     "outputs": []
    },
    {
     "cell_type": "heading",
     "level": 2,
     "metadata": {},
     "source": [
      "Introduction"
     ]
    },
    {
     "cell_type": "markdown",
     "metadata": {},
     "source": [
      "The aim of this iPython notebook is to demonstrate\n",
      "\n",
      "1. handling and processing of slightly atypical genome data, of the sort you might receive from collaborators in typical genome project, or supplementary information in a genome project publication\n",
      "2. emulation of a published figure, in this case figure 2 from the *Phytophthora infestans* genome paper [Haas *et al.* (2009)](http://dx.doi.org/10.1038/nature08358) (below)."
     ]
    },
    {
     "cell_type": "markdown",
     "metadata": {},
     "source": [
      "<center>\n",
      "<img src=\"files/pi_two_speed.png\" style=\"width: 400px;\" alt=\"Figure 2 from Phytophthora infestans genome paper\"><br /></center>\n",
      "**Figure 2** from the *Phytophthora infestans* genome paper [Haas *et al.* (2009)](http://dx.doi.org/10.1038/nature08358). The flanking distance between neighbouring genes provides a measurement of local gene density. *P. infestans* genes were sorted into two dimensional bins on the basis of the lengths of flanking intergenic distances to neighbouring genes at their 5' and 3' ends. a\u2013h, The number of genes in each bin is shown as a colour-coded heat map on orthogonal projection "
     ]
    },
    {
     "cell_type": "markdown",
     "metadata": {},
     "source": [
      "The general preparation of 2D histograms (a common graphics function in many different data analysis environments) from flanking region sizes, is also discussed in this context for the statistical language `R` in Chapter 3 of [this book](http://www.springer.com/life+sciences/plant+sciences/book/978-1-62703-985-7) in the Springer *Methods in Molecular Biology* series. However you have to pay to read that, while this notebook is free. \n",
      "\n",
      "Also, that chapter uses `R` to render the figures, which is lovely and all but\u2026 this is Python!"
     ]
    },
    {
     "cell_type": "heading",
     "level": 2,
     "metadata": {},
     "source": [
      "Python imports"
     ]
    },
    {
     "cell_type": "markdown",
     "metadata": {},
     "source": [
      "As is usual for Python (and other programming languages), we need to import some modules that help us perform specific tasks. In this case, we import modules for processing sequence data, using dataframes (as if we were in `R`), and exploiting the benefits of `pylab`. We also do some image size housekeeping to make figures larger than the usual default."
     ]
    },
    {
     "cell_type": "code",
     "collapsed": false,
     "input": [
      "# Use Biopython sequence parsers\n",
      "from Bio import SeqIO\n",
      "\n",
      "# Use pandas dataframes\n",
      "import pandas as pd\n",
      "\n",
      "# Make images/figures larger by default\n",
      "rcParams['savefig.dpi'] = 2 * rcParams['savefig.dpi']"
     ],
     "language": "python",
     "metadata": {},
     "outputs": []
    },
    {
     "cell_type": "heading",
     "level": 2,
     "metadata": {},
     "source": [
      "Preparing the datasets (optional)"
     ]
    },
    {
     "cell_type": "markdown",
     "metadata": {},
     "source": [
      "*P. infestans* data files used to generate the data for this notebook can be obtained from [the Broad Institute site](http://www.broadinstitute.org/annotation/genome/phytophthora_infestans/MultiHome.html). Clicking the links below should download the relevant data into a local directory for you. You will probably still need to move them into the current directory (the one containing this notebook), yourself.\n",
      "\n",
      "* [Supercontigs, in FASTA format](http://www.broadinstitute.org/annotation/genome/phytophthora_infestans/download/?sp=EASupercontigsFasta&sp=SPI_T30-4&sp=S.zip)\n",
      "* [Transcript annotations, in `.gtf` format](http://www.broadinstitute.org/annotation/genome/phytophthora_infestans/download/?sp=EATranscriptsGtf&sp=SPI_T30-4&sp=S.zip)\n",
      "\n",
      "***NOTE:*** For convenience, in this repository the processed data is already provided for you as the files `gene_regions.bed` and `supercontigs.genome` in the `data` directory, so you do not need to download the larger datasets from the Broad, if you wish not to."
     ]
    },
    {
     "cell_type": "heading",
     "level": 3,
     "metadata": {},
     "source": [
      "Generating files for `bedtools` (optional)"
     ]
    },
    {
     "cell_type": "markdown",
     "metadata": {},
     "source": [
      "The overall goal is to use `bedtools` to identify the up- and down-stream (5' and 3') distances to the next feature, at the command-line.\n",
      "\n",
      "Since we're going to use `bedtools` to process our gene feature files and these packages don't understand `.gtf` format files, if we start from the data downloaded from the Broad Institute, we have to convert the `.gtf` file to a `.bed` format (in this case BED6) file, suitable for use with `bedtools` applications.\n",
      "\n",
      "* [GTF file format specification](http://www.ensembl.org/info/website/upload/gff.html)\n",
      "* [BED file format specification](http://genome.ucsc.edu/FAQ/FAQformat.html#format1)\n",
      "\n",
      "The code below implements a dumb and fragile parser to process gene features in a `.gtf` file to genomic regions (defined as the sequence between the first base of the start codon, and the last base of the stop codon) and write them to the `.bed` file `gene_regions.bed`.\n",
      "\n",
      "**NOTE:** You don't need to use this code, unless you really want to, as the output file `gene_regions.bed` is provided for you in the `data` subdirectory. The code below is the code that was used to generate the file."
     ]
    },
    {
     "cell_type": "code",
     "collapsed": false,
     "input": [
      "# This parser is VERY FRAGILE, as it assumes:\n",
      "# - all gene features have a start and stop codon\n",
      "#\u00a0- in all cases, the start_codon occurs before the stop_codon\n",
      "def gtf_to_bed(infile, outfile):\n",
      "    with open(infile, 'rU') as fh:\n",
      "        with open(outfile, 'w') as oh:\n",
      "            for line in fh:\n",
      "                data = line.split()\n",
      "                strand = data[6]            \n",
      "                if data[2] == 'start_codon':\n",
      "                    if strand == '+':\n",
      "                        start = int(data[3])\n",
      "                    else:\n",
      "                        start = int(data[4])\n",
      "                elif data[2] == 'stop_codon':\n",
      "                    if strand == '+':\n",
      "                        stop = int(data[4])\n",
      "                    else:\n",
      "                        stop = int(data[3])\n",
      "                    genome = data[0]\n",
      "                    name = data[9].replace('\"','')[:-1]\n",
      "                    # At least one feature lacks a start codon in the \n",
      "                    # .gtf file; this if statement and None assignment\n",
      "                    # works around that problem.\n",
      "                    if start is not None:\n",
      "                        oh.write(\"\\t\".join([genome, str(min(start, stop)),\n",
      "                                            str(max(start, stop)), name,\n",
      "                                            \"0\", strand]) + \"\\n\")\n",
      "                    start, stop, name, strand = None, None, None, None\n",
      "\n",
      "# Name the input and output files                    \n",
      "feature_file = \"data/phytophthora_infestans_t30-4_1_transcripts.gtf\"\n",
      "output_file = \"data/gene_regions.bed\""
     ],
     "language": "python",
     "metadata": {},
     "outputs": []
    },
    {
     "cell_type": "code",
     "collapsed": false,
     "input": [
      "# Uncomment the line below to convert the GTF file to a suitable BED file\n",
      "#gtf_to_bed(feature_file, output_file)                    "
     ],
     "language": "python",
     "metadata": {},
     "outputs": []
    },
    {
     "cell_type": "markdown",
     "metadata": {},
     "source": [
      "To use the `bedtools` programs we need for this process, it is also necessary for us to create a `.genome` file with the lengths of each supercontig, which can be done using the function below, as shown. To do this we can just read in the sequences for each supercontig (with Biopython's `SeqIO` module), calculate the length of each sequence, and write the information out to a file. This is done by the code below.\n",
      "\n",
      "**NOTE:** You don't need to use this code, unless you really want to, as the output file `supercontigs.genome` is provided for you in the `data` subdirectory."
     ]
    },
    {
     "cell_type": "code",
     "collapsed": false,
     "input": [
      "def fasta_to_genome(infile, outfile):\n",
      "    \"\"\" Reads the passed FASTA (multiple) sequence file and writes\n",
      "        a bedtools compatible genome file with two columns: column 1\n",
      "        indicates sequence name, and column 2 sequence length.\n",
      "    \"\"\"\n",
      "    with open(outfile, 'w') as oh:\n",
      "        for s in SeqIO.parse(infile, 'fasta'):\n",
      "            oh.write(\"\\t\".join([s.id, str(len(s))]) + '\\n')\n",
      "\n",
      "# Name input and output files            \n",
      "supercontig_file = \"data/phytophthora_infestans_t30-4_1_supercontigs.fasta\"\n",
      "output_file = \"data/supercontigs.genome\""
     ],
     "language": "python",
     "metadata": {},
     "outputs": []
    },
    {
     "cell_type": "code",
     "collapsed": false,
     "input": [
      "# Uncomment the line below to create .genome file\n",
      "#fasta_to_genome(supercontig_file, output_file)"
     ],
     "language": "python",
     "metadata": {},
     "outputs": []
    },
    {
     "cell_type": "heading",
     "level": 3,
     "metadata": {},
     "source": [
      "Identifying gene flanking regions with `bedtools` (optional)"
     ]
    },
    {
     "cell_type": "markdown",
     "metadata": {},
     "source": [
      "Once we have the `.bed` file representing gene features and `.genome` file representing supercontig lengths are created, the intervals between features can be identified and associated with each gene feature. We do this using `bedtools` at the command-line."
     ]
    },
    {
     "cell_type": "markdown",
     "metadata": {},
     "source": [
      "The general approach is to\n",
      "\n",
      "1. From the `gene_regions.bed` file containing gene locations, and the `supercontigs.genome` file containing supercontig lengths, identify the supercontig regions that lie between the gene features.\n",
      "2. For each of the gene features, find which regions flank that feature.\n",
      "\n",
      "We do this using two `bedtools` tools. Firstly, [`complement`](http://bedtools.readthedocs.org/en/latest/content/tools/complement.html), which performs the calculation described in the glyph below.\n",
      "<center>\n",
      "<img src=\"files/complement-glyph.png\" style=\"width: 400px;\" alt=\"The action of the bedtools complement tool\"><br /></center>\n",
      "This gives us a set of regions on the supercontig corresponding to the regions between gene features annotated in the `gene_regions.bed` file - we'll place this into the `intervals.bed` output file.\n",
      "\n",
      "Then, [`closest`](http://bedtools.readthedocs.org/en/latest/content/tools/closest.html) will be used to identify which of those flanking regions are located next to the gene features in `gene_regions.bed`."
     ]
    },
    {
     "cell_type": "heading",
     "level": 3,
     "metadata": {},
     "source": [
      "Running `bedtools` at the command-line (optional)"
     ]
    },
    {
     "cell_type": "markdown",
     "metadata": {},
     "source": [
      "To do this at the command line, first use `bedtools complement` to identify the intervals between gene features:\n",
      "\n",
      "```\n",
      "bedtools complement -i data/gene_regions.bed -g data/supercontigs.genome > data/intervals.bed\n",
      "```\n",
      "\n",
      "Then use `bedtools closest` to identify the adjacent interval regions (these all overlap the gene features by the same amount, so both up and downstream intervals are reported for each gene region):\n",
      "\n",
      "```\n",
      "bedtools closest -a data/gene_regions.bed -b data/intervals.bed > data/flanking_regions.tab\n",
      "```\n",
      "\n",
      "***NOTE:*** the output files `intervals.bed` and `flanking_regions.tab` should already be provided for you in the `data` subdirectory, as `bedtools` may not be installed by default on your system."
     ]
    },
    {
     "cell_type": "heading",
     "level": 2,
     "metadata": {},
     "source": [
      "Calculate gene-flanking region lengths"
     ]
    },
    {
     "cell_type": "markdown",
     "metadata": {},
     "source": [
      "We use `pandas` dataframes to read in the flanking region data from the `bedtools` output files. Once loaded into the variable `data`, we then calculate the lengths of the upstream and downstream flanking regions for each feature, (for which also decide whether each flanking region is upstream or downstream), as we will need this information to plot the figure."
     ]
    },
    {
     "cell_type": "code",
     "collapsed": false,
     "input": [
      "# We neither have a header row, nor use indexing in the input file,\n",
      "# so specify this when reading the file, using the header and\n",
      "# index_col arguments\n",
      "data = pd.DataFrame.from_csv(\"data/flanking_regions.tab\", sep=\"\\t\",\n",
      "                             header=None, index_col=None)\n",
      "# Assign column names\n",
      "data.columns = ['supercontig', 'ft_start', 'ft_end', 'ft_name', 'score',\n",
      "                'strand', 'sc', 'flank_start', 'flank_end']\n",
      "\n",
      "# Calculate flanking region lengths\n",
      "data['flank_len'] = data['flank_end'] - data['flank_start']\n",
      "\n",
      "# Identify upstream and downstream flanks\n",
      "def assign_side(s):\n",
      "    strand, flank_start, ft_start = s['strand'], s['flank_start'], s['ft_start']\n",
      "    if strand == '+':\n",
      "        if flank_start < ft_start:\n",
      "            return 'upstream'\n",
      "        else:\n",
      "            return 'downstream'\n",
      "    else:\n",
      "        if flank_start > ft_start:\n",
      "            return 'upstream'\n",
      "        else:\n",
      "            return 'downstream' \n",
      "data['side'] = data.apply(assign_side, axis=1)        "
     ],
     "language": "python",
     "metadata": {},
     "outputs": []
    },
    {
     "cell_type": "markdown",
     "metadata": {},
     "source": [
      "Using the `pandas` module gives us lots of useful toos for data visualisation and inspection. We can use the `.head()` method to inspect the data in our variable `data` to make sure that it looks OK:"
     ]
    },
    {
     "cell_type": "code",
     "collapsed": false,
     "input": [
      "data.head()"
     ],
     "language": "python",
     "metadata": {},
     "outputs": []
    },
    {
     "cell_type": "markdown",
     "metadata": {},
     "source": [
      "`pandas` also gives us functions that allow us to \"melt\" the data table so that we have a new dataframe with only three columns: the feature name, and the up- and downstream flanking region lengths. This is done for simplicity, and will be especially useful when plotting, later. We place the new dataframe in the variable `flank_lens`."
     ]
    },
    {
     "cell_type": "code",
     "collapsed": false,
     "input": [
      "# Create an index for the upstream and downstream rows of the dataframe.\n",
      "# This is how rows will be selected for the upstream and downstream \n",
      "# flanking regions.\n",
      "upstream_idx = data.side.isin(['upstream'])\n",
      "downstream_idx = data.side.isin(['downstream'])\n",
      "\n",
      "# Create upstream and downstream dataframes, using the \n",
      "# indices we generated above.\n",
      "upstream = data[upstream_idx][['ft_name', 'flank_len']]\n",
      "upstream.columns = ['ft_name', 'upstream']\n",
      "downstream = data[downstream_idx][['ft_name', 'flank_len']]\n",
      "downstream.columns = ['ft_name', 'downstream']\n",
      "\n",
      "# Merge the dataframes into a single object\n",
      "flank_lens = upstream.merge(downstream, on='ft_name')"
     ],
     "language": "python",
     "metadata": {},
     "outputs": []
    },
    {
     "cell_type": "markdown",
     "metadata": {},
     "source": [
      "And inspecting the new dataframe `flank_lens` to make sure it contains what we want:"
     ]
    },
    {
     "cell_type": "code",
     "collapsed": false,
     "input": [
      "flank_lens.head()"
     ],
     "language": "python",
     "metadata": {},
     "outputs": []
    },
    {
     "cell_type": "markdown",
     "metadata": {},
     "source": [
      "By inspection of this table, and that we saw for the `data` dataframe, we can see that we have the correct data, corresponding to the upstream and downstream flanking region lengths for each gene region."
     ]
    },
    {
     "cell_type": "heading",
     "level": 2,
     "metadata": {},
     "source": [
      "Plot flanking region lengths"
     ]
    },
    {
     "cell_type": "markdown",
     "metadata": {},
     "source": [
      "Now that we have the up- and downstream flanking region lengths, we can have a first attempt at plotting them to see if they resemble the published figure (below).\n",
      "\n",
      "<center>\n",
      "<img src=\"files/pi_two_speed.png\" style=\"width: 200px;\" alt=\"Figure 2 from Phytophthora infestans genome paper\"><br /></center>"
     ]
    },
    {
     "cell_type": "heading",
     "level": 3,
     "metadata": {},
     "source": [
      "Previsualisation with a scatter plot"
     ]
    },
    {
     "cell_type": "markdown",
     "metadata": {},
     "source": [
      "Before we generate a heatmap, we can try plotting the individual locations of flanking regions in a scatterplot, to get a feel for the data (which is usually a good idea). "
     ]
    },
    {
     "cell_type": "code",
     "collapsed": false,
     "input": [
      "# In this example we're using the idiom of creating a Figure object\n",
      "# with subplots, but there's more than one way to do it. We'll use a\n",
      "# different method below. \n",
      "# The advantage with explicitly creating a Figure, as here, is \n",
      "# that we get a little more control over presentation, such as by \n",
      "# using figsize to control the aspect ratio.\n",
      "fig, ax = plt.subplots(figsize=(5,5))      # Create a new Figure object, with axes 'ax'\n",
      "# Plot the upstream (x) and downstream (y) column values of flank_lens\n",
      "# as a scatterplot. 'alpha' is an argument controlling transparency of \n",
      "# plotted points\n",
      "ax.scatter(log2(flank_lens.upstream), log2(flank_lens.downstream), alpha=0.2)\n",
      "ax.set_xlim(0, 20)           # set x-axis scale\n",
      "ax.set_ylim(0, 20)           # set y-axis scale\n",
      "ax.set_xlabel(\"upstream\")    # set x-axis label\n",
      "ax.set_ylabel(\"downstream\")  # set y-axis label\n",
      "ax.set_title(\"Scatterplot of downstream against upstream flanking region lengths\");"
     ],
     "language": "python",
     "metadata": {},
     "outputs": []
    },
    {
     "cell_type": "markdown",
     "metadata": {},
     "source": [
      "At first glance, this seems to correspond quite well to the general distribution of data in Figure 2 from the paper, as seen above. There is a dense region of points in the centre of the plot, and an extra 'square' of points, off to the top right of this population."
     ]
    },
    {
     "cell_type": "heading",
     "level": 3,
     "metadata": {},
     "source": [
      "Plotting a 2D histogram"
     ]
    },
    {
     "cell_type": "markdown",
     "metadata": {},
     "source": [
      "The code below is a function that will show a 2D histogram when passed a `pandas` dataframe with columns named `upstream` and `downstream` as the argument `d`. The function has a number of other arguments which help control presentation of the histogram:\n",
      "\n",
      "* t: String - the plot title\n",
      "* interpolation: String - the pixel interpolation method to use\n",
      "* cmap: String - the colormap to use for showing data - `pylab` provides a number of alternatives\n",
      "* vmin: Float - the smallest value to be rendered on the colour scale; setting this larger than 0 means that zero values show as white, with the `jet` colormap\n",
      "* vmax: Float - the largest value on the colour scale\n",
      "* ax: Axis - the axis to draw the image in, if you want to put the figure in a subplot\n",
      "* ylab: Boolean - do or do not label the y-axis (useful for controlling subplot presentation)\n",
      "* doscatter: Boolean - if True, overlay data points as a scatterplot\n"
     ]
    },
    {
     "cell_type": "code",
     "collapsed": false,
     "input": [
      "def plot_two_speed(d, t=\"\", b=50, interpolation='nearest',\n",
      "                   cmap='terrain', vmin=0.01, vmax=None, ax=None,\n",
      "                   ylab=True, doscatter=False, sc='r'):\n",
      "    \"\"\" Renders a 2D histogram of upstream and downstream \n",
      "        flanking region lengths\n",
      "        \n",
      "        - data: a Pandas DataFrame with columns named 'upstream' and 'downstream'\n",
      "        - t: a string, the plot title\n",
      "        - interpolation, the pixel interpolation method to use\n",
      "        - cmap, the colour map to use\n",
      "        - vmin, the smallest value on the colour scale\n",
      "        - vmax, the largest value on the colour scale\n",
      "        - ax, the axis to draw the image in\n",
      "        - ylab, Boolean - do or do not label the y-axis\n",
      "        - doscatter, Boolean - if True, overlay points as a scatterplot\n",
      "    \"\"\"\n",
      "    my_cmap = get_cmap(cmap)\n",
      "    my_cmap.set_under('w')\n",
      "    maxval = ceil(max(max(log2(d.upstream)), max(log2(d.downstream))))\n",
      "    H, xedges, yedges = histogram2d(log2(d.upstream), log2(d.downstream),\n",
      "                                    bins=b, range=[[0, maxval],[0, maxval]])\n",
      "    if ax:  # Render in the passed axis; no colorbar or title\n",
      "        im = ax.imshow(H, interpolation=interpolation, origin='low', \n",
      "                        extent=[0, xedges[-1], 0, yedges[-1]],\n",
      "                        vmin=vmin, vmax=vmax, cmap=my_cmap)\n",
      "        ax.set_xlabel(\"upstream\")\n",
      "        if ylab:\n",
      "            ax.set_ylabel(\"downstream\")\n",
      "        if doscatter:\n",
      "            ax.scatter(log2(d.upstream), log2(d.downstream), c=sc, alpha=0.5)\n",
      "        ax.set_title(t)\n",
      "    else:  # Render inline\n",
      "        imshow(H, interpolation=interpolation, origin='low', \n",
      "               extent=[0, xedges[-1], 0, yedges[-1]],\n",
      "               vmin=vmin, vmax=vmax, cmap=my_cmap)\n",
      "        colorbar()\n",
      "        xlabel(\"upstream\")\n",
      "        ylabel(\"downstream\")\n",
      "        title(t);\n",
      "        if doscatter:\n",
      "            scatter(log2(d.upstream), log2(d.downstream), c=sc, alpha=0.5)"
     ],
     "language": "python",
     "metadata": {},
     "outputs": []
    },
    {
     "cell_type": "markdown",
     "metadata": {},
     "source": [
      "To use the function, just call it with an appropriate dataset. An appropriate dataset is a `pandas` dataframe one with columns named 'upstream' and 'downstream', where those columns contain numerical data - such as the gene region flanking lengths we generated earlier in `flank_lens`. We can plot this, below (with various options for controlling presentation):"
     ]
    },
    {
     "cell_type": "code",
     "collapsed": false,
     "input": [
      "plot_two_speed(flank_lens, \"2D histogram of downstream against upstream flanking region lengths\",\n",
      "               interpolation='nearest', b=55, vmax=85, cmap='jet');"
     ],
     "language": "python",
     "metadata": {},
     "outputs": []
    },
    {
     "cell_type": "markdown",
     "metadata": {},
     "source": [
      "Although the colour scheme doesn't match exactly, this seems to be a reasonable facsimile of the published Figure 2, part (a), below.\n",
      "\n",
      "<center>\n",
      "<img src=\"files/pi_two_speed.png\" style=\"width: 200px;\" alt=\"Figure 2 from Phytophthora infestans genome paper\"><br /></center>"
     ]
    },
    {
     "cell_type": "markdown",
     "metadata": {},
     "source": [
      "As a scientist, a reasonable question that might occur to you could be \"how much does our interpretation of this figure depend on our choice of visualisation parameters?\" Now that we have the function `plot_two_speed()`, we can test this directly by plotting the same data with different choices of presentation options, and we do this below."
     ]
    },
    {
     "cell_type": "heading",
     "level": 3,
     "metadata": {},
     "source": [
      "Choice of Colourmap"
     ]
    },
    {
     "cell_type": "markdown",
     "metadata": {},
     "source": [
      "Firstly, let's compare the effect of changing colormaps. Lists of colormap values available in the notebook can be found online, e.g.\n",
      "\n",
      "* [Matplotlib documentation](http://wiki.scipy.org/Cookbook/Matplotlib/Show_colormaps)\n",
      "* [colormaps reference](http://matplotlib.org/examples/color/colormaps_reference.html)\n",
      "\n",
      "from which you should be able to see that there's quite a wide range of choices. It is also possible to define your own colormap, but we won't do that in this notebook.\n",
      "\n",
      "Colormaps for use with quantitative data come in two broad classes: those where there is a smooth gradation of colour as values change, and those where there are sharp discontinuities of colour at various points. The choice has a significant effect on our interpretation of data value distributions in heatmaps such as these.\n",
      "\n",
      "A more detailed discussion of the issues (which may be quite subtle, at times) can be read in [Gehlenborg & Wong (2012) doi:10.1038/nmeth.2134](http://dx.doi.org/10.1038/nmeth.2134)."
     ]
    },
    {
     "cell_type": "code",
     "collapsed": false,
     "input": [
      "# Make a figure with one row and three columns\n",
      "fig, (ax1, ax2, ax3) = plt.subplots(1, 3)\n",
      "\n",
      "# Use different colour schemes in each axis:\n",
      "for ax, c, yl in [(ax1, 'binary', True), (ax2, 'jet', False), (ax3, 'Set3', False)]:\n",
      "    plot_two_speed(flank_lens, c,\n",
      "                   interpolation='nearest', b=55, vmax=None, cmap=c, ax=ax,\n",
      "                   ylab=yl);"
     ],
     "language": "python",
     "metadata": {},
     "outputs": []
    },
    {
     "cell_type": "markdown",
     "metadata": {},
     "source": [
      "Our colourscheme on the left is `'binary'`, i.e. black points indicate large values, and grade smoothly to white for smaller values. The `'jet'` colour scheme in the middle does not have this property, but has arbitrary colour boundaries. Finally, the `'Set3'` colourmap also has arbitrary colour boundaries, but makes a different choice as to where those boundaries lie.\n",
      "\n",
      "The appropriate choice of colourmap depends on context, but if we wanted to count the number of distinct high-value regions, or gauge the area covered by the highest-valued peak, we would possibly gain a different impression from each of these three choices. In particular, there appear to be three clear peaks (in red) under '`Set3`' colouring, but not under the other two schemes. The extent of the highest-value peak also differs between the three figures. They all differ from the published figure."
     ]
    },
    {
     "cell_type": "heading",
     "level": 3,
     "metadata": {},
     "source": [
      "Choice of Bin Size"
     ]
    },
    {
     "cell_type": "markdown",
     "metadata": {},
     "source": [
      "Next, for the same colour scheme, what happens if we change the histogram's bin size, allowing colourmap scale to vary with maximum bin count?\n",
      "\n",
      "The central issue here is that the bin size determines both the locations and boundaries of the bins, and how many datapoints lie within those bins. For some statistical analyses, there may be a minimum usable number of counts per bin to ensure applicability of the analysis, so that may place a restriction on your choice for representation. \n",
      "\n",
      "In the absence of such a restriction, choice of binsize will affect both the extent of 'fragmentation' of the image, and the way your data interacts with the colormap, potentially giving the impression of boundary lines where there are none, especially in rectilinear bins ([hexagonal bins](http://matplotlib.org/examples/pylab_examples/hexbin_demo.html) are an option available in iPython)."
     ]
    },
    {
     "cell_type": "code",
     "collapsed": false,
     "input": [
      "# Make a figure with one row and three columns\n",
      "fig, (ax1, ax2, ax3) = plt.subplots(1, 3)\n",
      "\n",
      "# Use different bin size in each axis:\n",
      "for ax, b, yl in [(ax1, 30, True), (ax2, 55, False), (ax3, 100, False)]:\n",
      "    plot_two_speed(flank_lens, str(b),\n",
      "                   interpolation='nearest', b=b, vmax=None, cmap='jet', ax=ax,\n",
      "                   ylab=yl);"
     ],
     "language": "python",
     "metadata": {},
     "outputs": []
    },
    {
     "cell_type": "markdown",
     "metadata": {},
     "source": [
      "Perhaps the most obvious visible difference is the level of granularity of the plots. For the smallest binsize (greatest number of bins) we might get the impression that we see individual datapoints, and that the edges of the area with data have a bit more 'apparent' detail. \n",
      "\n",
      "Also, as bin size falls, the extent of the highest-value peak changes, and appears to split into more than one subpeak (two red points, rather than one). In addition, the secondary peaks in the 'expanded genome' area also become more distinct.\n",
      "\n",
      "As with colourmap, binsize is pretty much a subjective choice for presentation purposes, but can affect the viewer's interpretation. It does however impact on statistical analyses if there are very small counts in the bins."
     ]
    },
    {
     "cell_type": "heading",
     "level": 3,
     "metadata": {},
     "source": [
      "Choice of Colourmap Cutoff Values"
     ]
    },
    {
     "cell_type": "markdown",
     "metadata": {},
     "source": [
      "The choice of cutoff value can make a large visual difference, especially for colourmaps with arbitrary colour boundaries. What happens with our data if we keep the bin size the same, but vary the cutoff point for the colormap?\n",
      "\n",
      "The 2D histogram function we use makes an automatic decision about the lower and upper values assigned to the colormap, but we can easily override this if we want to. It is intuitive to see that if the upper limit of the colormap is set below the largest value in the data, the apparent extent of 'large' values will increase; also, if the upper limit of the colormap is set above this level, the extent of those values diminishes. We can see this in the plots below."
     ]
    },
    {
     "cell_type": "code",
     "collapsed": false,
     "input": [
      "# Make a figure with one row and three columns\n",
      "fig, (ax1, ax2, ax3) = plt.subplots(1, 3)\n",
      "\n",
      "# Use different bin size in each axis:\n",
      "for ax, v, yl in [(ax1, 60, True), (ax2, 85, False), (ax3, None, False)]:\n",
      "    plot_two_speed(flank_lens, str(v),\n",
      "                   interpolation='nearest', b=50, vmax=v, cmap='jet', ax=ax,\n",
      "                   ylab=yl);"
     ],
     "language": "python",
     "metadata": {},
     "outputs": []
    },
    {
     "cell_type": "markdown",
     "metadata": {},
     "source": [
      "As might be expected, if we reduce the upper value limit on the colourmap, the high-value areas appear to expand in size - and if we raise the limit, they appear to get smaller. The data has not, however, changed."
     ]
    },
    {
     "cell_type": "heading",
     "level": 3,
     "metadata": {},
     "source": [
      "Choice of Interpolation Method"
     ]
    },
    {
     "cell_type": "markdown",
     "metadata": {},
     "source": [
      "Finally, for the same colour scheme and bin size what happens if we change the rendering interpolation setting, to remove the obvious split between bins? \n",
      "\n",
      "Interpolations essentially create 'fake' values that don't exist in your data, in order to smooth out the data representation. There are many different algorithms to do this, but the common theme is that the create pixels that lie between those that truly represent the plotted data, and then apply arithmetical rules to calculate what colour they should be."
     ]
    },
    {
     "cell_type": "code",
     "collapsed": false,
     "input": [
      "# Make a figure with one row and three columns\n",
      "fig, (ax1, ax2, ax3) = plt.subplots(1, 3)\n",
      "\n",
      "# Use different bin size in each axis:\n",
      "for ax, inter, yl in [(ax1, 'bilinear', True), (ax2, 'bicubic', False), (ax3, 'nearest', False)]:\n",
      "    plot_two_speed(flank_lens, inter,\n",
      "                   interpolation=inter, b=50, vmax=85, cmap='jet', ax=ax,\n",
      "                   ylab=yl);"
     ],
     "language": "python",
     "metadata": {},
     "outputs": []
    },
    {
     "cell_type": "markdown",
     "metadata": {},
     "source": [
      "None of these settings produces an image that exactly matches that used in the original publication.\n",
      "\n",
      "For this representational choice, it is arguable whether there is any real difference in interpretation of the resulting plots, though it is possible that you - or a journal editor - will prefer one particular output."
     ]
    },
    {
     "cell_type": "heading",
     "level": 2,
     "metadata": {},
     "source": [
      "Plotting RxLR and CRN locations"
     ]
    },
    {
     "cell_type": "markdown",
     "metadata": {},
     "source": [
      "Unfortunately, the `.gtf` file from the Broad Institute does not contain useful information about effector classifications, such as membership of the RxLR or Crinkler (CRN) effector families. However, the [supplementary information from the *Nature* paper](http://www.nature.com/nature/journal/v461/n7262/suppinfo/nature08358.html) does provide this information in the files:\n",
      "\n",
      "* [Sequences classified as RxLR effectors](http://www.nature.com/nature/journal/v461/n7262/extref/nature08358-s5.xls)\n",
      "* [Sequences classified as CRN effectors](http://www.nature.com/nature/journal/v461/n7262/extref/nature08358-s8.xls)\n",
      "\n",
      "Using the supplementary information Excel files `nature08358-s5.xls` and `nature08358-s8.xls` from the *Nature* paper (which should both be found in this directory), we use `pandas` to create two new dataframes, one for each effector class, in the variables `rxlr_data` and `crn_data`.\n",
      "\n",
      "The code below uses `pandas` to generate these dataframes, but we come across a common issue in non-standard (e.g. paper supplementary) data files: inconsistency of formatting and labelling. Here, in the RxLR file `nature08358-s5.xls` the column containing the locus tags for RxLR features is named `Acc`, but in the CRN file `nature08358-s8.xls` it is named `locus`. The code below takes care of this for us."
     ]
    },
    {
     "cell_type": "code",
     "collapsed": false,
     "input": [
      "# Load in the full Excel spreadsheets\n",
      "xl = pd.ExcelFile(\"data/nature08358-s5.xls\")\n",
      "rxlr_data = xl.parse(\"Phyt.RxLR.summary\")\n",
      "xl = pd.ExcelFile(\"data/nature08358-s8.xls\")\n",
      "crn_data = xl.parse(\"Crinkler_annotations.v3.txt\")\n",
      "\n",
      "# Restrict the data to feature names\n",
      "# There is inconsistency in the choice of column header\n",
      "# for the same data in two different files - this is \n",
      "# not unusual\n",
      "rxlr_names = rxlr_data.Acc\n",
      "crn_names = crn_data.locus\n",
      "\n",
      "# Restrict flanking region length data to each effector type\n",
      "rxlr_flanks = flank_lens[flank_lens.ft_name.isin(rxlr_names)]\n",
      "rxlr_flanks.index = range(len(rxlr_flanks))\n",
      "crn_flanks = flank_lens[flank_lens.ft_name.isin(crn_names)]\n",
      "crn_flanks.index = range(len(crn_flanks))"
     ],
     "language": "python",
     "metadata": {},
     "outputs": []
    },
    {
     "cell_type": "markdown",
     "metadata": {},
     "source": [
      "Again, we want to check that the subset of flanking lengths looks sensible, in each case:"
     ]
    },
    {
     "cell_type": "code",
     "collapsed": false,
     "input": [
      "rxlr_flanks.head()"
     ],
     "language": "python",
     "metadata": {},
     "outputs": []
    },
    {
     "cell_type": "code",
     "collapsed": false,
     "input": [
      "crn_flanks.head()"
     ],
     "language": "python",
     "metadata": {},
     "outputs": []
    },
    {
     "cell_type": "markdown",
     "metadata": {},
     "source": [
      "These tables look fine, so we plot the 2D histogram for each of the effector types from this data, and overlay a scatterplot of the effector flanking region lengths. \n",
      "\n",
      "We can do this simply by using `plot_two_speed` function above to render the full flanking length data, then plotting a scatterplot of the effector only data with the `scatter` function of iPython, first for the `rxlr_flanks` data, then for the `crn_flanks` data:"
     ]
    },
    {
     "cell_type": "code",
     "collapsed": false,
     "input": [
      "plot_two_speed(flank_lens, \"RxLR flanking regions overlay\", b=50, vmax=85)\n",
      "scatter(log2(rxlr_flanks.upstream), log2(rxlr_flanks.downstream), c='r', alpha=0.5);"
     ],
     "language": "python",
     "metadata": {},
     "outputs": []
    },
    {
     "cell_type": "code",
     "collapsed": false,
     "input": [
      "plot_two_speed(flank_lens, \"CRN flanking regions overlay\", b=50, vmax=85)\n",
      "scatter(log2(crn_flanks.upstream), log2(crn_flanks.downstream), c='r', alpha=0.5);"
     ],
     "language": "python",
     "metadata": {},
     "outputs": []
    },
    {
     "cell_type": "markdown",
     "metadata": {},
     "source": [
      "To generate images that resemble Figure 2 (g) and (h) from the paper we can just use the `plot_two_speed` function to render the 2D histograms for each effector type:"
     ]
    },
    {
     "cell_type": "code",
     "collapsed": false,
     "input": [
      "# Make a figure with one row and two columns\n",
      "fig, (ax_g, ax_h) = plt.subplots(1, 2)\n",
      "\n",
      "# Plot the 2D histograms\n",
      "plot_two_speed(rxlr_flanks, \"RxLR\", b=40, vmax=12, cmap='jet',\n",
      "               interpolation='bilinear', ax=ax_g)\n",
      "plot_two_speed(crn_flanks, \"CRN\", b=45, vmax=16, cmap='jet',\n",
      "               interpolation='bilinear', ax=ax_h)"
     ],
     "language": "python",
     "metadata": {},
     "outputs": []
    },
    {
     "cell_type": "markdown",
     "metadata": {},
     "source": [
      "Though not an exact match, the histograms resemble the published figures (g) and (h) reasonably well, though we appear to have used a slightly different dataset for the CRN sequences:\n",
      "\n",
      "<center>\n",
      "<img src=\"files/pi_two_speed.png\" style=\"width: 400px;\" alt=\"Figure 2 from Phytophthora infestans genome paper\"><br /></center>"
     ]
    }
   ],
   "metadata": {}
  }
 ]
}