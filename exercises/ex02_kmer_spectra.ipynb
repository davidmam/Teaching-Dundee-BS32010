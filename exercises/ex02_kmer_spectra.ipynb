{
 "metadata": {
  "name": "",
  "signature": "sha256:44331a737f64b39ae5eef93ce8a1f36755e5aac37a7237ee881fb0adb91540d3"
 },
 "nbformat": 3,
 "nbformat_minor": 0,
 "worksheets": [
  {
   "cells": [
    {
     "cell_type": "heading",
     "level": 1,
     "metadata": {},
     "source": [
      "ex01_kmer_spectra - Calculating $k$-mer spectra"
     ]
    },
    {
     "cell_type": "code",
     "collapsed": false,
     "input": [
      "%pylab inline"
     ],
     "language": "python",
     "metadata": {},
     "outputs": []
    },
    {
     "cell_type": "heading",
     "level": 2,
     "metadata": {},
     "source": [
      "Overview"
     ]
    },
    {
     "cell_type": "markdown",
     "metadata": {},
     "source": [
      "The purpose of this activity is \n",
      "\n",
      "1. to demonstrate that genome comparisons do not need to involve sequence comparison, or comparison of biological features\n",
      "2. to demonstrate basic data visualisation using Python, in a biological context\n",
      "3. to demonstrate some simple Python code for interacting with biological sequences and dataframes\n",
      "\n",
      "When you have completed this activity you should be able \n",
      "\n",
      "1. to understand how to calculate the $k$-mer spectrum of a genome using Python"
     ]
    },
    {
     "cell_type": "heading",
     "level": 2,
     "metadata": {},
     "source": [
      "Introduction "
     ]
    },
    {
     "cell_type": "markdown",
     "metadata": {},
     "source": [
      "Empirical frequencies of DNA $k$-mers in whole genome sequences provide an interesting perspective on genomic complexity, and the availability of large segments of genomic sequence from many organisms means that analysis of $k$-mers with non-trivial lengths is now possible, as can be seen in [Chor *et al.* (2009) *Genome Biol.* **10**:R108](http://dx.doi.org/10.1186/gb-2009-10-10-r108).\n",
      "\n",
      "![k-mer spectra for a range of organisms](files/data/kmer_spectra.png \"k-mer spectra for a range of organisms\")\n",
      "\n",
      "We will visualise the distribution of $k$-mer counts as spectra, using Python."
     ]
    },
    {
     "cell_type": "heading",
     "level": 3,
     "metadata": {},
     "source": [
      "Importing Python code"
     ]
    },
    {
     "cell_type": "markdown",
     "metadata": {},
     "source": [
      "We will use the [`Biopython`](http://www.biopython.org) libraries to interact with and manipulate sequence data.\n",
      "\n",
      "We will also use the [`Pandas`](http://pandas.pydata.org/) data analysis libraries to manipulate numerical data.\n",
      "\n",
      "Some code is exercise-specific, and will be imported from the local `bs32010` module in this directory."
     ]
    },
    {
     "cell_type": "code",
     "collapsed": false,
     "input": [
      "import pandas as pd  # For manipulating data\n",
      "\n",
      "from collections import defaultdict  # Provides a default dictionary collection\n",
      "\n",
      "from Bio import SeqIO  # For working with sequence data files\n",
      "from Bio.Seq import Seq  # Seq object, for the last activity\n",
      "from Bio.Alphabet import generic_dna  # sequence alphabet, for the last activity\n",
      "\n",
      "from bs32010.ex02 import *  # Local functions and data"
     ],
     "language": "python",
     "metadata": {},
     "outputs": []
    },
    {
     "cell_type": "markdown",
     "metadata": {},
     "source": [
      "The `bs32010` module provides a list of names of organisms that we will be working with in this notebook, in the variable `bacteria`. We can view these with a `print()` statement:\n",
      "\n",
      "```python\n",
      "print(bacteria)\n",
      "```"
     ]
    },
    {
     "cell_type": "code",
     "collapsed": false,
     "input": [
      "# Enter code here"
     ],
     "language": "python",
     "metadata": {},
     "outputs": []
    },
    {
     "cell_type": "heading",
     "level": 3,
     "metadata": {},
     "source": [
      "Sequence data"
     ]
    },
    {
     "cell_type": "markdown",
     "metadata": {},
     "source": [
      "Unlike Exercise 1, we will be dealing only with sequence data directly, there are no helper functions for this exercise.\n",
      "\n",
      "There is, however, a dictionary stored in the variable `bact_files`. This provides a tuple of sequence file names, for any organism name in the list stored in `bacteria`.\n",
      "\n",
      "We can see the contents of this dictionary with\n",
      "\n",
      "```python\n",
      "print(bact_files)\n",
      "```"
     ]
    },
    {
     "cell_type": "code",
     "collapsed": false,
     "input": [
      "# Enter code here"
     ],
     "language": "python",
     "metadata": {},
     "outputs": []
    },
    {
     "cell_type": "markdown",
     "metadata": {},
     "source": [
      "To choose a particular organism, we can use the square bracket notation for dictionaries:\n",
      "\n",
      "```python\n",
      "print(bact_files['Mycobacterium tuberculosis'])\n",
      "```"
     ]
    },
    {
     "cell_type": "code",
     "collapsed": false,
     "input": [
      "# Enter code here"
     ],
     "language": "python",
     "metadata": {},
     "outputs": []
    },
    {
     "cell_type": "markdown",
     "metadata": {},
     "source": [
      "All the sequence files referred to in these tuples are the files you will be working with. They are located in the `data` subdirectory, which can be inspected by escaping to the shell with `!`:\n",
      "\n",
      "```\n",
      "!ls -1 data/*.fna\n",
      "```"
     ]
    },
    {
     "cell_type": "code",
     "collapsed": false,
     "input": [
      "# Escape to shell here"
     ],
     "language": "python",
     "metadata": {},
     "outputs": []
    },
    {
     "cell_type": "heading",
     "level": 2,
     "metadata": {},
     "source": [
      "Counting $k$-mers"
     ]
    },
    {
     "cell_type": "markdown",
     "metadata": {},
     "source": [
      "The approach we will take to counting $k$-mers here is straightforward. For a genome sequence we will loop over that sequence from one end to the other, with a window of size $k$. A dictionary will be maintained with all observed $k$-mers as keys, and we will increment a count as we see each $k$-mer arise. We will then do the same for the reverse complement.\n",
      "\n",
      "This is easily done as two functions, as below."
     ]
    },
    {
     "cell_type": "code",
     "collapsed": false,
     "input": [
      "def count_str_kmers(instr, k, kdict=None):\n",
      "    \"\"\"Counts sequences of size k in instr, populating kdict.\n",
      "    \n",
      "    Loops over instr with a window of size k, populating the\n",
      "    dictionary kdict with a count of occurrences of each k-mer.\n",
      "    Returns the dictionary kdict.\n",
      "    \"\"\"\n",
      "    if kdict is None:\n",
      "        kdict = defaultdict(int)\n",
      "    for idx in range(len(instr)-k):\n",
      "        kdict[instr[idx:idx+k]] += 1\n",
      "    return kdict\n",
      "\n",
      "def count_seq_kmers(inseq, k):\n",
      "    \"\"\"Counts kmers of size k in the sequence inseq.\n",
      "    \n",
      "    Counts kmers in forward and reverse directions, returning\n",
      "    a Pandas dataframe of k-mer and count.\n",
      "    \"\"\"\n",
      "    kdict = count_str_kmers(str(inseq.seq), k)\n",
      "    kdict = count_str_kmers(str(inseq.reverse_complement().seq), k, kdict)\n",
      "    df = pd.DataFrame.from_dict(kdict, orient=\"index\")\n",
      "    df.columns = (\"frequency\",)\n",
      "    return df"
     ],
     "language": "python",
     "metadata": {},
     "outputs": []
    },
    {
     "cell_type": "markdown",
     "metadata": {},
     "source": [
      "With these functions, we can get a $k$-mer count of any (reasonable) size, by using `Biopython` to read an input sequence, and passing it to the `count_seq_kmers()` function. \n",
      "\n",
      "The `Pandas` dataframe that is returned lets us use the `.head()` method to view the first few rows of the dataframe.\n",
      "\n",
      "```python\n",
      "inseq = SeqIO.read('data/NC_022350.fna', 'fasta')\n",
      "kmer_count = count_seq_kmers(inseq, 6)\n",
      "kmer_count.head()\n",
      "```\n",
      "\n",
      "We can also inspect the `.shape` attribute to find out how large it is, as this returns a `(rows, columns)` tuple.\n",
      "\n",
      "```python\n",
      "kmer_count.shape\n",
      "```"
     ]
    },
    {
     "cell_type": "code",
     "collapsed": false,
     "input": [
      "# Enter code here"
     ],
     "language": "python",
     "metadata": {},
     "outputs": []
    },
    {
     "cell_type": "code",
     "collapsed": false,
     "input": [
      "# Enter code here"
     ],
     "language": "python",
     "metadata": {},
     "outputs": []
    },
    {
     "cell_type": "heading",
     "level": 3,
     "metadata": {},
     "source": [
      "Plotting $k$-mer count"
     ]
    },
    {
     "cell_type": "markdown",
     "metadata": {},
     "source": [
      "`Pandas` dataframes have a built-in `.hist()` method that will plot a histogram directly in the iPython notebook. By default, this has quite a wide bin width, but this can be overridden with the `bins=n` argument, as with:\n",
      "\n",
      "```python\n",
      "kmer_count.hist(column='frequency', bins=100)\n",
      "```\n",
      "\n",
      "By default, the `.hist()` method will display the full range of data, but by specifying maximum and minimum values with the `range=(min, max)` argument, the extent of data displayed can be controlled:\n",
      "\n",
      "```python\n",
      "kmer_count.hist(column='frequency', bins=100, range=(0, 1000))\n",
      "```"
     ]
    },
    {
     "cell_type": "code",
     "collapsed": false,
     "input": [
      "# Enter code here"
     ],
     "language": "python",
     "metadata": {},
     "outputs": []
    },
    {
     "cell_type": "heading",
     "level": 3,
     "metadata": {},
     "source": [
      "ACTIVITY "
     ]
    },
    {
     "cell_type": "markdown",
     "metadata": {},
     "source": [
      "Using the code above to guide you, recreate the upper-left plot in the introduction for one of the *E. coli* genomes."
     ]
    },
    {
     "cell_type": "code",
     "collapsed": false,
     "input": [
      "# USE THIS CELL TO COMPLETE THE ACTIVITY"
     ],
     "language": "python",
     "metadata": {},
     "outputs": []
    },
    {
     "cell_type": "markdown",
     "metadata": {},
     "source": [
      "Using the code above to guide you, create a similar plot for 11-mers in the human chromosome in file `data/hs_ref_GRCh38_chr21.fa`, with 60 bins, for frequencies of 0 to 60.\n",
      "\n",
      "**NOTE:** The chromosome file contains several assembly fragments, you will need to deal with these in some way to use the code above.\n",
      "\n",
      "**HINT:** You can concatenate sequences in Biopython with the `+` operator. You can also merge dictionaries with the `.update()` method."
     ]
    },
    {
     "cell_type": "code",
     "collapsed": false,
     "input": [
      "# USE THIS CELL TO COMPLETE THE ACTIVITY"
     ],
     "language": "python",
     "metadata": {},
     "outputs": []
    }
   ],
   "metadata": {}
  }
 ]
}