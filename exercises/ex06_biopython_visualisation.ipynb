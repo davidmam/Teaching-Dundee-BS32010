{
 "metadata": {
  "name": "",
  "signature": "sha256:9888c78f3de713a2af595444b24f0f0643daa4ae1e60a546616d6e6c99123e2e"
 },
 "nbformat": 3,
 "nbformat_minor": 0,
 "worksheets": [
  {
   "cells": [
    {
     "cell_type": "heading",
     "level": 1,
     "metadata": {},
     "source": [
      "ex06_biopython_visualisation - Biopython visualisation of genome alignments <img src=\"data/JHI_STRAP_Web.png\" style=\"width: 150px; float: right;\"> "
     ]
    },
    {
     "cell_type": "code",
     "collapsed": false,
     "input": [
      "%pylab inline\n",
      "\n",
      "from IPython.display import Image  # For display of images produced in the exercise"
     ],
     "language": "python",
     "metadata": {},
     "outputs": []
    },
    {
     "cell_type": "heading",
     "level": 2,
     "metadata": {},
     "source": [
      "Overview"
     ]
    },
    {
     "cell_type": "markdown",
     "metadata": {},
     "source": [
      "The purpose of this activity is \n",
      "\n",
      "1. to demonstrate Python/Biopython code for interacting with genome data and alignments\n",
      "2. to demonstrate visualisation of genome and genome comparison data using Biopython \n",
      "\n",
      "When you have completed this activity you should be able \n",
      "\n",
      "1. to use Biopython to render images of genome alignment, using output from **BLAST** and **MUMmer**"
     ]
    },
    {
     "cell_type": "heading",
     "level": 2,
     "metadata": {},
     "source": [
      "Introduction"
     ]
    },
    {
     "cell_type": "markdown",
     "metadata": {},
     "source": [
      "Sometimes it is useful to generate genome, and genome comparison, visualisations programmatically, without using a GUI-based application such as **ACT**. This may be useful for a number of reasons, including the conduct and investigation of a large number of alignments, or if a number of different subsets of the alignment data are to be investigated independently.\n",
      "\n",
      "The Biopython libraries <http://www.biopython.org> have a specialised module called **GenomeDiagram**, which was designed for the generation of these kinds of images ([Pritchard *et al.* (2006)](http://bioinformatics.oxfordjournals.org/content/22/5/616.long)). In this activity, you will use Biopython to visualise genome alignments you generated in earlier activities."
     ]
    },
    {
     "cell_type": "heading",
     "level": 2,
     "metadata": {},
     "source": [
      "Importing Python Code"
     ]
    },
    {
     "cell_type": "markdown",
     "metadata": {},
     "source": [
      "All the code we'll be using is exercise-specific, and will be imported from the `bs32010` module.\n",
      "\n",
      "You can read the Python code in your browser using the `%load` magic"
     ]
    },
    {
     "cell_type": "code",
     "collapsed": false,
     "input": [
      "from bs32010.ex06 import *  # Local functions and data"
     ],
     "language": "python",
     "metadata": {},
     "outputs": []
    },
    {
     "cell_type": "code",
     "collapsed": false,
     "input": [
      "# %load bs32010/ex06.py  # Uncomment this line to view the supporting code for the exercise"
     ],
     "language": "python",
     "metadata": {},
     "outputs": []
    },
    {
     "cell_type": "heading",
     "level": 2,
     "metadata": {},
     "source": [
      "Biopython visualisation"
     ]
    },
    {
     "cell_type": "heading",
     "level": 3,
     "metadata": {},
     "source": [
      "Visualising pairwise alignments"
     ]
    },
    {
     "cell_type": "markdown",
     "metadata": {},
     "source": [
      "In the first whole genome alignment activity (part A), you used **megaBLAST** to align the *E. coli* O157:H7 Sakai chromosome (`NC_002695.fna`) with that of *E. coli* CFT 073 (`NC_004431.fna`), producing the output file `E_coli_megablast.tab`. You later visualised this alignment using the **ACT** package.\n",
      "\n",
      "You will now use Biopython to render a similar visualisation, as a static `.pdf` file, using the function `render_pairwise_genome_comparison()`, provided in the `bs32010.ex06` module. You can see what this function does, and how to use it, with \n",
      "\n",
      "```python\n",
      "help(render_pairwise_genome_comparison)\n",
      "```\n",
      "\n",
      "We will use this function to produce a figure in which no cross-links are shown for alignments of less than 90%, or shorter than 3kbp in length. The files will be written out to `example1.pdf` and `example1.png`. Using the `Image()` function imported above, the `.png` that is produced will automatically be displayed below, if you would like to try changing parameters and rerunning the statements below.\n",
      "\n",
      "```python\n",
      "render_pairwise_genome_comparison(\"data/NC_002695.fna\", \"data/NC_004431.fna\",\n",
      "                                  megablast=\"whole_genome_alignment/wga_output/E_coli_megablast.tab\",\n",
      "                                  low_link_cut=90, min_aln_len=3000, \n",
      "                                  pdf=\"example1.pdf\", png=\"example1.png\")\n",
      "Image(\"example1.png\")\n",
      "```"
     ]
    },
    {
     "cell_type": "code",
     "collapsed": false,
     "input": [
      "# Enter code here"
     ],
     "language": "python",
     "metadata": {},
     "outputs": []
    },
    {
     "cell_type": "heading",
     "level": 4,
     "metadata": {},
     "source": [
      "Interpreting the image"
     ]
    },
    {
     "cell_type": "markdown",
     "metadata": {},
     "source": [
      "As was the convention in **MUMmer** and **ACT** output, alignments in the same orientation in both sequences are shown with red cross-links; those where one aligned region is reversed with respect to the other have blue cross-links. Unlike those representations, the cross-links become more transparent as they approach the alignment identity limit given by `low_link_cut`.\n",
      "\n",
      "Unlike the other displays, I have chosen to represent the aligned regions directly on the genome as cyan (comparator) and yellow (reference) features. These are shaded, turning to grey as the percentage identity of the alignment falls.\n",
      "\n",
      "A `.pdf` format image was rendered in the file `example1.pdf`. You can open this and inspect it, to see how the rendered output scales when viewed zoomed-in. The generation of vector (e.g. `.pdf` or `.svg`) output, rather than rastered/bitmap output (e.g. `.png`, `.jpg`, `.tif` or `.gif`) is useful for publication and high-quality printing."
     ]
    },
    {
     "cell_type": "heading",
     "level": 3,
     "metadata": {},
     "source": [
      "ACTIVITY"
     ]
    },
    {
     "cell_type": "markdown",
     "metadata": {},
     "source": [
      "Render a similar image to that for the **megaBLAST** output above, using the `E_coli_nucmer.crunch` file you generated in an earlier activity, and writing the output to files `activity1.pdf` and `activity1.png`. Compare the output of the two alignments, for the same argument settings of `low_link_cut` and `min_aln_len`."
     ]
    },
    {
     "cell_type": "code",
     "collapsed": false,
     "input": [
      "# Enter code in this cell"
     ],
     "language": "python",
     "metadata": {},
     "outputs": []
    },
    {
     "cell_type": "heading",
     "level": 3,
     "metadata": {},
     "source": [
      "Visualising three-way comparisons"
     ]
    },
    {
     "cell_type": "markdown",
     "metadata": {},
     "source": [
      "We can inspect a three-way **dc-megaBLAST** alignment between isolates of *Mycoplasma pneumoniae* (top), *E.coli* (middle), and *Mycobacterium tuberculosis*  in a similar way, using the `render_threeway_genome_comparison()` function defined in `bs32010.ex06`. As before, help for the function can be obtained with\n",
      "\n",
      "```python\n",
      "help(render_threeway_genome_comparison)\n",
      "```\n",
      "\n",
      "and the function itself applied like this:\n",
      "\n",
      "```python\n",
      "render_threeway_genome_comparison(\"data/NC_000962.fna\", \"data/NC_010468.fna\", \n",
      "                                  \"data/NC_017504.fna\",\n",
      "                                  megablastlist=[\"data/NC_000962_vs_NC_010468.tab\",\n",
      "                                                 \"data/NC_017504_vs_NC_010468.tab\"], \n",
      "                                  pdf=\"example2.pdf\", png=\"example2.png\")\n",
      "Image(\"example2.png\")\n",
      "```"
     ]
    },
    {
     "cell_type": "code",
     "collapsed": false,
     "input": [
      "# Enter code in this cell"
     ],
     "language": "python",
     "metadata": {},
     "outputs": []
    },
    {
     "cell_type": "heading",
     "level": 3,
     "metadata": {},
     "source": [
      "ACTIVITY"
     ]
    },
    {
     "cell_type": "markdown",
     "metadata": {},
     "source": [
      "Carry out a **dc-megaBLAST** comparison between the three *Pyrococcus* genomes in the `data` subdirectory:\n",
      "\n",
      "* `data/NC_000868.fna`: *Pyrococcus abyssi* GE5 chromosome\n",
      "* `data/NC_000961.fna`: *Pyrococcus horikoshii* OT3\n",
      "* `data/NC_003413.fna`: *Pyrococcus furiosus* DSM 3638\n",
      "\n",
      "Visualise the output using the function `render_threeway_genome_comparison()`. Comment on the results. Do you see similarities with the output shown in [Zivanovic *et al.* (2002)](http://dx.doi.org/10.1093/nar/30.9.1902)?\n",
      "\n",
      "**HINT:** You might find it useful to set `min_aln_len` to 1000 and inspect the `.pdf` output, rather than rely on the `.png`."
     ]
    },
    {
     "cell_type": "code",
     "collapsed": false,
     "input": [
      "# Use this cell to drop out to the shell for running dc-megaBLAST"
     ],
     "language": "python",
     "metadata": {},
     "outputs": []
    },
    {
     "cell_type": "code",
     "collapsed": false,
     "input": [
      "# Use this cell to enter code"
     ],
     "language": "python",
     "metadata": {},
     "outputs": []
    },
    {
     "cell_type": "code",
     "collapsed": false,
     "input": [],
     "language": "python",
     "metadata": {},
     "outputs": []
    }
   ],
   "metadata": {}
  }
 ]
}