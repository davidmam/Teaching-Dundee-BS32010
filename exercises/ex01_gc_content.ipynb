{
 "metadata": {
  "name": "",
  "signature": "sha256:c19e71ca43577d71e701f3057a705fbcb2bc09c3176071d4828e9a70cfdf8532"
 },
 "nbformat": 3,
 "nbformat_minor": 0,
 "worksheets": [
  {
   "cells": [
    {
     "cell_type": "heading",
     "level": 1,
     "metadata": {},
     "source": [
      "ex01_gc_content - Calculating genome GC content"
     ]
    },
    {
     "cell_type": "code",
     "collapsed": false,
     "input": [
      "%matplotlib inline"
     ],
     "language": "python",
     "metadata": {},
     "outputs": []
    },
    {
     "cell_type": "heading",
     "level": 2,
     "metadata": {},
     "source": [
      "Overview"
     ]
    },
    {
     "cell_type": "markdown",
     "metadata": {},
     "source": [
      "The purpose of this activity is \n",
      "\n",
      "1. to demonstrate that genome comparisons do not need to involve sequence comparison, or comparison of biological features\n",
      "2. to demonstrate basic data visualisation using Python, in a biological context\n",
      "3. to demonstrate some simple Python code for interacting with biological sequences and dataframes\n",
      "\n",
      "When you have completed this activity you should be able \n",
      "\n",
      "1. to understand how to calculate basic bulk properties of a genome using Python\n",
      "2. to understand that bulk properties such as GC content and chromosome length can be useful to classify biological sequences"
     ]
    },
    {
     "cell_type": "markdown",
     "metadata": {},
     "source": [
      "## Introduction\n",
      "\n",
      "Bacterial genomes are relatively simple (especially compared to many eukaryotic genomes), and typically comprise only a single (usually circular) chromosome, and possibly a small number of plasmids.\n",
      "\n",
      "Bacterial chromosome properties such as length and GC content vary, usually reliably, by bacterial species and genus (histogram from [http://www.sci.sdsu.edu/~smaloy/MicrobialGenetics/topics/chroms-genes-prots/genomes.html](http://www.sci.sdsu.edu/~smaloy/MicrobialGenetics/topics/chroms-genes-prots/genomes.html). \n",
      "\n",
      "![Histogram of approximate genome size for bacteria and archaea](http://www.sci.sdsu.edu/~smaloy/MicrobialGenetics/topics/chroms-genes-prots/genome-sizes.gif \"Histogram of approximate genome size for bacteria and archaea\")\n",
      "\n",
      "We can visualise the similarities and differences among and between genomes by plotting summary statistics using Python."
     ]
    },
    {
     "cell_type": "heading",
     "level": 3,
     "metadata": {},
     "source": [
      "Importing Python code"
     ]
    },
    {
     "cell_type": "markdown",
     "metadata": {},
     "source": [
      "We will use the [`Biopython`](http://www.biopython.org) libraries to interact with and manipulate sequence data.\n",
      "\n",
      "We will also use the [`Pandas`](http://pandas.pydata.org/) data analysis libraries to manipulate numerical data.\n",
      "\n",
      "Some code is exercise-specific, and will be imported from the local `bs32010` module in this directory."
     ]
    },
    {
     "cell_type": "code",
     "collapsed": false,
     "input": [
      "from Bio import SeqIO  # For working with sequence data files\n",
      "from IPython.display import Image  # Allows us to display local images in iPython\n",
      "\n",
      "from bs32010 import *  # Local functions and data"
     ],
     "language": "python",
     "metadata": {},
     "outputs": []
    },
    {
     "cell_type": "markdown",
     "metadata": {},
     "source": [
      "The `bs32010` module provides a list of names of organisms that we will be working with in this notebook, in the variable `bacteria`. We can view these with a `print()` statement:\n",
      "\n",
      "```python\n",
      "print(bacteria)\n",
      "```"
     ]
    },
    {
     "cell_type": "code",
     "collapsed": false,
     "input": [
      "# Enter code here"
     ],
     "language": "python",
     "metadata": {},
     "outputs": []
    },
    {
     "cell_type": "heading",
     "level": 3,
     "metadata": {},
     "source": [
      "Working with sequence data directly"
     ]
    },
    {
     "cell_type": "markdown",
     "metadata": {},
     "source": [
      "For this exercise, we will mostly be working with helper functions provided in the file `bs32010/ex01.py`, but as a short example we will revise how to open a FASTA genome file, and find its length and GC content.\n",
      "\n",
      "We will work with the file `data/NC_000913.fna`, the genome sequence of *Escherichia coli* str. K-12 substr. MG1655.\n",
      "\n",
      "First, we load the data with\n",
      "\n",
      "```python\n",
      "seq = SeqIO.read(\"data/NC_000913.fna\", \"fasta\")\n",
      "```\n",
      "\n",
      "then find its length with the `len()` function:\n",
      "\n",
      "```python\n",
      "print(len(seq))\n",
      "```"
     ]
    },
    {
     "cell_type": "code",
     "collapsed": false,
     "input": [
      "# Enter code here"
     ],
     "language": "python",
     "metadata": {},
     "outputs": []
    },
    {
     "cell_type": "markdown",
     "metadata": {},
     "source": [
      "Finally, we'll implement a little function to return GC content:\n",
      "\n",
      "```python\n",
      "def gc_content(inseq):\n",
      "    \"\"\"Returns GC content of the passed sequence.\"\"\"\n",
      "    return float(inseq.seq.count('G') + inseq.seq.count('C')) / len(inseq)\n",
      "```\n",
      "\n",
      "and this will allow us to calculate both the length and GC content of the sequence in the file."
     ]
    },
    {
     "cell_type": "code",
     "collapsed": false,
     "input": [
      "# Enter code here"
     ],
     "language": "python",
     "metadata": {},
     "outputs": []
    },
    {
     "cell_type": "heading",
     "level": 3,
     "metadata": {},
     "source": [
      "Using the helper functions"
     ]
    },
    {
     "cell_type": "heading",
     "level": 4,
     "metadata": {},
     "source": [
      "Calculating sequence length and GC content"
     ]
    },
    {
     "cell_type": "markdown",
     "metadata": {},
     "source": [
      "For convenience, the `bs32010/ex01.py` file contains the `calc_size_gc()` function, which takes any combination of the names in the list `bacteria`, and returns a `Pandas` dataframe, describing the length and GC content of the genome sequences for that organism.\n",
      "\n",
      "You can see what the `calc_size_gc()` function does by using `help()` in one of the cells:\n",
      "\n",
      "```python\n",
      "help(calc_size_gc)\n",
      "```"
     ]
    },
    {
     "cell_type": "code",
     "collapsed": false,
     "input": [
      "# Enter code here"
     ],
     "language": "python",
     "metadata": {},
     "outputs": []
    },
    {
     "cell_type": "markdown",
     "metadata": {},
     "source": [
      "We can test this on a couple of the named bacteria, *Mycoplasma genitalium* and *Escherichia coli*, by calling the function on these names:\n",
      "\n",
      "```python\n",
      "calc_size_gc('Mycoplasma genitalium', 'Escherichia coli')\n",
      "```"
     ]
    },
    {
     "cell_type": "code",
     "collapsed": false,
     "input": [
      "# Enter code here"
     ],
     "language": "python",
     "metadata": {},
     "outputs": []
    },
    {
     "cell_type": "markdown",
     "metadata": {},
     "source": [
      "As you can see, this returns a dataframe in table format, with columns for species name, genome length, and GC content."
     ]
    },
    {
     "cell_type": "heading",
     "level": 4,
     "metadata": {},
     "source": [
      "Plotting sequence length and GC content"
     ]
    },
    {
     "cell_type": "markdown",
     "metadata": {},
     "source": [
      "We can use the `bs32010` helper function `plot_data()` to show a plot of genome length against GC content. Using `help()` again tells us something about the function:\n",
      "\n",
      "```python\n",
      "help(plot_data)\n",
      "```"
     ]
    },
    {
     "cell_type": "code",
     "collapsed": false,
     "input": [
      "# Enter code here"
     ],
     "language": "python",
     "metadata": {},
     "outputs": []
    },
    {
     "cell_type": "markdown",
     "metadata": {},
     "source": [
      "We can assign the output of `calc_size_gc()` to a variable, and plot it with `plot_data`:\n",
      "\n",
      "```python\n",
      "size_gc_data = calc_size_gc('Mycoplasma genitalium', 'Escherichia coli')\n",
      "plot_data(size_gc_data)\n",
      "```"
     ]
    },
    {
     "cell_type": "code",
     "collapsed": false,
     "input": [
      "# Enter code here"
     ],
     "language": "python",
     "metadata": {},
     "outputs": []
    },
    {
     "cell_type": "markdown",
     "metadata": {},
     "source": [
      "We can see that *M. genitalium* (lower left) has a much lower GC% (30% rather than 50%), and shorter chromosomes (less than 1mbp compared to 5-6mbp) than *E. coli* (upper right). It is also clear that there is more variation in the length and GC% of the four *E. coli* isolates we're looking at, than in the four *M. genitalium* examples."
     ]
    },
    {
     "cell_type": "markdown",
     "metadata": {},
     "source": [
      "And we can write our plots to a file by passing the `filename` argument. For common image files, the function will be able to infer what format is needed from the filename. For example, to plot a `.png` image of *E. coli* and *M. tuberculosis* in the current directory with filename `example.png`, we can use:\n",
      "\n",
      "```python\n",
      "plot_data(size_gc_data, filename=\"example.png\")\n",
      "```"
     ]
    },
    {
     "cell_type": "code",
     "collapsed": false,
     "input": [
      "# Enter code here"
     ],
     "language": "python",
     "metadata": {},
     "outputs": []
    },
    {
     "cell_type": "markdown",
     "metadata": {},
     "source": [
      "We can check that the file was just created using the `!` shell escape:\n",
      "\n",
      "```\n",
      "!ls -ltrh *.png\n",
      "```"
     ]
    },
    {
     "cell_type": "code",
     "collapsed": false,
     "input": [
      "# Enter shell escape code here"
     ],
     "language": "python",
     "metadata": {},
     "outputs": []
    },
    {
     "cell_type": "heading",
     "level": 3,
     "metadata": {},
     "source": [
      "ACTIVITY"
     ]
    },
    {
     "cell_type": "markdown",
     "metadata": {},
     "source": [
      "Use the `calc_size_gc()` and `plot_data()` functions to render a scatterplot of all the example chromosomes in `bact_files` to the file \"`all_chromosomes.pdf`\"."
     ]
    },
    {
     "cell_type": "code",
     "collapsed": false,
     "input": [
      "# USE THIS CELL TO COMPLETE THE ACTIVITY"
     ],
     "language": "python",
     "metadata": {},
     "outputs": []
    },
    {
     "cell_type": "markdown",
     "metadata": {},
     "source": [
      "## Using size and GC content to identify an organism\n",
      "\n",
      "As summary statistics such as the chromosome length and GC content can be characteristic of a bacterial species, it is possible to use them to help infer the species of bacterium from which an \"unknown\" chromosome sequence may originate.\n",
      "\n",
      "We can add new data representing a chromosome of unknown origin to the data for all example chromosomes, and produce a scatterplot. The proximity to points from a named species may indicate the origin of the unknown chromosome.\n",
      "\n",
      "The `bs32010` module provides GC content and genome size information about an unknown organism, in the variable `unknown` (a `Pandas` dataframe). We can look at it with\n",
      "\n",
      "```python\n",
      "unknown\n",
      "```"
     ]
    },
    {
     "cell_type": "code",
     "collapsed": false,
     "input": [
      "# Enter code here"
     ],
     "language": "python",
     "metadata": {},
     "outputs": []
    },
    {
     "cell_type": "markdown",
     "metadata": {},
     "source": [
      "We can generate a dataframe of all our named bacteria as before, and then add this unknown organism to that table with:\n",
      "\n",
      "```python\n",
      "all_data = calc_size_gc(*bacteria)\n",
      "all_data = all_data.append(unknown)\n",
      "```\n",
      "\n",
      "and visualise the table with \n",
      "\n",
      "```python\n",
      "all_data\n",
      "```"
     ]
    },
    {
     "cell_type": "code",
     "collapsed": false,
     "input": [
      "# Enter code here"
     ],
     "language": "python",
     "metadata": {},
     "outputs": []
    },
    {
     "cell_type": "heading",
     "level": 3,
     "metadata": {},
     "source": [
      "ACTIVITY"
     ]
    },
    {
     "cell_type": "markdown",
     "metadata": {},
     "source": [
      "Use the dataframe `all_data` to produce a scatterplot, and identify the unknown organism."
     ]
    },
    {
     "cell_type": "code",
     "collapsed": false,
     "input": [
      "# USE THIS CELL TO COMPLETE THE ACTIVITY"
     ],
     "language": "python",
     "metadata": {},
     "outputs": []
    }
   ],
   "metadata": {}
  }
 ]
}