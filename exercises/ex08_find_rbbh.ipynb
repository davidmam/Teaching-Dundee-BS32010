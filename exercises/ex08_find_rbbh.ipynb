{
 "metadata": {
  "name": "",
  "signature": "sha256:14d063e9b23812ba3c50cf60c31b17c0620b077158c3fb95e421ea421c8d5452"
 },
 "nbformat": 3,
 "nbformat_minor": 0,
 "worksheets": [
  {
   "cells": [
    {
     "cell_type": "heading",
     "level": 1,
     "metadata": {},
     "source": [
      "ex08_find_rbbh.ipynb - Finding reciprocal best BLAST hits"
     ]
    },
    {
     "cell_type": "code",
     "collapsed": false,
     "input": [
      "%pylab inline"
     ],
     "language": "python",
     "metadata": {},
     "outputs": [
      {
       "output_type": "stream",
       "stream": "stdout",
       "text": [
        "Populating the interactive namespace from numpy and matplotlib\n"
       ]
      }
     ],
     "prompt_number": 1
    },
    {
     "cell_type": "heading",
     "level": 2,
     "metadata": {},
     "source": [
      "Overview"
     ]
    },
    {
     "cell_type": "markdown",
     "metadata": {},
     "source": [
      "The purpose of this exercise is to carry out each stage in a reciprocal best BLAST hit (RBBH) comparison, to find putative orthologues between the protein complements of a set of bacteria. This involves:\n",
      "\n",
      "\n",
      "1. **Conducting BLASTP comparisons** between sets of proteins\n",
      "2. **Processing the output** to identify reciprocal best BLAST hits\n",
      "3. **Visualisation and interpretation** of the output"
     ]
    },
    {
     "cell_type": "heading",
     "level": 2,
     "metadata": {},
     "source": [
      "Importing Python code"
     ]
    },
    {
     "cell_type": "markdown",
     "metadata": {},
     "source": [
      "Some code is exercise-specific, and will be imported from the local `bs32010` module in this directory."
     ]
    },
    {
     "cell_type": "code",
     "collapsed": false,
     "input": [
      "from bs32010.ex08 import *  # Local functions and data"
     ],
     "language": "python",
     "metadata": {},
     "outputs": [],
     "prompt_number": 2
    },
    {
     "cell_type": "heading",
     "level": 2,
     "metadata": {},
     "source": [
      "1. Conducting BLASTP comparisons"
     ]
    },
    {
     "cell_type": "markdown",
     "metadata": {},
     "source": [
      "For demonstration purposes, three chromosomal protein complements of related bacteria are provided in the `find_rbbh/data` directory:\n",
      "\n",
      "* `NC_004547.faa`: *Pectobacterium atrosepticum* SCRI1043\n",
      "* `NC_013421.faa`: *Pectobacterium wasabiae* WPP163\n",
      "* `NC_010694.faa`: *Erwinia tasmaniensis* ET1_99\n",
      "\n",
      "BLASTP comparisons of each protein sequence file were conducted against both of the other protein sequence files:\n",
      "\n",
      "* `NC_004547` vs `NC_013421`\n",
      "* `NC_004547` vs `NC_010694`\n",
      "* `NC_013421` vs `NC_004547`\n",
      "* `NC_013421` vs `NC_010694`\n",
      "* `NC_010694` vs `NC_004547`\n",
      "* `NC_010694` vs `NC_013421`\n",
      "\n",
      "using BLAST commands of the form:\n",
      "\n",
      "```\n",
      "blastp -query data/NC_004547.faa -subject data/NC_013421.faa \\\n",
      "       -outfmt \"6 qseqid sseqid qlen slen length nident pident evalue bitscore\" \\\n",
      "       -out output/NC_004547_vs_NC_013421.tab -max_target_seqs 1\n",
      "```\n",
      "\n",
      "These commands have been run for you already to save time (on my laptop, without parallelisation, the searches take around 15min) but, if you would like to see how they were run, please take a look at the accompanying script file `run_rbbh_blast.sh`. You can do this by entering\n",
      "\n",
      "```\n",
      "!cat run_rbbh_blast.sh\n",
      "```\n",
      "\n",
      "in an iPython cell (see below). This results in the production of six BLAST output files."
     ]
    },
    {
     "cell_type": "code",
     "collapsed": false,
     "input": [
      "# Use this cell to drop out to the shell\n",
      "!cat run_rbbh_blast.sh"
     ],
     "language": "python",
     "metadata": {},
     "outputs": [
      {
       "output_type": "stream",
       "stream": "stdout",
       "text": [
        "#!/usr/bin/env bash\r\n",
        "#\r\n",
        "# run_rbbh_blast.sh\r\n",
        "#\r\n",
        "# Short script to run example RBBH BLAST comparisons for UoD teaching course\r\n",
        "# materials. Reciprocal BLASTP searches are run on three input protein \r\n",
        "# sequence sets.\r\n",
        "#\r\n",
        "# (c) The James Hutton Institute 2014\r\n",
        "# Author: Leighton Pritchard\r\n",
        "\r\n",
        "# Define input files and input/output directories\r\n",
        "filenames=\"NC_004547.faa NC_013421.faa NC_010694.faa\"\r\n",
        "indir=\"data\"\r\n",
        "outdir=\"data/rbbh_output\"\r\n",
        "\r\n",
        "# Make the output directory, if needed\r\n",
        "mkdir -p ${outdir}\r\n",
        "\r\n",
        "# Make BLAST databases\r\n",
        "echo \"Making databases\"\r\n",
        "for f in ${filenames}\r\n",
        "do\r\n",
        "    cmd=\"time makeblastdb -in ${indir}/${f} -dbtype prot -out ${outdir}/${f}\"\r\n",
        "    echo ${cmd}\r\n",
        "    eval ${cmd}\r\n",
        "done\r\n",
        "\r\n",
        "# Loop over files and run BLASTP on all pairs of files in all combinations\r\n",
        "for f in ${filenames}\r\n",
        "do\r\n",
        "    for g in ${filenames}\r\n",
        "    do\r\n",
        "\tif [ \"${f}\" != \"${g}\" ]; then\r\n",
        "\t    echo \"Running BLASTP...\"\r\n",
        "\t    cmd=\"time blastp -query ${indir}/${f} -db ${outdir}/${g} -outfmt \\\"6 qseqid sseqid qlen slen length nident pident evalue bitscore\\\" -out ${outdir}/${f%.faa}_vs_${g%.faa}.tab -max_target_seqs 1\"\r\n",
        "\t    echo ${cmd}\r\n",
        "\t    eval ${cmd}\r\n",
        "\tfi\r\n",
        "    done\r\n",
        "done"
       ]
      }
     ],
     "prompt_number": 3
    },
    {
     "cell_type": "heading",
     "level": 2,
     "metadata": {},
     "source": [
      "2. Processing BLASTP output, and identifying reciprocal best BLAST hits"
     ]
    },
    {
     "cell_type": "markdown",
     "metadata": {},
     "source": [
      "For demonstration purposes, I chose to generate non-standard BLAST output. The BLAST command was set to find a single match for each input protein sequence, and to generate a tab-separated plain text table listing data for each match, with the following columns:\n",
      "\n",
      "    query_id  subject_id  query_length  subject_length alignment_length  identical_sites  percentage_identity  E-value  bitscore\n",
      "    \n",
      "Output files are in the `data/rbbh_output` directory. You can see them by running `ls` or `tree`, e.g.\n",
      "\n",
      "```\n",
      "!tree -sh data/rbbh_output\n",
      "!ls -ltrh data/rbbh_output\n",
      "```"
     ]
    },
    {
     "cell_type": "code",
     "collapsed": false,
     "input": [
      "# Use this cell to drop out to the shell\n",
      "!tree -sh data/rbbh_output"
     ],
     "language": "python",
     "metadata": {},
     "outputs": [
      {
       "output_type": "stream",
       "stream": "stdout",
       "text": [
        "data/rbbh_output\r\n",
        "\u251c\u2500\u2500 [707K]  NC_004547.faa.phr\r\n",
        "\u251c\u2500\u2500 [ 35K]  NC_004547.faa.pin\r\n",
        "\u251c\u2500\u2500 [1.4M]  NC_004547.faa.psq\r\n",
        "\u251c\u2500\u2500 [422K]  NC_004547_vs_NC_010694.tab\r\n",
        "\u251c\u2500\u2500 [340K]  NC_004547_vs_NC_013421.crunch\r\n",
        "\u251c\u2500\u2500 [420K]  NC_004547_vs_NC_013421.tab\r\n",
        "\u251c\u2500\u2500 [530K]  NC_010694.faa.phr\r\n",
        "\u251c\u2500\u2500 [ 27K]  NC_010694.faa.pin\r\n",
        "\u251c\u2500\u2500 [1.0M]  NC_010694.faa.psq\r\n",
        "\u251c\u2500\u2500 [325K]  NC_010694_vs_NC_004547.tab\r\n",
        "\u251c\u2500\u2500 [336K]  NC_010694_vs_NC_013421.tab\r\n",
        "\u251c\u2500\u2500 [704K]  NC_013421.faa.phr\r\n",
        "\u251c\u2500\u2500 [ 35K]  NC_013421.faa.pin\r\n",
        "\u251c\u2500\u2500 [1.4M]  NC_013421.faa.psq\r\n",
        "\u251c\u2500\u2500 [415K]  NC_013421_vs_NC_004547.tab\r\n",
        "\u251c\u2500\u2500 [436K]  NC_013421_vs_NC_010694.tab\r\n",
        "\u251c\u2500\u2500 [514K]  act_comparison.png\r\n",
        "\u2514\u2500\u2500 [484K]  rbbh_NC_004547_vs_NC_013421.tab\r\n",
        "\r\n",
        "0 directories, 18 files\r\n"
       ]
      }
     ],
     "prompt_number": 4
    },
    {
     "cell_type": "heading",
     "level": 3,
     "metadata": {},
     "source": [
      "Coverage and Identity"
     ]
    },
    {
     "cell_type": "markdown",
     "metadata": {},
     "source": [
      "The tab-separated tabular format generated above allows us to process the BLAST output easily into a `Pandas` dataframe (similar to an `R` dataframe, which you may be familiar with). For this output, I chose to recover only the information relevant to determining whether two sequences are RBBH matches. This includes the information required to filter BLAST matches on the basis of two parameters: *coverage* and *identity*, and illustrate their relationship to E-value and bitscore.\n",
      "\n",
      "* **identity**: This is the percentage of the BLASTP alignment that is made up of identical amino acid sequence, in the two matching sequences.\n",
      "* **coverage**: There are two coverage values, one for the query sequence, and one for the subject sequence. They represent the percentage of the query (or subject) sequence that is covered by the aligned region.\n",
      "\n",
      "These are useful parameters because they allow us to tune our BLAST output to reflect the degree of sequence similarity (and therefore presumed functional similarity) we want to have in our final RBBH set (see presentation slides).\n",
      "\n",
      "To calculate percentage identity ($PID$) of the BLAST match directly (though this value is provided for us to use in the BLAST output), we would calculate:\n",
      "\n",
      "$$\n",
      "PID = \\frac{\\text{identical_sites}}{\\text{alignment_length}}\n",
      "$$\n",
      "\n",
      "and to calculate query and subject coverage ($COV_{q}$ and $COV_{s}$), we find:\n",
      "\n",
      "$$\n",
      "COV_q = \\frac{\\text{alignment_length}}{\\text{query_length}} \\\\\n",
      "COV_s = \\frac{\\text{alignment_length}}{\\text{subject_length}}\n",
      "$$"
     ]
    },
    {
     "cell_type": "heading",
     "level": 4,
     "metadata": {},
     "source": [
      "ACTIVITY 1"
     ]
    },
    {
     "cell_type": "markdown",
     "metadata": {},
     "source": [
      "Use the code cell below to calculate the percentage identity, query and subject sequence coverage for this BLAST match from `NC_010694_vs_NC_013421.tab` (the meaning of each column is given in the text above):\n",
      "\n",
      "```\n",
      "gi|188532486|ref|YP_001906283.1|  gi|261820109|ref|YP_003258215.1|  93  87  76  61  80.26  1e-39  127\n",
      "```"
     ]
    },
    {
     "cell_type": "code",
     "collapsed": false,
     "input": [
      "# Use this cell to calculate your solution to Exercise 1 above.\n",
      "# the input BLAST output data line is given below\n",
      "line = \"gi|188532486|ref|YP_001906283.1|  gi|261820109|ref|YP_003258215.1|  93  87  76  61  80.26  1e-39  127\""
     ],
     "language": "python",
     "metadata": {},
     "outputs": [],
     "prompt_number": 5
    },
    {
     "cell_type": "heading",
     "level": 3,
     "metadata": {},
     "source": [
      "Parsing BLASTP output"
     ]
    },
    {
     "cell_type": "markdown",
     "metadata": {},
     "source": [
      "We can use the Python code provided in the `bs32010.ex08` module to process BLASTP output and obtain a set of RBBH for each pairwise comparison. The code uses `Pandas` to hold the BLASTP output, and the processed RBBH in dataframes, for ease of processing. \n",
      "\n",
      "The function `find_rbbh()` takes four arguments. The first two arguments are the accession numbers for the genomes that are to be compared: `NC_004547`, `NC_013421` and `NC_010694`. The next two (optional) arguments are the required percentage identity of the RBBH match, and the minimum coverage of either query or subject sequence that we will accept, for a RBBH."
     ]
    },
    {
     "cell_type": "markdown",
     "metadata": {},
     "source": [
      "We can identify all the RBBH for any pair of our example genomes, using the `find_rbbh()` function. This returns three dataframes:\n",
      "\n",
      "* `df1`: the forward direction one-way BLAST search\n",
      "* `df2`: the reverse direction one-way BLAST search\n",
      "* `rbbh`: the corresponding set of reciprocal best hits\n",
      "\n",
      "By using the `head()` method of each dataframe, we can inspect the first few rows.\n",
      "\n",
      "```python\n",
      "df1, df2, rbbh = find_rbbh('NC_004547', 'NC_013421', pid=0, cov=0)\n",
      "df1.head()\n",
      "df2.head()\n",
      "rbbh.head()\n",
      "```\n",
      "\n",
      "We do this now for the *Pectobacterium* chromosomes `NC_004547` and `NC_013421`.\n",
      "\n",
      "**NOTE: you can experiment with different combinations of input files, and percentage identity and coverage cutoffs**"
     ]
    },
    {
     "cell_type": "code",
     "collapsed": false,
     "input": [
      "# Enter code iin this cell\n",
      "df1, df2, rbbh = find_rbbh('NC_004547', 'NC_013421', pid=0, cov=0)\n",
      "df1.head()"
     ],
     "language": "python",
     "metadata": {},
     "outputs": [
      {
       "output_type": "stream",
       "stream": "stderr",
       "text": [
        "/Library/Python/2.7/site-packages/pandas-0.13.1_642_gf7205b5-py2.7-macosx-10.9-intel.egg/pandas/util/decorators.py:53: FutureWarning: cols is deprecated, use subset instead\n",
        "  warnings.warn(msg, FutureWarning)\n"
       ]
      },
      {
       "html": [
        "<div style=\"max-height:1000px;max-width:1500px;overflow:auto;\">\n",
        "<table border=\"1\" class=\"dataframe\">\n",
        "  <thead>\n",
        "    <tr style=\"text-align: right;\">\n",
        "      <th></th>\n",
        "      <th>query_id</th>\n",
        "      <th>subject_id</th>\n",
        "      <th>query_length</th>\n",
        "      <th>subject_length</th>\n",
        "      <th>alignment_length</th>\n",
        "      <th>identical_sites</th>\n",
        "      <th>percentage_identity</th>\n",
        "      <th>Evalue</th>\n",
        "      <th>bitscore</th>\n",
        "      <th>query_coverage</th>\n",
        "      <th>subject_coverage</th>\n",
        "    </tr>\n",
        "  </thead>\n",
        "  <tbody>\n",
        "    <tr>\n",
        "      <th>0</th>\n",
        "      <td> gi|50118967|ref|YP_048134.1|</td>\n",
        "      <td> gi|261823727|ref|YP_003261833.1|</td>\n",
        "      <td> 153</td>\n",
        "      <td> 153</td>\n",
        "      <td> 153</td>\n",
        "      <td> 152</td>\n",
        "      <td> 99.35</td>\n",
        "      <td> 2.000000e-111</td>\n",
        "      <td>  314</td>\n",
        "      <td> 100</td>\n",
        "      <td> 100</td>\n",
        "    </tr>\n",
        "    <tr>\n",
        "      <th>1</th>\n",
        "      <td> gi|50118968|ref|YP_048135.1|</td>\n",
        "      <td> gi|261823726|ref|YP_003261832.1|</td>\n",
        "      <td> 330</td>\n",
        "      <td> 330</td>\n",
        "      <td> 330</td>\n",
        "      <td> 326</td>\n",
        "      <td> 98.79</td>\n",
        "      <td>  0.000000e+00</td>\n",
        "      <td>  666</td>\n",
        "      <td> 100</td>\n",
        "      <td> 100</td>\n",
        "    </tr>\n",
        "    <tr>\n",
        "      <th>2</th>\n",
        "      <td> gi|50118969|ref|YP_048136.1|</td>\n",
        "      <td> gi|261823725|ref|YP_003261831.1|</td>\n",
        "      <td> 492</td>\n",
        "      <td> 492</td>\n",
        "      <td> 492</td>\n",
        "      <td> 482</td>\n",
        "      <td> 97.97</td>\n",
        "      <td>  0.000000e+00</td>\n",
        "      <td>  996</td>\n",
        "      <td> 100</td>\n",
        "      <td> 100</td>\n",
        "    </tr>\n",
        "    <tr>\n",
        "      <th>3</th>\n",
        "      <td> gi|50118970|ref|YP_048137.1|</td>\n",
        "      <td> gi|261823724|ref|YP_003261830.1|</td>\n",
        "      <td> 499</td>\n",
        "      <td> 499</td>\n",
        "      <td> 499</td>\n",
        "      <td> 483</td>\n",
        "      <td> 96.79</td>\n",
        "      <td>  0.000000e+00</td>\n",
        "      <td>  989</td>\n",
        "      <td> 100</td>\n",
        "      <td> 100</td>\n",
        "    </tr>\n",
        "    <tr>\n",
        "      <th>4</th>\n",
        "      <td> gi|50118971|ref|YP_048138.1|</td>\n",
        "      <td> gi|261823723|ref|YP_003261829.1|</td>\n",
        "      <td> 622</td>\n",
        "      <td> 622</td>\n",
        "      <td> 622</td>\n",
        "      <td> 608</td>\n",
        "      <td> 97.75</td>\n",
        "      <td>  0.000000e+00</td>\n",
        "      <td> 1236</td>\n",
        "      <td> 100</td>\n",
        "      <td> 100</td>\n",
        "    </tr>\n",
        "  </tbody>\n",
        "</table>\n",
        "<p>5 rows \u00d7 11 columns</p>\n",
        "</div>"
       ],
       "metadata": {},
       "output_type": "pyout",
       "prompt_number": 6,
       "text": [
        "                       query_id                        subject_id  \\\n",
        "0  gi|50118967|ref|YP_048134.1|  gi|261823727|ref|YP_003261833.1|   \n",
        "1  gi|50118968|ref|YP_048135.1|  gi|261823726|ref|YP_003261832.1|   \n",
        "2  gi|50118969|ref|YP_048136.1|  gi|261823725|ref|YP_003261831.1|   \n",
        "3  gi|50118970|ref|YP_048137.1|  gi|261823724|ref|YP_003261830.1|   \n",
        "4  gi|50118971|ref|YP_048138.1|  gi|261823723|ref|YP_003261829.1|   \n",
        "\n",
        "   query_length  subject_length  alignment_length  identical_sites  \\\n",
        "0           153             153               153              152   \n",
        "1           330             330               330              326   \n",
        "2           492             492               492              482   \n",
        "3           499             499               499              483   \n",
        "4           622             622               622              608   \n",
        "\n",
        "   percentage_identity         Evalue  bitscore  query_coverage  \\\n",
        "0                99.35  2.000000e-111       314             100   \n",
        "1                98.79   0.000000e+00       666             100   \n",
        "2                97.97   0.000000e+00       996             100   \n",
        "3                96.79   0.000000e+00       989             100   \n",
        "4                97.75   0.000000e+00      1236             100   \n",
        "\n",
        "   subject_coverage  \n",
        "0               100  \n",
        "1               100  \n",
        "2               100  \n",
        "3               100  \n",
        "4               100  \n",
        "\n",
        "[5 rows x 11 columns]"
       ]
      }
     ],
     "prompt_number": 6
    },
    {
     "cell_type": "markdown",
     "metadata": {},
     "source": [
      "We can see what size each dataframe is by using its `.shape` attribute, and the number of rows by using `len()`. So, to compare the shapes and row counts of `df1`, `df2` and `rbbh`, we can write:\n",
      "\n",
      "```python\n",
      "print(\"Shapes - df1: %s, df2: %s, rbbh: %s\" % (df1.shape, df2.shape, rbbh.shape))\n",
      "print(\"Row counts - df1: %s, df2: %s, rbbh: %s\" % (len(df1), len(df2), len(rbbh)))\n",
      "```"
     ]
    },
    {
     "cell_type": "code",
     "collapsed": false,
     "input": [
      "# Enter code in this cell\n",
      "print(\"Shapes - df1: %s, df2: %s, rbbh: %s\" % (df1.shape, df2.shape, rbbh.shape))\n",
      "print(\"Row counts - df1: %s, df2: %s, rbbh: %s\" % (len(df1), len(df2), len(rbbh)))"
     ],
     "language": "python",
     "metadata": {},
     "outputs": [
      {
       "output_type": "stream",
       "stream": "stdout",
       "text": [
        "Shapes - df1: (4466, 11), df2: (4434, 11), rbbh: (3481, 12)\n",
        "Row counts - df1: 4466, df2: 4434, rbbh: 3481\n"
       ]
      }
     ],
     "prompt_number": 7
    },
    {
     "cell_type": "markdown",
     "metadata": {},
     "source": [
      "Both methods tell us that, with `pid` and `cov` set to their default values of zero, using `NC_004547` as a one-way query against `NC_013421` gives 4466 matches, while the reverse one-way search gives 4434 matches. \n",
      "\n",
      "It also tells us that the total count of RBBH from those two comparisons is 3481 (i.e. around 80% of one-way searches give rise to RBBH)."
     ]
    },
    {
     "cell_type": "heading",
     "level": 4,
     "metadata": {},
     "source": [
      "ACTIVITY 2"
     ]
    },
    {
     "cell_type": "markdown",
     "metadata": {},
     "source": [
      "Why do you think that only around 80% of one-way best BLAST matches in our example give rise to RBBH?"
     ]
    },
    {
     "cell_type": "markdown",
     "metadata": {},
     "source": [
      "We can get more summary information out of a dataframe with its `describe()` method, using:\n",
      "\n",
      "```python\n",
      "rbbh.describe()\n",
      "```"
     ]
    },
    {
     "cell_type": "code",
     "collapsed": false,
     "input": [
      "# Enter code in this cell\n",
      "rbbh.describe()"
     ],
     "language": "python",
     "metadata": {},
     "outputs": [
      {
       "html": [
        "<div style=\"max-height:1000px;max-width:1500px;overflow:auto;\">\n",
        "<table border=\"1\" class=\"dataframe\">\n",
        "  <thead>\n",
        "    <tr style=\"text-align: right;\">\n",
        "      <th></th>\n",
        "      <th>percentage_identity_x</th>\n",
        "      <th>percentage_identity_y</th>\n",
        "      <th>query_coverage_x</th>\n",
        "      <th>query_coverage_y</th>\n",
        "      <th>subject_coverage_x</th>\n",
        "      <th>subject_coverage_y</th>\n",
        "      <th>bitscore_x</th>\n",
        "      <th>bitscore_y</th>\n",
        "      <th>Evalue_x</th>\n",
        "      <th>Evalue_y</th>\n",
        "    </tr>\n",
        "  </thead>\n",
        "  <tbody>\n",
        "    <tr>\n",
        "      <th>count</th>\n",
        "      <td> 3481.000000</td>\n",
        "      <td> 3481.000000</td>\n",
        "      <td> 3481.000000</td>\n",
        "      <td> 3481.000000</td>\n",
        "      <td> 3481.000000</td>\n",
        "      <td> 3481.000000</td>\n",
        "      <td> 3481.000000</td>\n",
        "      <td> 3481.000000</td>\n",
        "      <td>  3.481000e+03</td>\n",
        "      <td>  3.481000e+03</td>\n",
        "    </tr>\n",
        "    <tr>\n",
        "      <th>mean</th>\n",
        "      <td>   92.765128</td>\n",
        "      <td>   92.758561</td>\n",
        "      <td>   98.488263</td>\n",
        "      <td>   98.585349</td>\n",
        "      <td>   98.586283</td>\n",
        "      <td>   98.476609</td>\n",
        "      <td>  624.228498</td>\n",
        "      <td>  624.207986</td>\n",
        "      <td>  3.413461e-03</td>\n",
        "      <td>  2.775491e-03</td>\n",
        "    </tr>\n",
        "    <tr>\n",
        "      <th>std</th>\n",
        "      <td>   11.910705</td>\n",
        "      <td>   11.922165</td>\n",
        "      <td>    8.525201</td>\n",
        "      <td>    7.680311</td>\n",
        "      <td>    7.647511</td>\n",
        "      <td>    8.518765</td>\n",
        "      <td>  414.540016</td>\n",
        "      <td>  415.236374</td>\n",
        "      <td>  7.163198e-02</td>\n",
        "      <td>  6.063724e-02</td>\n",
        "    </tr>\n",
        "    <tr>\n",
        "      <th>min</th>\n",
        "      <td>   18.920000</td>\n",
        "      <td>   18.920000</td>\n",
        "      <td>    3.942428</td>\n",
        "      <td>    2.994297</td>\n",
        "      <td>    2.994297</td>\n",
        "      <td>    3.942428</td>\n",
        "      <td>   24.600000</td>\n",
        "      <td>   24.600000</td>\n",
        "      <td>  0.000000e+00</td>\n",
        "      <td>  0.000000e+00</td>\n",
        "    </tr>\n",
        "    <tr>\n",
        "      <th>25%</th>\n",
        "      <td>   93.120000</td>\n",
        "      <td>   93.080000</td>\n",
        "      <td>  100.000000</td>\n",
        "      <td>  100.000000</td>\n",
        "      <td>  100.000000</td>\n",
        "      <td>  100.000000</td>\n",
        "      <td>  342.000000</td>\n",
        "      <td>  342.000000</td>\n",
        "      <td>  0.000000e+00</td>\n",
        "      <td>  0.000000e+00</td>\n",
        "    </tr>\n",
        "    <tr>\n",
        "      <th>50%</th>\n",
        "      <td>   96.220000</td>\n",
        "      <td>   96.220000</td>\n",
        "      <td>  100.000000</td>\n",
        "      <td>  100.000000</td>\n",
        "      <td>  100.000000</td>\n",
        "      <td>  100.000000</td>\n",
        "      <td>  555.000000</td>\n",
        "      <td>  555.000000</td>\n",
        "      <td>  0.000000e+00</td>\n",
        "      <td>  0.000000e+00</td>\n",
        "    </tr>\n",
        "    <tr>\n",
        "      <th>75%</th>\n",
        "      <td>   98.000000</td>\n",
        "      <td>   98.000000</td>\n",
        "      <td>  100.000000</td>\n",
        "      <td>  100.000000</td>\n",
        "      <td>  100.000000</td>\n",
        "      <td>  100.000000</td>\n",
        "      <td>  816.000000</td>\n",
        "      <td>  816.000000</td>\n",
        "      <td> 2.000000e-121</td>\n",
        "      <td> 5.000000e-121</td>\n",
        "    </tr>\n",
        "    <tr>\n",
        "      <th>max</th>\n",
        "      <td>  100.000000</td>\n",
        "      <td>  100.000000</td>\n",
        "      <td>  119.101124</td>\n",
        "      <td>  113.172542</td>\n",
        "      <td>  113.172542</td>\n",
        "      <td>  119.101124</td>\n",
        "      <td> 7544.000000</td>\n",
        "      <td> 7684.000000</td>\n",
        "      <td>  3.100000e+00</td>\n",
        "      <td>  2.900000e+00</td>\n",
        "    </tr>\n",
        "  </tbody>\n",
        "</table>\n",
        "<p>8 rows \u00d7 10 columns</p>\n",
        "</div>"
       ],
       "metadata": {},
       "output_type": "pyout",
       "prompt_number": 8,
       "text": [
        "       percentage_identity_x  percentage_identity_y  query_coverage_x  \\\n",
        "count            3481.000000            3481.000000       3481.000000   \n",
        "mean               92.765128              92.758561         98.488263   \n",
        "std                11.910705              11.922165          8.525201   \n",
        "min                18.920000              18.920000          3.942428   \n",
        "25%                93.120000              93.080000        100.000000   \n",
        "50%                96.220000              96.220000        100.000000   \n",
        "75%                98.000000              98.000000        100.000000   \n",
        "max               100.000000             100.000000        119.101124   \n",
        "\n",
        "       query_coverage_y  subject_coverage_x  subject_coverage_y   bitscore_x  \\\n",
        "count       3481.000000         3481.000000         3481.000000  3481.000000   \n",
        "mean          98.585349           98.586283           98.476609   624.228498   \n",
        "std            7.680311            7.647511            8.518765   414.540016   \n",
        "min            2.994297            2.994297            3.942428    24.600000   \n",
        "25%          100.000000          100.000000          100.000000   342.000000   \n",
        "50%          100.000000          100.000000          100.000000   555.000000   \n",
        "75%          100.000000          100.000000          100.000000   816.000000   \n",
        "max          113.172542          113.172542          119.101124  7544.000000   \n",
        "\n",
        "        bitscore_y       Evalue_x       Evalue_y  \n",
        "count  3481.000000   3.481000e+03   3.481000e+03  \n",
        "mean    624.207986   3.413461e-03   2.775491e-03  \n",
        "std     415.236374   7.163198e-02   6.063724e-02  \n",
        "min      24.600000   0.000000e+00   0.000000e+00  \n",
        "25%     342.000000   0.000000e+00   0.000000e+00  \n",
        "50%     555.000000   0.000000e+00   0.000000e+00  \n",
        "75%     816.000000  2.000000e-121  5.000000e-121  \n",
        "max    7684.000000   3.100000e+00   2.900000e+00  \n",
        "\n",
        "[8 rows x 10 columns]"
       ]
      }
     ],
     "prompt_number": 8
    },
    {
     "cell_type": "markdown",
     "metadata": {},
     "source": [
      "From this example we can see that, while the average RBBH percentage coverage and identity are quite high (93% and 98%), in some cases these can drop as low as 19% and 2%, respectively. Clearly, not all RBBH are equally high-quality, and we will want to filter our results when applied to real data and analyses."
     ]
    },
    {
     "cell_type": "heading",
     "level": 4,
     "metadata": {},
     "source": [
      "ACTIVITY 3"
     ]
    },
    {
     "cell_type": "markdown",
     "metadata": {},
     "source": [
      "The maximum values of query and subject coverage are greater than 100% - why do you think this can happen?"
     ]
    },
    {
     "cell_type": "heading",
     "level": 2,
     "metadata": {},
     "source": [
      "3. Visualising and interpreting RBBH output"
     ]
    },
    {
     "cell_type": "markdown",
     "metadata": {},
     "source": [
      "In this section, we will use simple visualisation approaches to inspect the behaviour of the one-way and reciprocal BLAST output calculated above."
     ]
    },
    {
     "cell_type": "heading",
     "level": 3,
     "metadata": {},
     "source": [
      "One-way BLAST output"
     ]
    },
    {
     "cell_type": "markdown",
     "metadata": {},
     "source": [
      "We can view some of the basic relationships between BLAST's reported measures of match quality, using scatterplots."
     ]
    },
    {
     "cell_type": "heading",
     "level": 4,
     "metadata": {},
     "source": [
      "E-values"
     ]
    },
    {
     "cell_type": "markdown",
     "metadata": {},
     "source": [
      "Often, BLAST's E-values are taken to be reliable indicators of match quality, and are often (**incorrectly**) interpreted as probability values. However, E-values are influenced by query sequence length, and the size of the database being searched against. They are not simply a reflection of alignment quality, but alignment quality *in the context of the exact search that was done*. The same alignment/match can return multiple different E-values, depending on the database in which the match was found. This makes it unreliable as a comparator between different BLAST searches"
     ]
    },
    {
     "cell_type": "heading",
     "level": 4,
     "metadata": {},
     "source": [
      "(Normalised) Bitscores"
     ]
    },
    {
     "cell_type": "markdown",
     "metadata": {},
     "source": [
      "BLAST's E-values are calculated from the alignment bitscore, modified to reflect the query sequence length and database composition. The (normalised) bitscore itself directly reflects the sequence alignment, and is more reliable for comparison across different BLAST searches."
     ]
    },
    {
     "cell_type": "heading",
     "level": 4,
     "metadata": {},
     "source": [
      "Percentage identity"
     ]
    },
    {
     "cell_type": "markdown",
     "metadata": {},
     "source": [
      "BLAST reports percentage identity of the aligned region, **not** percentage identity between the query and subject sequence. Two sequences that share a common motif exactly may, in some circumstances, result in an alignment with 100% identity, even though the sequences are quite different - even if they differ over nearly all their length."
     ]
    },
    {
     "cell_type": "heading",
     "level": 4,
     "metadata": {},
     "source": [
      "Percentage coverage"
     ]
    },
    {
     "cell_type": "markdown",
     "metadata": {},
     "source": [
      "This is not reported directly by BLAST, and has to be derived from its output (see above). As calculated above, it reflects the proportion of the query or subject sequence covered by the BLAST alignment. It is useful therefore to distinguish between instances where a high percentage identity corresponds to a full-length protein match, and where it reflects only that a single domain is found to be in common between two proteins. Note that there are two possible coverage values: one for the query, and one for the subject."
     ]
    },
    {
     "cell_type": "heading",
     "level": 4,
     "metadata": {},
     "source": [
      "Activity 4"
     ]
    },
    {
     "cell_type": "markdown",
     "metadata": {},
     "source": [
      "We can inspect the relationship between E-value and bitscore for one-way BLAST hits with a scatterplot, using the function `plot_scatter()` defined in `bs32010.ex08`:\n",
      "\n",
      "```python\n",
      "plot_scatter(df1.bitscore, log10(df1.Evalue), \n",
      "             \"bitscore\", \"log_{10}(E-value)\", \n",
      "             \"one-way E-value vs bitscore\")\n",
      "```"
     ]
    },
    {
     "cell_type": "code",
     "collapsed": false,
     "input": [
      "# Enter code in this cell\n",
      "plot_scatter(df1.bitscore, log10(df1.Evalue), \n",
      "             \"bitscore\", \"log_{10}(E-value)\", \n",
      "             \"one-way E-value vs bitscore\")"
     ],
     "language": "python",
     "metadata": {},
     "outputs": [
      {
       "metadata": {},
       "output_type": "display_data",
       "png": "[encoded data removed]",
       "text": [
        "<matplotlib.figure.Figure at 0x1072ba110>"
       ]
      }
     ],
     "prompt_number": 9
    },
    {
     "cell_type": "markdown",
     "metadata": {},
     "source": [
      "The approximately linear relationship between bitscore and E-value, where large bitscore corresponds to lower E-value, is clear from the plot. However, there is a reasonable amount of deviation around that line, and the relationship breaks down more significantly as bitscore increases, and the E-value approaches the lowest value that can be represented by the computer."
     ]
    },
    {
     "cell_type": "heading",
     "level": 4,
     "metadata": {},
     "source": [
      "Activity 5"
     ]
    },
    {
     "cell_type": "markdown",
     "metadata": {},
     "source": [
      "How do E-value and bitscore vary with query length? Scatter plots can help:\n",
      "\n",
      "```python\n",
      "plot_scatter(df1.query_length, log10(df1.Evalue), \n",
      "             \"query length\", \"log_{10}(E-value)\", \n",
      "             \"one-way E-value vs query length\")\n",
      "plot_scatter(df1.query_length, df1.bitscore, \n",
      "             \"query length\", \"bitscore\", \n",
      "             \"one-way bitscore vs query length\")             \n",
      "```"
     ]
    },
    {
     "cell_type": "code",
     "collapsed": false,
     "input": [
      "# Enter code in this cell\n",
      "plot_scatter(df1.query_length, log10(df1.Evalue), \n",
      "             \"query length\", \"log_{10}(E-value)\", \n",
      "             \"one-way E-value vs query length\")\n",
      "plot_scatter(df1.query_length, df1.bitscore, \n",
      "             \"query length\", \"bitscore\", \n",
      "             \"one-way bitscore vs query length\")"
     ],
     "language": "python",
     "metadata": {},
     "outputs": [
      {
       "metadata": {},
       "output_type": "display_data",
       "png": "[encoded data removed]",
       "text": [
        "<matplotlib.figure.Figure at 0x107cedcd0>"
       ]
      },
      {
       "metadata": {},
       "output_type": "display_data",
       "png": "[encoded data removed]",
       "text": [
        "<matplotlib.figure.Figure at 0x107cedd90>"
       ]
      }
     ],
     "prompt_number": 10
    },
    {
     "cell_type": "markdown",
     "metadata": {},
     "source": [
      "This throws up some interesting observations:\n",
      "\n",
      "1. As query length increases, the 'best' (smallest) E-value that can be reported also falls.\n",
      "2. Bitscores show two relationships - a population for which bitscore increases with query length, and a population for which bitscore does not increase with query length.\n",
      "3. The largest query lengths correspond to the lowest E-values, but surprisingly low bitscores.\n",
      "\n",
      "So, longer queries might make one-way matches look 'better' than they really are, if only E-values are considered."
     ]
    },
    {
     "cell_type": "heading",
     "level": 4,
     "metadata": {},
     "source": [
      "Activity 6"
     ]
    },
    {
     "cell_type": "markdown",
     "metadata": {},
     "source": [
      "How are query and subject sequence coverage related?"
     ]
    },
    {
     "cell_type": "markdown",
     "metadata": {},
     "source": [
      "For this question, we move from 2D scatterplots to heatmaps/2D histograms. In this representation, the X and Y values define a plane, which is divided into a grid (or sometimes [hexfield](http://matplotlib.org/examples/pylab_examples/hexbin_demo.html)) of *cells*. These cells are coloured by the number of points that fill them, so that variation in the frequency of datapoints can easily be seen.\n",
      "\n",
      "Here, we are plotting one-way BLAST hit query coverage on the x-axis, and subject coverage on the y-axis. Cells are filled with colours from the default (`jet`) colourmap. The `plot_hist2d` function defines 100 bins in each axis by default, so there are approximately 10,000 cells in the resulting plots. In this case, cells with large numbers of points are coloured red, and those with few points are coloured blue (on a log scale). Empty cells are left white."
     ]
    },
    {
     "cell_type": "heading",
     "level": 4,
     "metadata": {},
     "source": [
      "ACTIVITY 7"
     ]
    },
    {
     "cell_type": "markdown",
     "metadata": {},
     "source": [
      "What pattern do you expect to see from plotting subject against query coverage from one-way BLAST hits?"
     ]
    },
    {
     "cell_type": "code",
     "collapsed": false,
     "input": [
      "plot_hist2d(df1.query_coverage, df1.subject_coverage, \n",
      "            \"one-way COVq\", \"one-way COVs\", \n",
      "            \"one-way coverage comparison\")"
     ],
     "language": "python",
     "metadata": {},
     "outputs": [
      {
       "metadata": {},
       "output_type": "display_data",
       "png": "[encoded data removed]",
       "text": [
        "<matplotlib.figure.Figure at 0x107ce9290>"
       ]
      }
     ],
     "prompt_number": 11
    },
    {
     "cell_type": "markdown",
     "metadata": {},
     "source": [
      "The relationship between query and subject sequence coverage is a complex one:\n",
      "\n",
      "1. The vast majority of datapoints (i.e. BLAST hits) are at or near 100% coverage of both query and subject sequences.\n",
      "2. There is a population of hits with approximately linear 1:1 relationship (bottom-left to top-right) of query to subject sequence coverage.\n",
      "3. There is a population of queries with \u2248100% coverage, but whose subject sequence coverage varies across the full range from 15-100%\n",
      "4. There is a large population of query sequences with low coverage (<60%) whose best BLAST hit covers less than 20% of the subject sequence."
     ]
    },
    {
     "cell_type": "heading",
     "level": 4,
     "metadata": {},
     "source": [
      "Activity 8"
     ]
    },
    {
     "cell_type": "markdown",
     "metadata": {},
     "source": [
      "What kinds of sequence alignments might explain these different populations, and what sort of sequence similarity of query and subject sequences might be associated with each?"
     ]
    },
    {
     "cell_type": "heading",
     "level": 4,
     "metadata": {},
     "source": [
      "Activity 9"
     ]
    },
    {
     "cell_type": "markdown",
     "metadata": {},
     "source": [
      "What is the relationship between percentage identity, and coverage?\n",
      "\n",
      "We can plot alignment identity against e.g. query sequence coverage to see whether we should trust the alignment identity scores by themselves with the `plot_hist2d()` function in the `bs32010.ex08` module:\n",
      "\n",
      "```python\n",
      "plot_hist2d(df1.query_coverage, df1.percentage_identity, \n",
      "            \"query coverage\", \"percentage identity\", \n",
      "            \"one-way percentage identity vs query coverage\")\n",
      "```\n",
      "\n",
      "What kind of relationship between these values do you expect to see?"
     ]
    },
    {
     "cell_type": "code",
     "collapsed": false,
     "input": [
      "# Enter code in this cell\n",
      "plot_hist2d(df1.query_coverage, df1.percentage_identity, \n",
      "            \"query coverage\", \"percentage identity\", \n",
      "            \"one-way percentage identity vs query coverage\")"
     ],
     "language": "python",
     "metadata": {},
     "outputs": [
      {
       "metadata": {},
       "output_type": "display_data",
       "png": "[encoded data removed]",
       "text": [
        "<matplotlib.figure.Figure at 0x10733d750>"
       ]
      }
     ],
     "prompt_number": 12
    },
    {
     "cell_type": "markdown",
     "metadata": {},
     "source": [
      "Again, we find a complex relationship. The bulk of the data is found in the upper right corner of the plot, indicating that this is a full-length match to the query sequence, and that the match has nearly 100% identity.\n",
      "\n",
      "But there is a second population that is smeared across the lower half of the graph, where the query coverage varies widely, and the percentage identity rarely rises above 50%"
     ]
    },
    {
     "cell_type": "heading",
     "level": 4,
     "metadata": {},
     "source": [
      "ACTIVITY 10"
     ]
    },
    {
     "cell_type": "markdown",
     "metadata": {},
     "source": [
      "What kinds of sequence alignments might explain these two populations?"
     ]
    },
    {
     "cell_type": "markdown",
     "metadata": {},
     "source": [
      "Now that we know how our one-way BLAST matches behave, we can see how considering only reciprocal best BLAST matches affects our results."
     ]
    },
    {
     "cell_type": "heading",
     "level": 3,
     "metadata": {},
     "source": [
      "Reciprocal Best BLAST Hits"
     ]
    },
    {
     "cell_type": "markdown",
     "metadata": {},
     "source": [
      "Now we can compare the relationship between our RBBHs and the one-way BLAST matches, to see how one-way BLAST searches compare to the identification of putative orthologues.\n",
      "\n",
      "If you have been experimenting with other datasets and code, you can restore the working dataset for the activities with the code:\n",
      "\n",
      "```python\n",
      "df1, df2, rbbh = find_rbbh('NC_004547', 'NC_013421', pid=0, cov=0)\n",
      "```"
     ]
    },
    {
     "cell_type": "code",
     "collapsed": false,
     "input": [
      "# Enter code in this cell\n",
      "df1, df2, rbbh = find_rbbh('NC_004547', 'NC_013421', pid=0, cov=0)"
     ],
     "language": "python",
     "metadata": {},
     "outputs": [],
     "prompt_number": 13
    },
    {
     "cell_type": "markdown",
     "metadata": {},
     "source": [
      "We can render the same plots as we did above, and compare them to see how finding RBBH affects the kinds of BLAST alignments that are retained."
     ]
    },
    {
     "cell_type": "heading",
     "level": 4,
     "metadata": {},
     "source": [
      "Example 1 "
     ]
    },
    {
     "cell_type": "markdown",
     "metadata": {},
     "source": [
      "How finding RBBH affects alignment coverage.\n",
      "\n",
      "To see this, we can plot 2D histograms of the original one-way BLAST matches, and the reciprocial BLAST matches:\n",
      "\n",
      "```\n",
      "plot_hist2d(df1.query_coverage, df1.subject_coverage, \n",
      "            \"one-way COVq\", \"one-way COVs\", \n",
      "            \"one-way coverage comparison\", bins=50)\n",
      "plot_hist2d(rbbh.query_coverage_x, rbbh.subject_coverage_x, \n",
      "            \"RBBH COVq\", \"RBBH COVs\", \n",
      "            \"RBBH coverage comparison\", bins=50)\n",
      "```"
     ]
    },
    {
     "cell_type": "code",
     "collapsed": false,
     "input": [
      "# Enter code in this cell\n",
      "plot_hist2d(df1.query_coverage, df1.subject_coverage, \n",
      "            \"one-way COVq\", \"one-way COVs\", \n",
      "            \"one-way coverage comparison\", bins=50)\n",
      "plot_hist2d(rbbh.query_coverage_x, rbbh.subject_coverage_x, \n",
      "            \"RBBH COVq\", \"RBBH COVs\", \n",
      "            \"RBBH coverage comparison\", bins=50)"
     ],
     "language": "python",
     "metadata": {},
     "outputs": [
      {
       "metadata": {},
       "output_type": "display_data",
       "png": "[encoded data removed]",
       "text": [
        "<matplotlib.figure.Figure at 0x107ceb8d0>"
       ]
      },
      {
       "metadata": {},
       "output_type": "display_data",
       "png": "[encoded data removed]",
       "text": [
        "<matplotlib.figure.Figure at 0x107cf0290>"
       ]
      }
     ],
     "prompt_number": 14
    },
    {
     "cell_type": "markdown",
     "metadata": {},
     "source": [
      "By retaining only RBBH, most of the complexity of the coverage plot has been discarded. In particular, the large cluster of low COVs sequences in the lower-left of the graph, corresponding to query sequences matching only a subdomain of the subject sequence, has disappeared.\n",
      "\n",
      "Although there are still small numbers of RBBH where coverage is low in one, other or both query and subject sequences, the matches have been very efficiently reduced to the large set in the upper-right corner, indicative of full-length matches of both query and subject sequence, which are intuitively more likely to correspond to orthologues than matches in any other region of the plot."
     ]
    },
    {
     "cell_type": "heading",
     "level": 4,
     "metadata": {},
     "source": [
      "Example 2"
     ]
    },
    {
     "cell_type": "markdown",
     "metadata": {},
     "source": [
      "How does finding RBBH affect the coverage and percentage identity?\n",
      "\n",
      "Again, to see this, we can plot 2D histograms of the original one-way BLAST matches, and the reciprocial BLAST matches:\n",
      "\n",
      "```python\n",
      "plot_hist2d(df1.query_coverage, df1.percentage_identity, \n",
      "            \"query coverage\", \"percentage identity\", \n",
      "            \"one-way percentage identity vs query coverage\",\n",
      "            bins=50)\n",
      "plot_hist2d(rbbh.query_coverage_x, rbbh.percentage_identity_x, \n",
      "            \"query coverage\", \"percentage identity\", \n",
      "            \"RBBH percentage identity vs query coverage\",\n",
      "            bins=50)\n",
      "```"
     ]
    },
    {
     "cell_type": "code",
     "collapsed": false,
     "input": [
      "# Enter code in this cell\n",
      "plot_hist2d(df1.query_coverage, df1.percentage_identity, \n",
      "            \"query coverage\", \"percentage identity\", \n",
      "            \"one-way percentage identity vs query coverage\",\n",
      "            bins=50)\n",
      "plot_hist2d(rbbh.query_coverage_x, rbbh.percentage_identity_x, \n",
      "            \"query coverage\", \"percentage identity\", \n",
      "            \"RBBH percentage identity vs query coverage\",\n",
      "            bins=50)"
     ],
     "language": "python",
     "metadata": {},
     "outputs": [
      {
       "metadata": {},
       "output_type": "display_data",
       "png": "[encoded data removed]",
       "text": [
        "<matplotlib.figure.Figure at 0x10757bdd0>"
       ]
      },
      {
       "metadata": {},
       "output_type": "display_data",
       "png": "[encoded data removed]",
       "text": [
        "<matplotlib.figure.Figure at 0x107bb2f10>"
       ]
      }
     ],
     "prompt_number": 15
    },
    {
     "cell_type": "markdown",
     "metadata": {},
     "source": [
      "We see a similar effect in the plot of RBBH alignment identity against alignment coverage. The complexity seen in the one-way BLAST match plot has all but disappeared when only RBBH are considered. This has left, almost exclusively, BLAST matches to the full query sequence, with a level of sequence identity above 60% for the alignment.\n",
      "\n",
      "There are, again, small numbers of RBBH for which there is not a (nearly) full-length query sequence alignment, or for which the alignment identity is low. These can be removed by imposing a coverage and/or sequence identity filter, e.g. using the `pid` and `cov` arguments of the `find_rbbh()` function."
     ]
    },
    {
     "cell_type": "heading",
     "level": 4,
     "metadata": {},
     "source": [
      "ACTIVITY 11"
     ]
    },
    {
     "cell_type": "markdown",
     "metadata": {},
     "source": [
      "What values of `pid` and `cov` do you think might be reasonable to restrict the RBBH results further, to exclude the majority of matches between non-orthologues, and why? Example code that may be useful for your own experimentation is given below.\n",
      "\n",
      "This code generates a new RBBH data set: `rbbh_40` (it doesn't matter that `df1` and `df2` are overwritten, here - we're only comparing RBBH). Also, two histograms are plotted - the first shows all RBBH, and the second shows the effect of the different percentage identity and coverage settings.\n",
      "\n",
      "```python\n",
      "df1, df2, rbbh = find_rbbh('NC_004547', 'NC_013421', pid=0, cov=0)       # original\n",
      "df1, df2, rbbh_40 = find_rbbh('NC_004547', 'NC_013421', pid=40, cov=40)  # new\n",
      "plot_hist2d(rbbh.query_coverage_x, rbbh.percentage_identity_x, \n",
      "            \"query coverage\", \"percentage identity\", \n",
      "            \"RBBH percentage identity vs query coverage\",\n",
      "            bins=50)\n",
      "plot_hist2d(rbbh_40.query_coverage_x, rbbh_40.percentage_identity_x, \n",
      "            \"query coverage\", \"percentage identity\", \n",
      "            \"RBBH_40 percentage identity vs query coverage\",\n",
      "            bins=50)\n",
      "plot_hist2d(rbbh.query_coverage_x, rbbh.subject_coverage_x, \n",
      "            \"one-way COVq\", \"one-way COVs\", \n",
      "            \"RBBH coverage comparison\", bins=50)\n",
      "plot_hist2d(rbbh_40.query_coverage_x, rbbh_40.subject_coverage_x, \n",
      "            \"RBBH COVq\", \"RBBH COVs\", \n",
      "            \"RBBH_40 coverage comparison\", bins=50)\n",
      "```"
     ]
    },
    {
     "cell_type": "code",
     "collapsed": false,
     "input": [
      "# Enter code in this cell\n",
      "df1, df2, rbbh = find_rbbh('NC_004547', 'NC_013421', pid=0, cov=0)       # original\n",
      "df1, df2, rbbh_40 = find_rbbh('NC_004547', 'NC_013421', pid=40, cov=40)  # new\n",
      "plot_hist2d(rbbh.query_coverage_x, rbbh.percentage_identity_x, \n",
      "            \"query coverage\", \"percentage identity\", \n",
      "            \"RBBH percentage identity vs query coverage\",\n",
      "            bins=50)\n",
      "plot_hist2d(rbbh_40.query_coverage_x, rbbh_40.percentage_identity_x, \n",
      "            \"query coverage\", \"percentage identity\", \n",
      "            \"RBBH_40 percentage identity vs query coverage\",\n",
      "            bins=50)\n",
      "plot_hist2d(rbbh.query_coverage_x, rbbh.subject_coverage_x, \n",
      "            \"one-way COVq\", \"one-way COVs\", \n",
      "            \"RBBH coverage comparison\", bins=50)\n",
      "plot_hist2d(rbbh_40.query_coverage_x, rbbh_40.subject_coverage_x, \n",
      "            \"RBBH COVq\", \"RBBH COVs\", \n",
      "            \"RBBH_40 coverage comparison\", bins=50)"
     ],
     "language": "python",
     "metadata": {},
     "outputs": [
      {
       "metadata": {},
       "output_type": "display_data",
       "png": "[encoded data removed]",
       "text": [
        "<matplotlib.figure.Figure at 0x10744bed0>"
       ]
      },
      {
       "metadata": {},
       "output_type": "display_data",
       "png": "[encoded data removed]",
       "text": [
        "<matplotlib.figure.Figure at 0x10757b650>"
       ]
      },
      {
       "metadata": {},
       "output_type": "display_data",
       "png": "[encoded data removed]",
       "text": [
        "<matplotlib.figure.Figure at 0x1074396d0>"
       ]
      },
      {
       "metadata": {},
       "output_type": "display_data",
       "png": "[encoded data removed]",
       "text": [
        "<matplotlib.figure.Figure at 0x10311ac50>"
       ]
      }
     ],
     "prompt_number": 16
    },
    {
     "cell_type": "heading",
     "level": 2,
     "metadata": {},
     "source": [
      "4. Writing RBBH output to file"
     ]
    },
    {
     "cell_type": "markdown",
     "metadata": {},
     "source": [
      "Now we will write the RBBH found above to a `.crunch` output file suitable for viewing in **ACT**. This job is made easier because we have collected our data in a `Pandas` dataframe. \n",
      "\n",
      "However, we do not yet have enough information to generate such a file, because we do not have the locations of our gene features, with respect to their source sequences. The `read_genbank()` function in the `bs32010.ex08` module allows us to get this data, and the the `write_crunch()` function lets us generate `.crunch` output:\n",
      "\n",
      "```python\n",
      "features = read_genbank(\"data/NC_004547.gbk\", \"data/NC_013421.gbk\")\n",
      "write_crunch(rbbh, features, filename=\"NC_004547_vs_NC_013421.crunch\")\n",
      "```"
     ]
    },
    {
     "cell_type": "code",
     "collapsed": false,
     "input": [
      "# Enter code in this cell\n",
      "features = read_genbank(\"data/NC_004547.gbk\", \"data/NC_013421.gbk\")\n",
      "write_crunch(rbbh, features, outdir=\"data/rbbh_output\", filename=\"NC_004547_vs_NC_013421.crunch\")"
     ],
     "language": "python",
     "metadata": {},
     "outputs": [
      {
       "output_type": "stream",
       "stream": "stdout",
       "text": [
        "Loaded 8909 features\n",
        "Wrote file to data/rbbh_output/NC_004547_vs_NC_013421.crunch"
       ]
      },
      {
       "output_type": "stream",
       "stream": "stdout",
       "text": [
        "\n"
       ]
      }
     ],
     "prompt_number": 17
    },
    {
     "cell_type": "markdown",
     "metadata": {},
     "source": [
      "The `.crunch` file produced should now be usable in **ACT**, to visualise the comparison between these two genomes."
     ]
    },
    {
     "cell_type": "heading",
     "level": 4,
     "metadata": {},
     "source": [
      "ACTIVITY 12"
     ]
    },
    {
     "cell_type": "markdown",
     "metadata": {},
     "source": [
      "Visualise and comment on the RBBH comparison between the two *Pectobacterium* genomes. There appears to have been some rearrangement/inversion of the two genomes. Propose a series of events that explain this restructuring."
     ]
    },
    {
     "cell_type": "heading",
     "level": 4,
     "metadata": {},
     "source": [
      "ACTIVITY 13"
     ]
    },
    {
     "cell_type": "markdown",
     "metadata": {},
     "source": [
      "Repeat this analysis for comparisons of the *Pectobacterium* and *Erwinia tasmaniensis* genomes."
     ]
    }
   ],
   "metadata": {}
  }
 ]
}