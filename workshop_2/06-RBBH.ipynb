{
 "cells": [
  {
   "cell_type": "markdown",
   "metadata": {},
   "source": [
    "# Session 06 - Reciprocal Best BLAST Hits (RBBH) <img src=\"data/JHI_STRAP_Web.png\" style=\"width: 150px; float: right;\"> "
   ]
  },
  {
   "cell_type": "markdown",
   "metadata": {
    "collapsed": true
   },
   "source": [
    "## Learning Outcomes\n",
    "\n",
    "* Conduct `BLASTP` comparisons between protein complements for prokaryotes\n",
    "* Identify reciprocal best `BLAST` matches\n",
    "* Visualise and interpret reciprocal best `BLAST` matches using a range of tools"
   ]
  },
  {
   "cell_type": "markdown",
   "metadata": {},
   "source": [
    "## Introduction\n",
    "\n",
    "### Reciprocal best `BLAST` hits\n",
    "\n",
    "As discussed in the lecture, reciprocal Best `BLAST` Hits (RBBH) are a common approximation to orthology for protein sequences, used in comparative genomics. An RBBH is found when two proteins, each in a different genome, find each other as the best scoring match in the other genome.\n",
    "\n",
    "### Python code\n",
    "\n",
    "We will use the [`Biopython`](http://www.biopython.org) libraries to interact with and manipulate sequence data, and the [`Pandas`](http://pandas.pydata.org/) data analysis libraries to manipulate numerical data and `BLAST` output.\n",
    "\n",
    "Most of the code you will use is imported from the local `bs32010` module in this directory, to avoid clutter in this notebook. You can inspect this module if you are interested in how the functions work."
   ]
  },
  {
   "cell_type": "code",
   "execution_count": null,
   "metadata": {
    "collapsed": false
   },
   "outputs": [],
   "source": [
    "%pylab inline\n",
    "\n",
    "from bs32010 import ex06  # Local functions and data"
   ]
  },
  {
   "cell_type": "markdown",
   "metadata": {},
   "source": [
    "## 1. One-way `BLASTP` comparisons for RBBH\n",
    "\n",
    "### Two organisms\n",
    "\n",
    "Reciprocal best hits are built from \"one-way\" best hits. For organisms `A` and `B`, the best hits to the proteins of `A` in `B` would be found by a one-way `BLASTP` search of the proteins of `A` against those of `B`. Likewise, the best hits to the proteins of `B` in `A` would be found by a one-way `BLASTP` search of the proteins of `B` against those of `A`. This would give us two `BLAST` output files:\n",
    "\n",
    "* `A_vs_B.tab`\n",
    "* `B_vs_A.tab`\n",
    "\n",
    "Then, to identify the RBBHs for `A` and `B`, we would identify those proteins of `A` and `B` that find each other as the best-scoring match in both files.\n",
    "\n",
    "### Three or more organisms\n",
    "\n",
    "The number of `BLASTP` comparisons we need to perform increases quickly with the number of additional organisms we include. For three organisms (`X`, `Y`, `Z`), we aim to produce three sets of RBBH, for each of the ways of combining the organisms in pairs:\n",
    "\n",
    "* `X` vs `Y`\n",
    "* `X` vs `Z`\n",
    "* `Y` vs `Z`\n",
    "\n",
    "and we would need to run two one-way `BLASTP` searches for each of those outputs.\n",
    "\n",
    "For $k$ organisms, we need to run $k^2 - k = k(k -1)$ `BLASTP` searches, in order to obtain $\\frac{k(k -1)}{2}$ RBBH output files. This is, for even reasonably small numbers of organisms, time-consuming and best automated by a script.\n",
    "\n",
    "There are alternative, faster, sequence alignment/search programs that could be used, but the choice of program affects the final results, as found in [Ward and Moreno-Hagelsieb (2014)](http://dx.doi.org/10.1371/journal.pone.0101850).\n",
    "\n",
    "### Coverage and identity\n",
    "\n",
    "BLAST matches provide two parameters by which we can rank and filter results: *coverage* and *identity*.\n",
    "\n",
    "* **identity**: the percentage of the BLASTP alignment that is made up of identical amino acid sequence, in the two matching sequences.\n",
    "* **coverage**: There are two coverage values, one for the query sequence, and one for the subject sequence. They represent the percentage of the query (or subject) sequence that is covered by the aligned region.\n",
    "\n",
    "These are useful parameters because they allow us to tune our `BLAST` output to reflect the degree of sequence similarity (and therefore presumed functional similarity) we want to have in our final RBBH set.\n",
    "\n",
    "To calculate percentage identity ($PID$) of the `BLAST` match directly (though this value is provided for us to use in the `BLASTP` output), we would calculate:\n",
    "\n",
    "$$\n",
    "PID = \\frac{\\text{identical_sites}}{\\text{alignment_length}}\n",
    "$$\n",
    "\n",
    "and to calculate query and subject coverage ($COV_{q}$ and $COV_{s}$, which we can request from custom `BLASTP` output), we find:\n",
    "\n",
    "$$\n",
    "COV_q = \\frac{\\text{alignment_length}}{\\text{query_length}} \\\\\n",
    "COV_s = \\frac{\\text{alignment_length}}{\\text{subject_length}}\n",
    "$$\n",
    "\n",
    "### Sequence and `BLAST` output data\n",
    "\n",
    "You will be working with the chromosomal protein complements of related bacteria are provided in the `rbbh_data` directory:\n",
    "\n",
    "* `NC_004547.faa`: *Pectobacterium atrosepticum* SCRI1043\n",
    "* `NC_013421.faa`: *Pectobacterium wasabiae* WPP163\n",
    "* `NC_010694.faa`: *Erwinia tasmaniensis* ET1_99\n",
    "\n",
    "and BLASTP comparisons of each protein sequence file that, to save time (this takes ≈15min on my laptop, without parallelisation), have already been conducted against both of the other protein sequence files:\n",
    "\n",
    "* `NC_004547` vs `NC_013421`\n",
    "* `NC_004547` vs `NC_010694`\n",
    "* `NC_013421` vs `NC_004547`\n",
    "* `NC_013421` vs `NC_010694`\n",
    "* `NC_010694` vs `NC_004547`\n",
    "* `NC_010694` vs `NC_013421`\n",
    "\n",
    "using BLAST commands of the form:\n",
    "\n",
    "```\n",
    "blastp -query data/NC_004547.faa -subject data/NC_013421.faa \\\n",
    "       -outfmt \"6 qseqid sseqid qlen slen length nident pident evalue bitscore\" \\\n",
    "       -out output/NC_004547_vs_NC_013421.tab -max_target_seqs 1\n",
    "```\n",
    "\n",
    "If you would like to see how they were run, please examine the accompanying script file `run_rbbh_blast.sh`\n",
    "\n",
    "The one-way `BLAST` output is found in the `rbbh_data/rbbh_output` directory:\n",
    "\n",
    "```bash\n",
    "rbbh_data/\n",
    "├── NC_004547.faa\n",
    "├── NC_004547.gbk\n",
    "├── NC_010694.faa\n",
    "├── NC_010694.gbk\n",
    "├── NC_013421.faa\n",
    "├── NC_013421.gbk\n",
    "└── rbbh_output\n",
    "    ├── NC_004547.faa.phr\n",
    "    ├── NC_004547.faa.pin\n",
    "    ├── NC_004547.faa.psq\n",
    "    ├── NC_004547_vs_NC_010694.tab\n",
    "    ├── NC_004547_vs_NC_013421.tab\n",
    "    ├── NC_010694.faa.phr\n",
    "    ├── NC_010694.faa.pin\n",
    "    ├── NC_010694.faa.psq\n",
    "    ├── NC_010694_vs_NC_004547.tab\n",
    "    ├── NC_010694_vs_NC_013421.tab\n",
    "    ├── NC_013421.faa.phr\n",
    "    ├── NC_013421.faa.pin\n",
    "    ├── NC_013421.faa.psq\n",
    "    ├── NC_013421_vs_NC_004547.tab\n",
    "    └── NC_013421_vs_NC_010694.tab\n",
    "```\n",
    "\n",
    "** Exercise 1 (5min): Inspect the `rbbh_data/rbbh_output` to see the one-way `BLASTP` output **"
   ]
  },
  {
   "cell_type": "markdown",
   "metadata": {},
   "source": [
    "## 2. Parsing `BLASTP` output\n",
    "\n",
    "The `BLASTP` output in `rbbh_data/rbbh_output` is in plain text, tab-separated format. `BLASTP` was run set to find only a single match for each protein query, and the output is not in standard `BLASTP` form. The columns in each of the `*.tab` files correspond to:\n",
    "\n",
    "`query_id, subject_id, query_length, subject_length, alignment_length, identical_sites, percentage_identity, E-value , bitscore`\n",
    "\n",
    "The function `ex06.find_rbbh()` will find the RBBH for any pair of the three files `NC_004547`, `NC_013421`, and `NC_010694`. It returns three `Pandas` dataframes:\n",
    "\n",
    "* `df1`: the forward direction one-way BLAST search data\n",
    "* `df2`: the reverse direction one-way BLAST search data\n",
    "* `rbbh`: the corresponding set of reciprocal best hits\n",
    "\n",
    "For example, the code below shows the first few lines of each of the dataframes for the comparison between SCRI1043 and *Erwinia tasmaniensis*.\n",
    "\n",
    "```python\n",
    "df1, df2, rbbh1 = ex06.find_rbbh('NC_004547', 'NC_010694')\n",
    "df1.head()\n",
    "df2.head()\n",
    "rbbh1.head()\n",
    "```\n",
    "\n",
    "** Exercise 2(5min): Run this code, and inspect the first few lines of each dataframe **"
   ]
  },
  {
   "cell_type": "code",
   "execution_count": null,
   "metadata": {
    "collapsed": false
   },
   "outputs": [],
   "source": [
    "# Enter code here\n",
    "df1, df2, rbbh1 = ex06.find_rbbh('NC_004547', 'NC_010694')\n",
    "df1.head()\n",
    "df2.head()\n",
    "rbbh1.head()"
   ]
  },
  {
   "cell_type": "markdown",
   "metadata": {},
   "source": [
    "** Exercise 3 (5min): Perform the same analysis for the *Pectobacterium* chromosomes `NC_004547` and `NC_013421`, using the variable names `df3`, `df4`, and `rbbh2` **"
   ]
  },
  {
   "cell_type": "code",
   "execution_count": null,
   "metadata": {
    "collapsed": false
   },
   "outputs": [],
   "source": [
    "# Enter code here\n",
    "df3, df4, rbbh2 = ex06.find_rbbh('NC_004547', 'NC_013421')\n",
    "df3.head()\n",
    "df4.head()\n",
    "rbbh2.head()"
   ]
  },
  {
   "cell_type": "markdown",
   "metadata": {},
   "source": [
    "You can find the number of rows in a dataframe using the function `len()`. For example, the dataframe `df1` should have 4466 rows, if you run the function `len(df1)`.\n",
    "\n",
    "** Exercise 4 (5min): How many rows do the one-way hits for each analysis have, and how many RBBH result in each analysis? **\n",
    "\n",
    "* What proportion of one-way hits is lost in each analysis?\n",
    "* Which comparison produces the most RBBH?\n",
    "* Why are the two results different?"
   ]
  },
  {
   "cell_type": "code",
   "execution_count": null,
   "metadata": {
    "collapsed": false
   },
   "outputs": [],
   "source": [
    "# Enter code here\n",
    "len(df1), len(df2), len(rbbh1), len(df3), len(df4), len(rbbh2)"
   ]
  },
  {
   "cell_type": "markdown",
   "metadata": {},
   "source": [
    "By using the `.describe()` *method* of a dataframe, we can get more summary statistical information, such as the means and quantiles of a column of data. For example, to get a summary of the information in `rbbh1` we could run\n",
    "\n",
    "```python\n",
    "rbbh1.describe()\n",
    "```\n",
    "\n",
    "** Exercise 5 (5min): Use the `.describe()` method for both RBBH results, and look at the data for percentage identity and percentage coverage. **\n",
    "\n",
    "* How do these values differ between the two sets of results?\n",
    "* Why do you think they differ in this way?\n",
    "* Why do you think the maximum coverage can exceed 100%?"
   ]
  },
  {
   "cell_type": "code",
   "execution_count": null,
   "metadata": {
    "collapsed": false
   },
   "outputs": [],
   "source": [
    "# Enter code here\n",
    "rbbh1.describe()\n",
    "rbbh2.describe()"
   ]
  },
  {
   "cell_type": "code",
   "execution_count": null,
   "metadata": {
    "collapsed": true
   },
   "outputs": [],
   "source": []
  }
 ],
 "metadata": {
  "kernelspec": {
   "display_name": "Python 3",
   "language": "python",
   "name": "python3"
  },
  "language_info": {
   "codemirror_mode": {
    "name": "ipython",
    "version": 3
   },
   "file_extension": ".py",
   "mimetype": "text/x-python",
   "name": "python",
   "nbconvert_exporter": "python",
   "pygments_lexer": "ipython3",
   "version": "3.5.1"
  }
 },
 "nbformat": 4,
 "nbformat_minor": 0
}
