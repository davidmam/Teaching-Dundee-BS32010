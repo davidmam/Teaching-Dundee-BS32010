{
 "cells": [
  {
   "cell_type": "markdown",
   "metadata": {},
   "source": [
    "# Session 02 - Chromosome $k$-mers <img src=\"data/JHI_STRAP_Web.png\" style=\"width: 150px; float: right;\"> "
   ]
  },
  {
   "cell_type": "markdown",
   "metadata": {},
   "source": [
    "## Learning Outcomes\n",
    "\n",
    "* Read and manipulate prokaryotic genome sequences using [Biopython](https://www.biopython.org).\n",
    "* Extract bulk genome properties from a genome sequence\n",
    "* Visualisation of genome properties using Python\n",
    "* Use of bulk genome properties to discriminate and identify organisms"
   ]
  },
  {
   "cell_type": "markdown",
   "metadata": {},
   "source": [
    "## Introduction\n",
    "\n",
    "### $k$-mers\n",
    "\n",
    "Empirical frequencies of DNA $k$-mers in whole genome sequences provide an interesting perspective on genomic complexity, and the availability of large segments of genomic sequence from many organisms means that analysis of $k$-mers with non-trivial lengths is now possible, as can be seen in [Chor *et al.* (2009) *Genome Biol.* **10**:R108](http://dx.doi.org/10.1186/gb-2009-10-10-r108).\n",
    "\n",
    "![k-mer spectra for a range of organisms](data/kmer_spectra.png \"k-mer spectra for a range of organisms\")\n",
    "\n",
    "You will visualise the distribution of $k$-mer counts as spectra, as in the image above, using Python.\n",
    "\n",
    "### Python code\n",
    "\n",
    "We will use the [`Biopython`](http://www.biopython.org) libraries to interact with and manipulate sequence data, and the [`Pandas`](http://pandas.pydata.org/) data analysis libraries to manipulate numerical data.\n",
    "\n",
    "Some code is imported from the local `bs32010` module in this directory, to avoid clutter in this notebook. You can inspect this module if you are interested."
   ]
  },
  {
   "cell_type": "code",
   "execution_count": 1,
   "metadata": {
    "collapsed": false
   },
   "outputs": [],
   "source": [
    "%matplotlib inline\n",
    "from Bio import SeqIO                 # For working with sequence data files\n",
    "from Bio.Seq import Seq               # Seq object, needed for the last activity\n",
    "from Bio.Alphabet import generic_dna  # sequence alphabet, for the last activity\n",
    "\n",
    "from bs32010 import ex02              # Local functions and data"
   ]
  },
  {
   "cell_type": "markdown",
   "metadata": {},
   "source": [
    "### Sequence data\n",
    "\n",
    "Like Session 01, we will be dealing with sequence data directly, but there are again helper functions for this exercise, in the module `ex02`.\n",
    "\n",
    "There is a dictionary stored in the variable `ex02.bact_files`. This provides a tuple of sequence file names, for any organism name in the list stored in `ex02.bacteria`.\n",
    "\n",
    "You can see the contents of this list and dictionary with\n",
    "\n",
    "```python\n",
    "print(list(ex02.bacteria))\n",
    "print(ex02.bact_files)\n",
    "```"
   ]
  },
  {
   "cell_type": "code",
   "execution_count": 2,
   "metadata": {
    "collapsed": false
   },
   "outputs": [
    {
     "name": "stdout",
     "output_type": "stream",
     "text": [
      "['Mycobacterium tuberculosis', 'Mycoplasma pneumoniae', 'Nostoc punctiforme', 'Escherichia coli', 'Mycoplasma genitalium']\n",
      "{'Mycobacterium tuberculosis': ('genome_data/gc_content/NC_016934.fna', 'genome_data/gc_content/NC_017523.fna', 'genome_data/gc_content/NC_022350.fna', 'genome_data/gc_content/NC_000962.fna'), 'Mycoplasma pneumoniae': ('genome_data/gc_content/NC_000912.fna', 'genome_data/gc_content/NC_016807.fna', 'genome_data/gc_content/NC_017504.fna', 'genome_data/gc_content/NC_020076.fna'), 'Mycoplasma genitalium': ('genome_data/gc_content/NC_018495.fna', 'genome_data/gc_content/NC_018496.fna', 'genome_data/gc_content/NC_018497.fna', 'genome_data/gc_content/NC_018498.fna'), 'Escherichia coli': ('genome_data/gc_content/NC_000913.fna', 'genome_data/gc_content/NC_002695.fna', 'genome_data/gc_content/NC_004431.fna', 'genome_data/gc_content/NC_010468.fna'), 'Nostoc punctiforme': ('genome_data/gc_content/NC_010628.fna',)}\n"
     ]
    }
   ],
   "source": [
    "# Enter code here\n",
    "print(list(ex02.bacteria))\n",
    "print(ex02.bact_files)"
   ]
  },
  {
   "cell_type": "markdown",
   "metadata": {},
   "source": [
    "To choose a particular organism, you can use the square bracket notation for dictionaries:\n",
    "\n",
    "```python\n",
    "print(ex02.bact_files['Mycobacterium tuberculosis'])\n",
    "```"
   ]
  },
  {
   "cell_type": "code",
   "execution_count": 3,
   "metadata": {
    "collapsed": false
   },
   "outputs": [
    {
     "name": "stdout",
     "output_type": "stream",
     "text": [
      "('genome_data/gc_content/NC_016934.fna', 'genome_data/gc_content/NC_017523.fna', 'genome_data/gc_content/NC_022350.fna', 'genome_data/gc_content/NC_000962.fna')\n"
     ]
    }
   ],
   "source": [
    "# Enter code here\n",
    "print(ex02.bact_files['Mycobacterium tuberculosis'])"
   ]
  },
  {
   "cell_type": "markdown",
   "metadata": {},
   "source": [
    "## 1. Counting $k$-mers\n",
    "\n",
    "A function is provided in the `ex02` module to help you:\n",
    "\n",
    "* `count_seq_kmers(inseq, k)`: this counts all subsequences of size $k$ in the sequence `inseq`\n",
    "\n",
    "Test the function using the code below, which conducts the analysis for a *Pectobacterium* chromosome:\n",
    "\n",
    "```python\n",
    "inseq = SeqIO.read('genome_data/Pectobacterium/GCA_000769535.1.fasta', 'fasta')\n",
    "kmer_count = ex02.count_seq_kmers(inseq, 6)\n",
    "kmer_count.head()\n",
    "```\n",
    "\n",
    "The `Pandas` dataframe that is returned lets us use the `.head()` method to view the first few rows of the dataframe. This shows a column of six-character strings (the $k$-mers), with a second column showing the number of times that $k$-mer occurs in the genome."
   ]
  },
  {
   "cell_type": "code",
   "execution_count": 5,
   "metadata": {
    "collapsed": false
   },
   "outputs": [
    {
     "data": {
      "text/html": [
       "<div>\n",
       "<table border=\"1\" class=\"dataframe\">\n",
       "  <thead>\n",
       "    <tr style=\"text-align: right;\">\n",
       "      <th></th>\n",
       "      <th>frequency</th>\n",
       "    </tr>\n",
       "  </thead>\n",
       "  <tbody>\n",
       "    <tr>\n",
       "      <th>GGCACT</th>\n",
       "      <td>1810</td>\n",
       "    </tr>\n",
       "    <tr>\n",
       "      <th>ATACTT</th>\n",
       "      <td>1293</td>\n",
       "    </tr>\n",
       "    <tr>\n",
       "      <th>CCAGAG</th>\n",
       "      <td>2379</td>\n",
       "    </tr>\n",
       "    <tr>\n",
       "      <th>GAGAGT</th>\n",
       "      <td>888</td>\n",
       "    </tr>\n",
       "    <tr>\n",
       "      <th>AGCTCC</th>\n",
       "      <td>1113</td>\n",
       "    </tr>\n",
       "  </tbody>\n",
       "</table>\n",
       "</div>"
      ],
      "text/plain": [
       "        frequency\n",
       "GGCACT       1810\n",
       "ATACTT       1293\n",
       "CCAGAG       2379\n",
       "GAGAGT        888\n",
       "AGCTCC       1113"
      ]
     },
     "execution_count": 5,
     "metadata": {},
     "output_type": "execute_result"
    }
   ],
   "source": [
    "# Enter code here\n",
    "inseq = SeqIO.read('genome_data/Pectobacterium/GCA_000769535.1.fasta', 'fasta')\n",
    "kmer_count = ex02.count_seq_kmers(inseq, 6)\n",
    "kmer_count.head()"
   ]
  },
  {
   "cell_type": "markdown",
   "metadata": {},
   "source": [
    "We can also inspect the `.shape` attribute to find out how large the returned results are, as this returns a `(rows, columns)` tuple, using the code below:\n",
    "\n",
    "```python\n",
    "kmer_count.shape\n",
    "```\n",
    "\n",
    "This tells us that there are 4096 distinct 6-mers in the sequence."
   ]
  },
  {
   "cell_type": "code",
   "execution_count": 6,
   "metadata": {
    "collapsed": false
   },
   "outputs": [
    {
     "data": {
      "text/plain": [
       "(4096, 1)"
      ]
     },
     "execution_count": 6,
     "metadata": {},
     "output_type": "execute_result"
    }
   ],
   "source": [
    "# Enter code here\n",
    "kmer_count.shape"
   ]
  },
  {
   "cell_type": "markdown",
   "metadata": {},
   "source": [
    "## 2. Plotting $k$-mer spectra\n",
    "\n",
    "You can use the built-in `.hist()` method of `Pandas` dataframes, that will plot a histogram directly in this notebook. By default, this has quite a wide bin width, but this can be overridden with the `bins=n` argument, as with:\n",
    "\n",
    "```python\n",
    "kmer_count.hist(column='frequency', bins=100)\n",
    "```\n",
    "\n",
    "By default, the `.hist()` method will display the full range of data, but by specifying maximum and minimum values with the `range=(min, max)` argument, the extent of data displayed can be controlled.\n",
    "\n",
    "Use the code below to visualise the 6-mer spectrum\n",
    "\n",
    "```python\n",
    "kmer_count.hist(column='frequency', bins=100, range=(0, 1000))\n",
    "```"
   ]
  },
  {
   "cell_type": "code",
   "execution_count": 10,
   "metadata": {
    "collapsed": false
   },
   "outputs": [
    {
     "data": {
      "text/plain": [
       "array([[<matplotlib.axes._subplots.AxesSubplot object at 0x108b4ca90>]], dtype=object)"
      ]
     },
     "execution_count": 10,
     "metadata": {},
     "output_type": "execute_result"
    },
    {
     "data": {
      "image/png": "[encoded data removed]",
      "text/plain": [
       "<matplotlib.figure.Figure at 0x108a48d68>"
      ]
     },
     "metadata": {},
     "output_type": "display_data"
    }
   ],
   "source": [
    "# Enter code here\n",
    "kmer_count.hist(column='frequency', bins=100, range=(0, 1000))"
   ]
  },
  {
   "cell_type": "markdown",
   "metadata": {},
   "source": [
    "*** Exercise 1 (10min): Recreate the plot in the upper left corner of the figure in the introduction, for one of the *E. coli* genomes. ***\n",
    "\n",
    "* **HINT:** Use `print(ex02.bact_files['Escherichia coli'])` to get a list of *E.coli* chromosome files."
   ]
  },
  {
   "cell_type": "code",
   "execution_count": 15,
   "metadata": {
    "collapsed": false
   },
   "outputs": [
    {
     "name": "stdout",
     "output_type": "stream",
     "text": [
      "('genome_data/gc_content/NC_000913.fna', 'genome_data/gc_content/NC_002695.fna', 'genome_data/gc_content/NC_004431.fna', 'genome_data/gc_content/NC_010468.fna')\n"
     ]
    },
    {
     "data": {
      "text/plain": [
       "array([[<matplotlib.axes._subplots.AxesSubplot object at 0x10a1527b8>]], dtype=object)"
      ]
     },
     "execution_count": 15,
     "metadata": {},
     "output_type": "execute_result"
    },
    {
     "data": {
      "image/png": "[encoded data removed]",
      "text/plain": [
       "<matplotlib.figure.Figure at 0x109f025f8>"
      ]
     },
     "metadata": {},
     "output_type": "display_data"
    }
   ],
   "source": [
    "# Enter code here\n",
    "print(ex02.bact_files['Escherichia coli'])\n",
    "inseq = SeqIO.read('genome_data/gc_content/NC_000913.fna', 'fasta')\n",
    "kmer_count = ex02.count_seq_kmers(inseq, 8)\n",
    "kmer_count.head()\n",
    "kmer_count.hist(column='frequency', bins=350, range=(0, 350))"
   ]
  }
 ],
 "metadata": {
  "kernelspec": {
   "display_name": "Python 3",
   "language": "python",
   "name": "python3"
  },
  "language_info": {
   "codemirror_mode": {
    "name": "ipython",
    "version": 3
   },
   "file_extension": ".py",
   "mimetype": "text/x-python",
   "name": "python",
   "nbconvert_exporter": "python",
   "pygments_lexer": "ipython3",
   "version": "3.5.1"
  }
 },
 "nbformat": 4,
 "nbformat_minor": 0
}
