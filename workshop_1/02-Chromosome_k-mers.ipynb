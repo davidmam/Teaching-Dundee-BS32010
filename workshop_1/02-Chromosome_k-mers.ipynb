{
 "cells": [
  {
   "cell_type": "markdown",
   "metadata": {},
   "source": [
    "# Session 02 - Chromosome $k$-mers <img src=\"data/JHI_STRAP_Web.png\" style=\"width: 150px; float: right;\"> "
   ]
  },
  {
   "cell_type": "markdown",
   "metadata": {},
   "source": [
    "## Learning Outcomes\n",
    "\n",
    "* Read and manipulate prokaryotic genome sequences using [Biopython](https://www.biopython.org).\n",
    "* Extract bulk genome properties from a genome sequence\n",
    "* Visualisation of bulk genome properties using Python"
   ]
  },
  {
   "cell_type": "markdown",
   "metadata": {},
   "source": [
    "## Introduction\n",
    "\n",
    "### $k$-mers\n",
    "\n",
    "Empirical frequencies of DNA $k$-mers in whole genome sequences provide an interesting perspective on genomic complexity, and the availability of large segments of genomic sequence from many organisms means that analysis of $k$-mers with non-trivial lengths is now possible, as can be seen in [Chor *et al.* (2009) *Genome Biol.* **10**:R108](http://dx.doi.org/10.1186/gb-2009-10-10-r108).\n",
    "\n",
    "![k-mer spectra for a range of organisms](data/kmer_spectra.png \"k-mer spectra for a range of organisms\")\n",
    "\n",
    "You will visualise the distribution of $k$-mer counts as spectra, as in the image above, using Python.\n",
    "\n",
    "In a later workshop we will use the program `sourmash` which allows the quantitative comparison of different genomes using $k$-mers \n",
    "\n",
    "### Python code\n",
    "\n",
    "We will use the [`Biopython`](http://www.biopython.org) libraries to interact with and manipulate sequence data, and the [`Pandas`](http://pandas.pydata.org/) data analysis libraries to manipulate numerical data.\n",
    "\n",
    "Some code is imported from the local `bs32010` module in this directory, to avoid clutter in this notebook. You can inspect this module if you are interested."
   ]
  },
  {
   "cell_type": "code",
   "execution_count": null,
   "metadata": {},
   "outputs": [],
   "source": [
    "%matplotlib inline\n",
    "from Bio import SeqIO                 # For working with sequence data files\n",
    "from Bio.Seq import Seq               # Seq object, needed for the last activity\n",
    "from Bio.Alphabet import generic_dna  # sequence alphabet, for the last activity\n",
    "\n",
    "from bs32010 import ex02              # Local functions and data"
   ]
  },
  {
   "cell_type": "markdown",
   "metadata": {},
   "source": [
    "### Sequence data\n",
    "\n",
    "Like Session 01, we will be dealing with sequence data directly, but there are again helper functions for this exercise, in the module `ex02`.\n",
    "\n",
    "There is a dictionary stored in the variable `ex02.bact_files`. This provides a tuple of sequence file names, for any organism name in the list stored in `ex02.bacteria`.\n",
    "\n",
    "You can see the contents of this list and dictionary with\n",
    "\n",
    "```python\n",
    "print(list(ex02.bacteria))\n",
    "print(ex02.bact_files)\n",
    "```\n",
    "\n",
    "As for [exercise 01](01-GC_Chromosome_Size.ipynb), you can use the `ex02.add_genome(filename, species)` method to add your own data."
   ]
  },
  {
   "cell_type": "code",
   "execution_count": null,
   "metadata": {},
   "outputs": [],
   "source": [
    "print(list(ex02.bacteria))\n",
    "print(ex02.bact_files)"
   ]
  },
  {
   "cell_type": "markdown",
   "metadata": {},
   "source": [
    "To choose a particular organism, you can use the square bracket notation for dictionaries:\n",
    "\n",
    "```python\n",
    "print(ex02.bact_files['Mycobacterium tuberculosis'])\n",
    "```"
   ]
  },
  {
   "cell_type": "code",
   "execution_count": null,
   "metadata": {},
   "outputs": [],
   "source": [
    "print(ex02.bact_files['Mycobacterium tuberculosis'])"
   ]
  },
  {
   "cell_type": "markdown",
   "metadata": {},
   "source": [
    "## 1. Counting $k$-mers\n",
    "\n",
    "A function is provided in the `ex02` module to help you:\n",
    "\n",
    "* `count_genome_kmers(filename, k)`: this counts all subspecies of size $k$ across all the sequences found in the file `filename`\n",
    "\n",
    "\n",
    "Test the function using the code below, which conducts the analysis for a *Pectobacterium* chromosome:\n",
    "\n",
    "```python\n",
    "\n",
    "kmer_count = ex02.count_genome_kmers(filename, 6)\n",
    "kmer_count.head()\n",
    "```\n",
    "\n",
    "The `Pandas` dataframe that is returned lets us use the `.head()` method to view the first few rows of the dataframe. This shows a column of six-character strings (the $k$-mers), with a second column showing the number of times that $k$-mer occurs in the genome."
   ]
  },
  {
   "cell_type": "code",
   "execution_count": null,
   "metadata": {},
   "outputs": [],
   "source": [
    "kmer_count = ex02.count_genome_kmers('genome_data/gc_content\\\\NC_016934.fna', 6)\n",
    "kmer_count.head()"
   ]
  },
  {
   "cell_type": "markdown",
   "metadata": {},
   "source": [
    "We can also inspect the `.shape` attribute to find out how large the returned results are, as this returns a `(rows, columns)` tuple, using the code below:\n",
    "\n",
    "```python\n",
    "kmer_count.shape\n",
    "```\n",
    "\n",
    "This tells us that there are 4096 distinct 6-mers in the sequence.\n",
    "\n",
    "**NOTE:** We are using small values for $k$ as the code here is not robust for high values. The program `sourmash` is optimised for much larger values of $k$ (in the many tens). It is sufficient to demonstrate the differences though."
   ]
  },
  {
   "cell_type": "code",
   "execution_count": null,
   "metadata": {},
   "outputs": [],
   "source": [
    "kmer_count.shape"
   ]
  },
  {
   "cell_type": "markdown",
   "metadata": {},
   "source": [
    "## 2. Plotting $k$-mer spectra\n",
    "\n",
    "You can use the built-in `.hist()` method of `Pandas` dataframes, that will plot a histogram directly in this notebook. By default, this has quite a wide bin width, but this can be overridden with the `bins=n` argument, as with:\n",
    "\n",
    "```python\n",
    "kmer_count.hist(column='frequency', bins=100)\n",
    "```\n",
    "\n",
    "By default, the `.hist()` method will display the full range of data, but by specifying maximum and minimum values with the `range=(min, max)` argument, the extent of data displayed can be controlled.\n",
    "\n",
    "Use the code below to visualise the 6-mer spectrum\n",
    "\n",
    "```python\n",
    "kmer_count.hist(column='frequency', bins=100, range=(0, 2000))\n",
    "```"
   ]
  },
  {
   "cell_type": "code",
   "execution_count": null,
   "metadata": {},
   "outputs": [],
   "source": [
    "kmer_count.hist(column='frequency', bins=100, range=(0, 2000))"
   ]
  },
  {
   "cell_type": "markdown",
   "metadata": {},
   "source": [
    "*** Exercise 1 (10min): Recreate the plot in the upper left corner of the figure in the introduction, for one of the *E. coli* genomes. ***\n",
    "\n",
    "* **HINT:** Use `print(ex02.bact_files['Escherichia coli'])` to get a list of *E.coli* chromosome files."
   ]
  },
  {
   "cell_type": "code",
   "execution_count": null,
   "metadata": {},
   "outputs": [],
   "source": [
    "print(ex02.bact_files['Escherichia coli'])"
   ]
  },
  {
   "cell_type": "code",
   "execution_count": null,
   "metadata": {},
   "outputs": [],
   "source": [
    "ecoli_kmer_count = ex02.count_genome_kmers('genome_data/gc_content\\\\NC_000913.fna',8)\n",
    "ecoli_kmer_count.hist(column='frequency', bins=100, range=(0, 300))"
   ]
  },
  {
   "cell_type": "markdown",
   "metadata": {},
   "source": [
    "*** Exercise 2 (5min): The *E.coli* spectrum is unimodal, but how many modes does the Platypus chromosome 01 have? ***\n",
    "\n",
    "* The platypus chromosome 01 file can be found in the file `genome_data/Platypus/oan_ref_Ornithorhynchus_anatinus_5.0.1_chr1.fa`"
   ]
  },
  {
   "cell_type": "code",
   "execution_count": null,
   "metadata": {},
   "outputs": [],
   "source": [
    "plat_kmer_count = ex02.count_genome_kmers(\"genome_data/Platypus/oan_ref_Ornithorhynchus_anatinus_5.0.1_chr1.fa\",8)\n",
    "plat_kmer_count.hist(column='frequency', bins=100, range=(0, 300))"
   ]
  }
 ],
 "metadata": {
  "kernelspec": {
   "display_name": "Python 3",
   "language": "python",
   "name": "python3"
  },
  "language_info": {
   "codemirror_mode": {
    "name": "ipython",
    "version": 3
   },
   "file_extension": ".py",
   "mimetype": "text/x-python",
   "name": "python",
   "nbconvert_exporter": "python",
   "pygments_lexer": "ipython3",
   "version": "3.7.4"
  }
 },
 "nbformat": 4,
 "nbformat_minor": 1
}
