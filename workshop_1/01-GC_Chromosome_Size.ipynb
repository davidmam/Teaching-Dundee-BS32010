{
 "cells": [
  {
   "cell_type": "markdown",
   "metadata": {},
   "source": [
    "# Session 01 - GC Content and Chromosome Size <img src=\"data/JHI_STRAP_Web.png\" style=\"width: 150px; float: right;\"> "
   ]
  },
  {
   "cell_type": "markdown",
   "metadata": {},
   "source": [
    "## Learning Outcomes\n",
    "\n",
    "* Read, examine and manipulate prokaryotic genome sequences using [Biopython](https://www.biopython.org).\n",
    "* Extract bulk genome properties from a genome sequence\n",
    "* Basic visualisation of genome properties using Python\n",
    "* Use of bulk genome properties to discriminate and identify organisms"
   ]
  },
  {
   "cell_type": "markdown",
   "metadata": {},
   "source": [
    "## Introduction\n",
    "\n",
    "### Bacterial genomes\n",
    "\n",
    "Bacterial genomes are relatively simple (especially compared to many eukaryotic genomes), and typically comprise only a single (usually circular) chromosome, and possibly a small number of plasmids.\n",
    "\n",
    "Bacterial chromosome properties such as length and GC content vary, usually reliably, by bacterial species and genus (histogram from [http://www.sci.sdsu.edu/~smaloy/MicrobialGenetics/topics/chroms-genes-prots/genomes.html](http://www.sci.sdsu.edu/~smaloy/MicrobialGenetics/topics/chroms-genes-prots/genomes.html). \n",
    "\n",
    "![Histogram of approximate genome size for bacteria and archaea](http://www.sci.sdsu.edu/~smaloy/MicrobialGenetics/topics/chroms-genes-prots/genome-sizes.gif \"Histogram of approximate genome size for bacteria and archaea\")\n",
    "\n",
    "### Python code\n",
    "\n",
    "We can visualise the similarities and differences among and between genomes by plotting summary statistics using Python.\n",
    "\n",
    "We will use the [`Biopython`](http://www.biopython.org) libraries to interact with and manipulate sequence data, and the [`Pandas`](http://pandas.pydata.org/) data analysis libraries to manipulate numerical data.\n",
    "\n",
    "Some code is imported from the local `bs32010` module in this directory, to avoid clutter in this notebook. You can inspect this module if you are interested in how it works."
   ]
  },
  {
   "cell_type": "code",
   "execution_count": null,
   "metadata": {},
   "outputs": [],
   "source": [
    "%matplotlib inline\n",
    "from Bio import SeqIO       # Biopython libraries for working with sequence data\n",
    "from bs32010 import ex01    # Functions and data specific for this exercise"
   ]
  },
  {
   "cell_type": "markdown",
   "metadata": {},
   "source": [
    "## 1. Calculating nucleotide frequency and genome size using Biopython\n",
    "\n",
    "In the lecture slides, we saw an example of loading in a genome, and calculating two values: GC content, and GC skew. These values are defined as below:\n",
    "\n",
    "* GC content = $\\frac{(G + C)}{\\textrm{length}(S)}$\n",
    "* GC skew = $\\frac{(G - C)}{(G + C)}$\n",
    "\n",
    "where $G$ and $C$ are the count of `G` bases and `C` bases on the forward strand of the genome sequence $S$, respectively. The code used in the lecture slide is:\n",
    "\n",
    "![Python code to calculated GC content and skew](data/python_gc.png)\n",
    "\n",
    "For these exercises, we will mostly work with helper functions in the Python module `bs32010`, but to revise some Python programming, we will reproduce the code in the slide below for a different genome.\n",
    "\n",
    "Firsly though, we will look at how to load a genome (or other biological) sequence using Biopython."
   ]
  },
  {
   "cell_type": "markdown",
   "metadata": {},
   "source": [
    "### Sequence data in Biopython\n",
    "\n",
    "To load a single sequence, you can use the function `SeqIO.read()`. This takes two *arguments*: the name of the file that contains the sequence information; and the type of sequence *format* - the way the information is arranged in the file.\n",
    "\n",
    "As an example, we will load information from a *Pectobacterium* genome. The data is in the file `genome_data/Pectobacterium/GCF_000738125.1.fasta` and, as the file extension suggests, the data is in `fasta` format.\n",
    "\n",
    "So, the statement we use to load the information is:\n",
    "\n",
    "```python\n",
    "myseq = SeqIO.read(\"genome_data/Pectobacterium/GCF_000024645.1.fasta\", \"fasta\")\n",
    "```\n",
    "\n",
    "Use this code in the cell below, to read the sequence data.\n",
    "\n",
    "**NOTE:** both the filename and the format need to be enclosed in quotation marks (`\"`), because they are *strings*.\n",
    "\n",
    "**NOTE:** we are loading the information into a variable called `myseq` - you can think of this as a container that holds the sequence information. When we refer to the sequence data from now on, we can refer to it as `myseq`.\n",
    "\n",
    "**NOTE:** This code only works if there is just one sequence in the file. It will not work if you give a file of contigs. That requries a little more code. Look at the `ex01.py` file for how to do GC calculations across all contigs in a file"
   ]
  },
  {
   "cell_type": "code",
   "execution_count": null,
   "metadata": {},
   "outputs": [],
   "source": [
    "myseq = SeqIO.read(\"genome_data/Pectobacterium/GCF_000024645.1.fasta\", \"fasta\")"
   ]
  },
  {
   "cell_type": "markdown",
   "metadata": {},
   "source": [
    "The sequence information in `myseq` is organised to be helpful. There are separate components for sequence and metadata information. You can look at this information using *attributes* of `myseq`: `id`, `description`, and `seq`.\n",
    "\n",
    "```python\n",
    "myseq.id\n",
    "myseq.description\n",
    "myseq.seq\n",
    "```\n",
    "\n",
    "Use these *attributes* in the cell below to see information about the sequence in `myseq`.\n",
    "\n",
    "**NOTE:** if you type more than one line of attributes, the Jupyter notebook will only show you output for the last attribute."
   ]
  },
  {
   "cell_type": "code",
   "execution_count": null,
   "metadata": {},
   "outputs": [],
   "source": [
    "myseq.seq"
   ]
  },
  {
   "cell_type": "markdown",
   "metadata": {},
   "source": [
    "You can get more information about the sequence using *functions* in Python. For example, to obtain the sequence length of the sequence in `myseq`, you can use the `len()` function, as follows:\n",
    "\n",
    "```python\n",
    "len(myseq.seq)\n",
    "```\n",
    "\n",
    "To get a count of the number of adenines (`A`), you can use the `.count()` method, as follows:\n",
    "\n",
    "```python\n",
    "myseq.seq.count('A')\n",
    "```\n",
    "\n",
    "*** Exercise 1: Use the `len()` and `.count()` functions in the cell below to find the length of `myseq`, the numbers of `A`, `C`, `G`, and `T` bases ***"
   ]
  },
  {
   "cell_type": "code",
   "execution_count": null,
   "metadata": {},
   "outputs": [],
   "source": [
    "len(myseq.seq)"
   ]
  },
  {
   "cell_type": "markdown",
   "metadata": {},
   "source": [
    "*** Example Exercise (5min): Enter the following code in the cell below. What is the organism, and what are the GC content and skew for this genome?***\n",
    "\n",
    "```python\n",
    "s = SeqIO.read(\"genome_data/Pectobacterium/GCA_000769535.1.fasta\", \"fasta\")\n",
    "print(s.description)\n",
    "a, c, g, t = s.seq.count(\"A\"), s.seq.count(\"C\"), s.seq.count(\"G\"), s.seq.count(\"T\")\n",
    "print(\"Genome length: %d\" % len(s))\n",
    "print(\"GC content: %.2g\" % ((g + c)/len(s)))\n",
    "print(\"GC skew: %.2g\" % ((g - c)/(g + c)))\n",
    "```"
   ]
  },
  {
   "cell_type": "code",
   "execution_count": null,
   "metadata": {
    "scrolled": false
   },
   "outputs": [],
   "source": [
    "s= SeqIO.read(\"genome_data/Pectobacterium/GCA_000769535.1.fasta\", \"fasta\")\n",
    "print(s.description)\n",
    "a, c, g, t = s.seq.count(\"A\"), s.seq.count(\"C\"), s.seq.count(\"G\"), s.seq.count(\"T\")\n",
    "print(\"Genome length: %d\" % len(s))\n",
    "print(\"GC content: %.2g\" % ((g + c)/len(s)))\n",
    "print(\"GC skew: %.2g\" % ((g - c)/(g + c)))"
   ]
  },
  {
   "cell_type": "markdown",
   "metadata": {},
   "source": [
    "*** Exercise 2 (5min): Adapt the above code to calculate the same quantities for the genome in the file `GCF_000011605.1.fasta`, and discover what the organism is. ***\n",
    "\n",
    "Enter your code in the cell below."
   ]
  },
  {
   "cell_type": "code",
   "execution_count": null,
   "metadata": {},
   "outputs": [],
   "source": [
    "s= SeqIO.read(\"genome_data/Pectobacterium/GCF_000011605.1.fasta\", \"fasta\")\n",
    "print(s.description)\n",
    "a, c, g, t = s.seq.count(\"A\"), s.seq.count(\"C\"), s.seq.count(\"G\"), s.seq.count(\"T\")\n",
    "print(\"Genome length: %d\" % len(s))\n",
    "print(\"GC content: %.2g\" % ((g + c)/len(s)))\n",
    "print(\"GC skew: %.2g\" % ((g - c)/(g + c)))"
   ]
  },
  {
   "cell_type": "markdown",
   "metadata": {},
   "source": [
    "*** Exercise 2a - stretch goal (5min): Adapt the above code to calculate the AT content and AT skew for the genome in the file `GCF_000011605.1.fasta` ***\n",
    "\n",
    "Enter your code in the cell below."
   ]
  },
  {
   "cell_type": "code",
   "execution_count": null,
   "metadata": {},
   "outputs": [],
   "source": [
    "s= SeqIO.read(\"genome_data/Pectobacterium/GCF_000011605.1.fasta\", \"fasta\")\n",
    "print(s.description)\n",
    "a, c, g, t = s.seq.count(\"A\"), s.seq.count(\"C\"), s.seq.count(\"G\"), s.seq.count(\"T\")\n",
    "print(\"Genome length: %d\" % len(s))\n",
    "print(\"GC content: %.2g\" % ((g + c)/len(s)))\n",
    "print(\"GC skew: %.2g\" % ((g - c)/(g + c)))\n",
    "print(\"AT content: %.2g\" % ((a + t)/len(s)))\n",
    "print(\"AT skew: %.2g\" % ((a - t)/(g + c)))"
   ]
  },
  {
   "cell_type": "markdown",
   "metadata": {},
   "source": [
    "## 2. Calculating nucleotide frequency and genome size using helper functions\n",
    "\n",
    "For convenience, the Python package `bs32010` is provided for this workshop. For this worksheet, functions are found in the module `ex01`. We can see what functions are present using the `dir()` function.\n",
    "\n",
    "```python\n",
    "dir(ex01)\n",
    "```\n",
    "\n",
    "Run this code in the cell, below."
   ]
  },
  {
   "cell_type": "code",
   "execution_count": null,
   "metadata": {},
   "outputs": [],
   "source": [
    "dir(ex01)"
   ]
  },
  {
   "cell_type": "markdown",
   "metadata": {},
   "source": [
    "You will shortly be using the `ex01.calc_size_gc()` function. You can find out useful information about any function in Python with the `help()` function.\n",
    "\n",
    "```python\n",
    "help(ex01.calc_size_gc)\n",
    "```\n",
    "\n",
    "Run this code in the cell below. \n",
    "\n",
    "**NOTE:** You need only provide the function name, not the parentheses that follow it."
   ]
  },
  {
   "cell_type": "code",
   "execution_count": null,
   "metadata": {},
   "outputs": [],
   "source": [
    "help(ex01.calc_size_gc)\n"
   ]
  },
  {
   "cell_type": "markdown",
   "metadata": {},
   "source": [
    "The help text refers to to the variable `ex01.bact_files`. You can examine this by typing the variable name in the cell below.\n",
    "\n",
    "```python\n",
    "ex01.bact_files\n",
    "```\n",
    "\n",
    "This will show you the names of several bacteria that can be used with the `calc_size_gc()` function.\n",
    "\n",
    "* *Nostoc punctiforme*\n",
    "* *Mycoplasma pneumoniae*\n",
    "* *Mycobacterium tuberculosis*\n",
    "* *Mycoplasma genitalium*\n",
    "* *Escherichia coli*"
   ]
  },
  {
   "cell_type": "code",
   "execution_count": null,
   "metadata": {},
   "outputs": [],
   "source": [
    "ex01.bact_files"
   ]
  },
  {
   "cell_type": "markdown",
   "metadata": {},
   "source": [
    "Test the `calc_size_gc()` function by running it on the organisms *Mycoplasma genitalium* and *Notoc punctiforme* using the code below.\n",
    "\n",
    "```python\n",
    "ex01.calc_size_gc('Mycoplasma genitalium', 'Nostoc punctiforme')\n",
    "```\n",
    "\n",
    "Run this code in the cell below."
   ]
  },
  {
   "cell_type": "code",
   "execution_count": null,
   "metadata": {},
   "outputs": [],
   "source": [
    "ex01.calc_size_gc('Mycoplasma genitalium', 'Nostoc punctiforme')\n"
   ]
  },
  {
   "cell_type": "markdown",
   "metadata": {},
   "source": [
    "The function `ex01.plot_data()` will plot genome length against GC content, with coloured points for each genome sequence. Test this using the code below.\n",
    "\n",
    "```python\n",
    "gc_data = ex01.calc_size_gc('Mycoplasma genitalium', 'Nostoc punctiforme')\n",
    "ex01.plot_data(gc_data)\n",
    "```\n"
   ]
  },
  {
   "cell_type": "code",
   "execution_count": null,
   "metadata": {},
   "outputs": [],
   "source": [
    "gc_data = ex01.calc_size_gc('Mycoplasma genitalium', 'Nostoc punctiforme')\n",
    "ex01.plot_data(gc_data)\n"
   ]
  },
  {
   "cell_type": "markdown",
   "metadata": {},
   "source": [
    "You should now see a plot of chromosome length and GC content that looks something like the one shown below.\n",
    "\n",
    "![Expected output of `ex01.plot_data`](data/length_gc_plot.png)\n",
    "\n",
    "You should see that `M. genitalium` has much smaller chromosomes, and a lower GC content than `Nostoc punctiforme`. There is not a great deal of variation in genome size and GC content for either organism."
   ]
  },
  {
   "cell_type": "markdown",
   "metadata": {},
   "source": [
    "*** Exercise 3 (5min): Produce a scatterplot of all the example chromosomes in `bact_files`. Which organism has the largest/smallest chromosome? Which has the largest/smallest GC content? ***\n",
    "\n",
    "* **HINT:** You can use `list(ex01.bacteria)` to obtain a list of all the bacteria names you need\n",
    "    \n",
    "*** Exercise 3a - stretch goal (5min): Use the `help()` function to find out how to write your plot to a file, and produce the file `\"all_chromosomes.pdf\"` ***"
   ]
  },
  {
   "cell_type": "code",
   "execution_count": null,
   "metadata": {},
   "outputs": [],
   "source": [
    "list(ex01.bacteria)"
   ]
  },
  {
   "cell_type": "code",
   "execution_count": null,
   "metadata": {},
   "outputs": [],
   "source": [
    "gc_data = ex01.calc_size_gc('Mycoplasma genitalium','Mycoplasma pneumoniae',\n",
    " 'Nostoc punctiforme',\n",
    " 'Escherichia coli',\n",
    " 'Mycobacterium tuberculosis')\n",
    "ex01.plot_data(gc_data)"
   ]
  },
  {
   "cell_type": "markdown",
   "metadata": {},
   "source": [
    "### Adding your own data\n",
    "\n",
    "If you want to add your own data to the plot then you can add a genome to the list with the `ex01.add_genome(filename, species)` function. the _filename_ should be relative to this notebook, so either copy it or specify a full path. \n",
    "Assume that the file `contigs.fa` has been copied to your `workshop_1` folder (this folder)\n",
    "\n",
    "Example: \n",
    "\n",
    "```python\n",
    "ex01.add_genome('contigs.fa', 'Unknown species')\n",
    "gc_data = ex01.calc_size_gc('Mycoplasma genitalium', 'Nostoc punctiforme','Unknown species')\n",
    "```    "
   ]
  },
  {
   "cell_type": "code",
   "execution_count": null,
   "metadata": {},
   "outputs": [],
   "source": [
    "ex01.add_genome('contigs.fa', 'Unknown species')\n",
    "gc_data = ex01.calc_size_gc('Mycoplasma genitalium', 'Nostoc punctiforme','Unknown species')"
   ]
  },
  {
   "cell_type": "markdown",
   "metadata": {},
   "source": [
    "## 3 Using chromosome length and GC content to identify an organism\n",
    "\n",
    "Summary statistics such as the chromosome length and GC content can be characteristic of a bacterial species, it is possible to use them to help infer the species of bacterium from which an \"unknown\" chromosome sequence may originate.\n",
    "\n",
    "We can add new data representing a chromosome of unknown origin to the data for all example chromosomes, and produce a scatterplot. The proximity of hte unknown genome to points from a named species may indicate the origin of the unknown chromosome.\n",
    "\n",
    "The `bs32010.ex01` module provides GC content and genome size information about an unknown organism, in the variable `unknown` (a `Pandas` dataframe). We can look at it with\n",
    "\n",
    "```python\n",
    "ex01.unknown\n",
    "```\n",
    "\n",
    "Enter this code in the cell below."
   ]
  },
  {
   "cell_type": "code",
   "execution_count": null,
   "metadata": {},
   "outputs": [],
   "source": [
    "ex01.unknown\n"
   ]
  },
  {
   "cell_type": "markdown",
   "metadata": {},
   "source": [
    "The unknown organism has a genome length of 4.4Mbp, and GC content of around 66%. You could determine a likely identity for this organism from a scatterplot, by visual inspection. To generate the input data for the scatterplot, enter the following code in the cell below (note that this will add all the species including any you have added):\n",
    "\n",
    "```python\n",
    "all_data = ex01.calc_size_gc(*ex01.bacteria)\n",
    "all_data = all_data.append(ex01.unknown)\n",
    "```"
   ]
  },
  {
   "cell_type": "code",
   "execution_count": null,
   "metadata": {},
   "outputs": [],
   "source": [
    "all_data = ex01.calc_size_gc(*ex01.bacteria)\n",
    "all_data = all_data.append(ex01.unknown)"
   ]
  },
  {
   "cell_type": "markdown",
   "metadata": {},
   "source": [
    "*** Exercise 4 (5min): Render a scatterplot of `all_data`, and identify the unknown organism. ***"
   ]
  },
  {
   "cell_type": "code",
   "execution_count": null,
   "metadata": {},
   "outputs": [],
   "source": [
    "ex01.plot_data(all_data)"
   ]
  }
 ],
 "metadata": {
  "kernelspec": {
   "display_name": "Python 3",
   "language": "python",
   "name": "python3"
  },
  "language_info": {
   "codemirror_mode": {
    "name": "ipython",
    "version": 3
   },
   "file_extension": ".py",
   "mimetype": "text/x-python",
   "name": "python",
   "nbconvert_exporter": "python",
   "pygments_lexer": "ipython3",
   "version": "3.7.4"
  }
 },
 "nbformat": 4,
 "nbformat_minor": 1
}
