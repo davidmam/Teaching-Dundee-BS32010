{
 "cells": [
  {
   "cell_type": "markdown",
   "metadata": {},
   "source": [
    "# Exercise 01 - GC Content and Chromosome Size <img src=\"data/JHI_STRAP_Web.png\" style=\"width: 150px; float: right;\"> "
   ]
  },
  {
   "cell_type": "markdown",
   "metadata": {},
   "source": [
    "## Learning Outcomes\n",
    "\n",
    "* Read and manipulate prokaryotic genome sequences using [Biopython](https://www.biopython.org).\n",
    "* Extract bulk genome properties from a genome sequence\n",
    "* Basic visualisation of genome properties using Python\n",
    "* Use of bulk genome properties to discriminate and identify organisms"
   ]
  },
  {
   "cell_type": "markdown",
   "metadata": {},
   "source": [
    "## Introduction\n",
    "\n",
    "### Bacterial genomes\n",
    "\n",
    "Bacterial genomes are relatively simple (especially compared to many eukaryotic genomes), and typically comprise only a single (usually circular) chromosome, and possibly a small number of plasmids.\n",
    "\n",
    "Bacterial chromosome properties such as length and GC content vary, usually reliably, by bacterial species and genus (histogram from [http://www.sci.sdsu.edu/~smaloy/MicrobialGenetics/topics/chroms-genes-prots/genomes.html](http://www.sci.sdsu.edu/~smaloy/MicrobialGenetics/topics/chroms-genes-prots/genomes.html). \n",
    "\n",
    "![Histogram of approximate genome size for bacteria and archaea](http://www.sci.sdsu.edu/~smaloy/MicrobialGenetics/topics/chroms-genes-prots/genome-sizes.gif \"Histogram of approximate genome size for bacteria and archaea\")\n",
    "\n",
    "### Python code\n",
    "\n",
    "We can visualise the similarities and differences among and between genomes by plotting summary statistics using Python.\n",
    "\n",
    "We will use the [`Biopython`](http://www.biopython.org) libraries to interact with and manipulate sequence data, and the [`Pandas`](http://pandas.pydata.org/) data analysis libraries to manipulate numerical data.\n",
    "\n",
    "Some code is imported from the local `bs32010` module in this directory, to avoid clutter in this notebook. You can inspect this module if you are interested."
   ]
  },
  {
   "cell_type": "code",
   "execution_count": 1,
   "metadata": {
    "collapsed": false
   },
   "outputs": [],
   "source": [
    "%matplotlib inline\n",
    "from Bio import SeqIO       # Biopython libraries for working with sequence data\n",
    "from bs32010 import ex01    # Functions and data specific for this exercise"
   ]
  },
  {
   "cell_type": "markdown",
   "metadata": {},
   "source": [
    "## 1. Calculating nucleotide frequency and genome size using Biopython\n",
    "\n",
    "In the lecture slides, we saw an example of loading in a genome, and calculating two values: GC content, and GC skew. These values are defined as below:\n",
    "\n",
    "* GC content = $\\frac{(G + C)}{\\textrm{length}(S)}$\n",
    "* GC skew = $\\frac{(G - C)}{(G + C)}$\n",
    "\n",
    "where $G$ and $C$ are the count of `G` bases and `C` bases on the forward strand of the genome sequence $S$, respectively. The code used in the lecture slide is:\n",
    "\n",
    "![Python code to calculated GC content and skew](data/python_gc.png)\n",
    "\n",
    "For these exercises, we will mostly work with helper functions in the Python module `bs32010`, but to revise some Python programming, we will reproduce the code in the slide below for a different genome. \n",
    "\n",
    "*** Example Exercise (5min): Enter the following code in the cell below. What is the organism, and what are the GC content and skew for this genome?***\n",
    "\n",
    "```python\n",
    "s = SeqIO.read(\"genome_data/Pectobacterium/GCA_000769535.1.fasta\", \"fasta\")\n",
    "print(s.description)\n",
    "a, c, g, t = s.seq.count(\"A\"), s.seq.count(\"C\"), s.seq.count(\"G\"), s.seq.count(\"T\")\n",
    "print(\"Genome length: %d\" % len(s))\n",
    "print(\"GC content: %.2g\" % ((g + c)/len(s)))\n",
    "print(\"GC skew: %.2g\" % ((g - c)/(g + c)))\n",
    "```"
   ]
  },
  {
   "cell_type": "code",
   "execution_count": 2,
   "metadata": {
    "collapsed": false,
    "scrolled": false
   },
   "outputs": [
    {
     "name": "stdout",
     "output_type": "stream",
     "text": [
      "gi|700311634|gb|CP009678.1| Pectobacterium carotovorum subsp. odoriferum strain BC S7, complete genome\n",
      "Genome length: 4933575\n",
      "GC content: 0.52\n",
      "GC skew: -0.0023\n"
     ]
    }
   ],
   "source": [
    "# Enter code here\n",
    "s = SeqIO.read(\"genome_data/Pectobacterium/GCA_000769535.1.fasta\", \"fasta\")\n",
    "print(s.description)\n",
    "a, c, g, t = s.seq.count(\"A\"), s.seq.count(\"C\"), s.seq.count(\"G\"), s.seq.count(\"T\")\n",
    "print(\"Genome length: %d\" % len(s))\n",
    "print(\"GC content: %.2g\" % ((g + c)/len(s)))\n",
    "print(\"GC skew: %.2g\" % ((g - c)/(g + c)))"
   ]
  },
  {
   "cell_type": "markdown",
   "metadata": {},
   "source": [
    "*** Exercise 1 (5min): Adapt the above code to calculate the same quantities for the genome in the file `GCF_000011605.1.fasta`, and discover what the organism is. ***\n",
    "\n",
    "Enter your code in the cell below."
   ]
  },
  {
   "cell_type": "code",
   "execution_count": 3,
   "metadata": {
    "collapsed": false
   },
   "outputs": [
    {
     "name": "stdout",
     "output_type": "stream",
     "text": [
      "gi|49609491|emb|BX950851.1| Erwinia carotovora subsp. atroseptica SCRI1043, complete genome\n",
      "Genome length: 5064019\n",
      "GC content: 0.51\n",
      "GC skew: 0.00026\n"
     ]
    }
   ],
   "source": [
    "# Enter code here\n",
    "s = SeqIO.read(\"genome_data/Pectobacterium/GCF_000011605.1.fasta\", \"fasta\")\n",
    "print(s.description)\n",
    "a, c, g, t = s.seq.count(\"A\"), s.seq.count(\"C\"), s.seq.count(\"G\"), s.seq.count(\"T\")\n",
    "print(\"Genome length: %d\" % len(s))\n",
    "print(\"GC content: %.2g\" % ((g + c)/len(s)))\n",
    "print(\"GC skew: %.2g\" % ((g - c)/(g + c)))"
   ]
  },
  {
   "cell_type": "markdown",
   "metadata": {},
   "source": [
    "*** Exercise 1a - stretch goal (5min): Adapt the above code to calculate the AT content and AT skew for the genome in the file `GCF_000011605.1.fasta` ***\n",
    "\n",
    "Enter your code in the cell below."
   ]
  },
  {
   "cell_type": "code",
   "execution_count": 4,
   "metadata": {
    "collapsed": false
   },
   "outputs": [
    {
     "name": "stdout",
     "output_type": "stream",
     "text": [
      "AT content: 0.49\n",
      "AT skew: 0.0026\n"
     ]
    }
   ],
   "source": [
    "# Enter code here\n",
    "print(\"AT content: %.2g\" % ((a + t)/len(s)))\n",
    "print(\"AT skew: %.2g\" % ((a - t)/(a + t)))"
   ]
  },
  {
   "cell_type": "markdown",
   "metadata": {},
   "source": [
    "## 2. Calculating nucleotide frequency and genome size using helper functions\n",
    "\n",
    "For convenience, the Python package `bs32010` is provided. For this worksheet, functions are found in the module `ex01`. We can see what functions are present using the `dir()` function.\n",
    "\n",
    "```python\n",
    "dir(ex01)\n",
    "```\n",
    "\n",
    "Run this code in the cell, below."
   ]
  },
  {
   "cell_type": "code",
   "execution_count": 14,
   "metadata": {
    "collapsed": false
   },
   "outputs": [],
   "source": [
    "# Enter code here"
   ]
  },
  {
   "cell_type": "markdown",
   "metadata": {},
   "source": [
    "You will shortly be using the `ex01.calc_size_gc()` function. You can find out useful information about any function in Python with the `help()` function.\n",
    "\n",
    "```python\n",
    "help(ex01.calc_size_gc)\n",
    "```\n",
    "\n",
    "Run this code in the cell below. Note that you need only provide the function name."
   ]
  },
  {
   "cell_type": "code",
   "execution_count": 15,
   "metadata": {
    "collapsed": false
   },
   "outputs": [],
   "source": [
    "# Enter code here"
   ]
  },
  {
   "cell_type": "markdown",
   "metadata": {},
   "source": [
    "The help text refers to to the variable `ex01.bact_files`. You can examine this by typing the variable name in the cell below.\n",
    "\n",
    "```python\n",
    "ex01.bact_files\n",
    "```\n",
    "\n",
    "This will show you the names of several bacteria that can be used with the `calc_size_gc()` function.\n",
    "\n",
    "* 'Nostoc punctiforme'\n",
    "* 'Mycoplasma pneumoniae'\n",
    "* 'Mycobacterium tuberculosis'\n",
    "* 'Mycoplasma genitalium'\n",
    "* 'Escherichia coli'"
   ]
  },
  {
   "cell_type": "code",
   "execution_count": 17,
   "metadata": {
    "collapsed": false
   },
   "outputs": [],
   "source": [
    "# Enter code here"
   ]
  },
  {
   "cell_type": "markdown",
   "metadata": {},
   "source": [
    "Test the `calc_size_gc()` function by running it on the organisms *Mycoplasma genitalium* and *Notoc punctiforme* using the code below.\n",
    "\n",
    "```python\n",
    "ex01.calc_size_gc('Mycoplasma genitalium', 'Nostoc punctiforme')\n",
    "```\n",
    "\n",
    "Run this code in the cell below."
   ]
  },
  {
   "cell_type": "code",
   "execution_count": 8,
   "metadata": {
    "collapsed": false
   },
   "outputs": [
    {
     "data": {
      "text/html": [
       "<div>\n",
       "<table border=\"1\" class=\"dataframe\">\n",
       "  <thead>\n",
       "    <tr style=\"text-align: right;\">\n",
       "      <th></th>\n",
       "      <th>GC</th>\n",
       "      <th>color</th>\n",
       "      <th>descrtiption</th>\n",
       "      <th>filename</th>\n",
       "      <th>length</th>\n",
       "      <th>species</th>\n",
       "    </tr>\n",
       "  </thead>\n",
       "  <tbody>\n",
       "    <tr>\n",
       "      <th>0</th>\n",
       "      <td>0.316742</td>\n",
       "      <td>(0.6388422014798609, 0.4823468031986234, 0.290...</td>\n",
       "      <td>gi|402550799|ref|NC_018495.1| Mycoplasma genit...</td>\n",
       "      <td>NC_018495.fna</td>\n",
       "      <td>579977</td>\n",
       "      <td>Mycoplasma genitalium</td>\n",
       "    </tr>\n",
       "    <tr>\n",
       "      <th>1</th>\n",
       "      <td>0.316710</td>\n",
       "      <td>(0.6388422014798609, 0.4823468031986234, 0.290...</td>\n",
       "      <td>gi|402551299|ref|NC_018496.1| Mycoplasma genit...</td>\n",
       "      <td>NC_018496.fna</td>\n",
       "      <td>579504</td>\n",
       "      <td>Mycoplasma genitalium</td>\n",
       "    </tr>\n",
       "    <tr>\n",
       "      <th>2</th>\n",
       "      <td>0.316767</td>\n",
       "      <td>(0.6388422014798609, 0.4823468031986234, 0.290...</td>\n",
       "      <td>gi|402551784|ref|NC_018497.1| Mycoplasma genit...</td>\n",
       "      <td>NC_018497.fna</td>\n",
       "      <td>579796</td>\n",
       "      <td>Mycoplasma genitalium</td>\n",
       "    </tr>\n",
       "    <tr>\n",
       "      <th>3</th>\n",
       "      <td>0.316748</td>\n",
       "      <td>(0.6388422014798609, 0.4823468031986234, 0.290...</td>\n",
       "      <td>gi|402552294|ref|NC_018498.1| Mycoplasma genit...</td>\n",
       "      <td>NC_018498.fna</td>\n",
       "      <td>579558</td>\n",
       "      <td>Mycoplasma genitalium</td>\n",
       "    </tr>\n",
       "    <tr>\n",
       "      <th>4</th>\n",
       "      <td>0.414150</td>\n",
       "      <td>(0.0, 0.2720066253738353, 0.4900832272420432)</td>\n",
       "      <td>gi|186680550|ref|NC_010628.1| Nostoc punctifor...</td>\n",
       "      <td>NC_010628.fna</td>\n",
       "      <td>8234322</td>\n",
       "      <td>Nostoc punctiforme</td>\n",
       "    </tr>\n",
       "  </tbody>\n",
       "</table>\n",
       "</div>"
      ],
      "text/plain": [
       "         GC                                              color  \\\n",
       "0  0.316742  (0.6388422014798609, 0.4823468031986234, 0.290...   \n",
       "1  0.316710  (0.6388422014798609, 0.4823468031986234, 0.290...   \n",
       "2  0.316767  (0.6388422014798609, 0.4823468031986234, 0.290...   \n",
       "3  0.316748  (0.6388422014798609, 0.4823468031986234, 0.290...   \n",
       "4  0.414150      (0.0, 0.2720066253738353, 0.4900832272420432)   \n",
       "\n",
       "                                        descrtiption       filename   length  \\\n",
       "0  gi|402550799|ref|NC_018495.1| Mycoplasma genit...  NC_018495.fna   579977   \n",
       "1  gi|402551299|ref|NC_018496.1| Mycoplasma genit...  NC_018496.fna   579504   \n",
       "2  gi|402551784|ref|NC_018497.1| Mycoplasma genit...  NC_018497.fna   579796   \n",
       "3  gi|402552294|ref|NC_018498.1| Mycoplasma genit...  NC_018498.fna   579558   \n",
       "4  gi|186680550|ref|NC_010628.1| Nostoc punctifor...  NC_010628.fna  8234322   \n",
       "\n",
       "                 species  \n",
       "0  Mycoplasma genitalium  \n",
       "1  Mycoplasma genitalium  \n",
       "2  Mycoplasma genitalium  \n",
       "3  Mycoplasma genitalium  \n",
       "4     Nostoc punctiforme  "
      ]
     },
     "execution_count": 8,
     "metadata": {},
     "output_type": "execute_result"
    }
   ],
   "source": [
    "# Enter code here\n",
    "ex01.calc_size_gc('Mycoplasma genitalium', 'Nostoc punctiforme')"
   ]
  },
  {
   "cell_type": "markdown",
   "metadata": {},
   "source": [
    "The function `ex01.plot_data()` will plot genome length against GC content, with coloured points for each genome sequence. Test this using the code below.\n",
    "\n",
    "```python\n",
    "gc_data = ex01.calc_size_gc('Mycoplasma genitalium', 'Nostoc punctiforme')\n",
    "ex01.plot_data(gc_data)\n",
    "```\n"
   ]
  },
  {
   "cell_type": "code",
   "execution_count": 9,
   "metadata": {
    "collapsed": false
   },
   "outputs": [
    {
     "data": {
      "image/png": "[encoded data removed]",
      "text/plain": [
       "<matplotlib.figure.Figure at 0x10669ecc0>"
      ]
     },
     "metadata": {},
     "output_type": "display_data"
    }
   ],
   "source": [
    "# Enter code here\n",
    "gc_data = ex01.calc_size_gc('Mycoplasma genitalium', 'Nostoc punctiforme')\n",
    "ex01.plot_data(gc_data)"
   ]
  },
  {
   "cell_type": "markdown",
   "metadata": {},
   "source": [
    "You should now see a plot of chromosome length and GC content that looks something like the one shown below.\n",
    "\n",
    "![Expected output of `ex01.plot_data`](data/length_gc_plot.png)\n",
    "\n",
    "You should see that `M. genitalium` has much smaller chromosomes, and a lower GC content than `Nostoc punctiforme`. There is not a great deal of variation in genome size and GC content for either organism."
   ]
  },
  {
   "cell_type": "markdown",
   "metadata": {},
   "source": [
    "*** Exercise 2 (5min): Produce a scatterplot of all the example chromosomes in `bact_files`. Which organism has the largest/smallest chromosome? Which has the largest/smallest GC content? ***\n",
    "\n",
    "* **HINT:** You can use `list(ex01.bacteria)` to obtain a list of all the bacteria names you need\n",
    "    \n",
    "*** Exercise 2a - stretch goal (5min): Use the `help()` function to find out how to write your plot to a file, and produce the file `\"all_chromosomes.pdf\"` ***"
   ]
  },
  {
   "cell_type": "code",
   "execution_count": 10,
   "metadata": {
    "collapsed": false
   },
   "outputs": [
    {
     "data": {
      "image/png": "[encoded data removed]",
      "text/plain": [
       "<matplotlib.figure.Figure at 0x102be1080>"
      ]
     },
     "metadata": {},
     "output_type": "display_data"
    }
   ],
   "source": [
    "# Enter code here\n",
    "list(ex01.bacteria)\n",
    "gc_data = ex01.calc_size_gc(*ex01.bacteria)\n",
    "ex01.plot_data(gc_data, filename=\"all_chromosomes.pdf\")"
   ]
  },
  {
   "cell_type": "markdown",
   "metadata": {},
   "source": [
    "## 3 Using chromosome length and GC content to identify an organism\n",
    "\n",
    "Summary statistics such as the chromosome length and GC content can be characteristic of a bacterial species, it is possible to use them to help infer the species of bacterium from which an \"unknown\" chromosome sequence may originate.\n",
    "\n",
    "We can add new data representing a chromosome of unknown origin to the data for all example chromosomes, and produce a scatterplot. The proximity of hte unknown genome to points from a named species may indicate the origin of the unknown chromosome.\n",
    "\n",
    "The `bs32010.ex01` module provides GC content and genome size information about an unknown organism, in the variable `unknown` (a `Pandas` dataframe). We can look at it with\n",
    "\n",
    "```python\n",
    "ex01.unknown\n",
    "```\n",
    "\n",
    "Enter this code in the cell below."
   ]
  },
  {
   "cell_type": "code",
   "execution_count": 11,
   "metadata": {
    "collapsed": false
   },
   "outputs": [
    {
     "data": {
      "text/html": [
       "<div>\n",
       "<table border=\"1\" class=\"dataframe\">\n",
       "  <thead>\n",
       "    <tr style=\"text-align: right;\">\n",
       "      <th></th>\n",
       "      <th>GC</th>\n",
       "      <th>color</th>\n",
       "      <th>length</th>\n",
       "      <th>species</th>\n",
       "    </tr>\n",
       "  </thead>\n",
       "  <tbody>\n",
       "    <tr>\n",
       "      <th>0</th>\n",
       "      <td>0.656209</td>\n",
       "      <td>(1, 0.2, 0.2)</td>\n",
       "      <td>4391174</td>\n",
       "      <td>Unknown</td>\n",
       "    </tr>\n",
       "  </tbody>\n",
       "</table>\n",
       "</div>"
      ],
      "text/plain": [
       "         GC          color   length  species\n",
       "0  0.656209  (1, 0.2, 0.2)  4391174  Unknown"
      ]
     },
     "execution_count": 11,
     "metadata": {},
     "output_type": "execute_result"
    }
   ],
   "source": [
    "# Enter code here\n",
    "ex01.unknown"
   ]
  },
  {
   "cell_type": "markdown",
   "metadata": {},
   "source": [
    "The unknown organism has a genome length of 4.4Mbp, and GC content of around 66%. You could determine a likely identity for this organism from a scatterplot, by visual inspection. To generate the input data for the scatterplot, enter the following code in the cell below:\n",
    "\n",
    "```python\n",
    "all_data = ex01.calc_size_gc(*ex01.bacteria)\n",
    "all_data = all_data.append(ex01.unknown)\n",
    "```"
   ]
  },
  {
   "cell_type": "code",
   "execution_count": 12,
   "metadata": {
    "collapsed": false
   },
   "outputs": [],
   "source": [
    "# Enter code here\n",
    "all_data = ex01.calc_size_gc(*ex01.bacteria)\n",
    "all_data = all_data.append(ex01.unknown)"
   ]
  },
  {
   "cell_type": "markdown",
   "metadata": {},
   "source": [
    "*** Exercise 3 (5min): Render a scatterplot of `all_data`, and identify the unknown organism. ***"
   ]
  },
  {
   "cell_type": "code",
   "execution_count": 13,
   "metadata": {
    "collapsed": true
   },
   "outputs": [],
   "source": [
    "# Enter code here"
   ]
  }
 ],
 "metadata": {
  "kernelspec": {
   "display_name": "Python 3",
   "language": "python",
   "name": "python3"
  },
  "language_info": {
   "codemirror_mode": {
    "name": "ipython",
    "version": 3
   },
   "file_extension": ".py",
   "mimetype": "text/x-python",
   "name": "python",
   "nbconvert_exporter": "python",
   "pygments_lexer": "ipython3",
   "version": "3.5.1"
  }
 },
 "nbformat": 4,
 "nbformat_minor": 0
}
