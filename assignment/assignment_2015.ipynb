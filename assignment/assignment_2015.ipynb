{
 "metadata": {
  "name": "",
  "signature": "sha256:c10d676d778813c7359fb4ef64715b9152e24ee3502dd7fa702077825b6668cd"
 },
 "nbformat": 3,
 "nbformat_minor": 0,
 "worksheets": [
  {
   "cells": [
    {
     "cell_type": "code",
     "collapsed": false,
     "input": [],
     "language": "python",
     "metadata": {},
     "outputs": []
    }
   ],
   "metadata": {}
  }
 ]
}