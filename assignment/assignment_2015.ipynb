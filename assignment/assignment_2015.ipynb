{
 "metadata": {
  "name": "",
  "signature": "sha256:2f5ec4da56aecd956fd69b854b42ec230568341a7fa34faa7e7e1d3e632e134a"
 },
 "nbformat": 3,
 "nbformat_minor": 0,
 "worksheets": [
  {
   "cells": [
    {
     "cell_type": "heading",
     "level": 1,
     "metadata": {},
     "source": [
      "Comparative Genomics and Visualisation Assignment 2015"
     ]
    },
    {
     "cell_type": "heading",
     "level": 3,
     "metadata": {},
     "source": [
      "Notebook preparation"
     ]
    },
    {
     "cell_type": "markdown",
     "metadata": {},
     "source": [
      "The following line imports `pylab`, making useful MatLab-like functions available, and allowing inline graphics. As with any other iPython cell, you can run the cell by pressing `Shift-Enter`."
     ]
    },
    {
     "cell_type": "code",
     "collapsed": false,
     "input": [
      "%pylab inline"
     ],
     "language": "python",
     "metadata": {},
     "outputs": [
      {
       "output_type": "stream",
       "stream": "stdout",
       "text": [
        "Populating the interactive namespace from numpy and matplotlib\n"
       ]
      }
     ],
     "prompt_number": 1
    },
    {
     "cell_type": "heading",
     "level": 2,
     "metadata": {},
     "source": [
      "Introduction"
     ]
    },
    {
     "cell_type": "markdown",
     "metadata": {},
     "source": [
      "All questions in this assignment can be answered using either the notebooks, or example code, from the activities in the Comparative Genomics and Visualisation 2015 course repository, and using the Life Sciences server for the course. Most modifications to the in-class exercise code require no more than changing the locations of input files."
     ]
    },
    {
     "cell_type": "heading",
     "level": 3,
     "metadata": {},
     "source": [
      "Data download"
     ]
    },
    {
     "cell_type": "markdown",
     "metadata": {},
     "source": [
      "To complete the exercises in this assignment, you will need to download data from the public databases at [NCBI](http://www.ncbi.nlm.nih.gov/). To do this, run the `get_data.sh` script in the `assignment/data` directory. You can do this at the command-line with:\n",
      "\n",
      "```\n",
      "get_data.sh\n",
      "```"
     ]
    },
    {
     "cell_type": "markdown",
     "metadata": {},
     "source": [
      "This script will download sequence and annotation files for four bacteria in each of the genera:\n",
      "    \n",
      "* *Dickeya*: `NC_014500`, `NC_013592`, `NC_012880`, `NC_012912`\n",
      "* *Klebsiella*: `NC_016612`, `NC_011283`, `NC_017540`, `NC_013850`\n",
      "* *Pseudomonas*: `NC_022808`, `NC_007492`, `NC_004578`, `NC_010322`\n",
      "* *Staphylococcus*: `NC_004661`, `NC_007795`, `NC_017337`, `NC_013893`\n",
      "\n",
      "These files will be placed in the `assignment/data` directory, and directories specific to each of the data file types `.faa`, `.fna`, `.gbk`, and `.gff` will also be created."
     ]
    },
    {
     "cell_type": "heading",
     "level": 2,
     "metadata": {},
     "source": [
      "Part 1"
     ]
    },
    {
     "cell_type": "markdown",
     "metadata": {},
     "source": [
      "In the `assignment/data` directory you will find the FASTA sequence file named `draft_genome.fasta`, representing assembled\n",
      "contigs from a bacterial genome sequencing project."
     ]
    },
    {
     "cell_type": "markdown",
     "metadata": {},
     "source": [
      "**1a:** Using bulk summary statistics of %GC content and genome size, produce a plot of genome length against %GC content, and determine to which of the four bacterial genera *Dickeya*, *Klebsiella*, *Pseudomonas* and *Staphylococcus* the draft genome is likely to belong."
     ]
    },
    {
     "cell_type": "markdown",
     "metadata": {},
     "source": [
      "**1b:** Comment on the relationship between the length of the draft assembly genome, and the lengths of the genomes in the\n",
      "genus to which you think it belongs."
     ]
    },
    {
     "cell_type": "markdown",
     "metadata": {},
     "source": [
      "**NOTE:** The in-class exercise `ex01_gc_content.ipynb` may be useful here. A copy of that file has been made available in this directory, along with the helper code in the `bs32010.ex01` module."
     ]
    },
    {
     "cell_type": "heading",
     "level": 2,
     "metadata": {},
     "source": [
      "Part 2"
     ]
    },
    {
     "cell_type": "markdown",
     "metadata": {},
     "source": [
      "**2:** Using Average Nucleotide Identity (ANI) measures, determine whether the draft genome belongs to the same\n",
      "species as any of the other members of the genus you identified in part 1.\n",
      "\n",
      "You will need to inspect the `.fna` files corresponding to the genus you identified in part 1, to determine the species name in each case. You should copy these `.fna` files, as well as `data/draft_genome.fasta`, to a new directory (e.g. `assignment/my_sequences`) for the ANI analysis - otherwise it may take a long time to calculate."
     ]
    },
    {
     "cell_type": "markdown",
     "metadata": {},
     "source": [
      "**NOTE:** ANI analyses involve multiple pairwise genome comparisons, so may take a long time to run, depending on the computing power available to you."
     ]
    },
    {
     "cell_type": "markdown",
     "metadata": {},
     "source": [
      "**NOTE:** A suitable %ANI threshold for assigning species was given in the lecture slides"
     ]
    },
    {
     "cell_type": "markdown",
     "metadata": {},
     "source": [
      "**NOTE:** You can use the script `average_nucleotide_identity.py`, the in-class exercise `ex03_ani.ipynb`, or the program `JSpecies` ([http://imedea.uib-csic.es/jspecies/](http://imedea.uib-csic.es/jspecies/), or any other convenient method, to calculate ANIb, ANIm, and TETRA. The `average_nucleotide_identity.py` will likely be easiest."
     ]
    },
    {
     "cell_type": "markdown",
     "metadata": {},
     "source": [
      "**NOTE:** The `average_nucleotide_identity.py` script can be run from an iPython cell, as below."
     ]
    },
    {
     "cell_type": "code",
     "collapsed": false,
     "input": [
      "# Help text for the average_nucleotide_identity.py script\n",
      "!./average_nucleotide_identity.py -h"
     ],
     "language": "python",
     "metadata": {},
     "outputs": [
      {
       "output_type": "stream",
       "stream": "stdout",
       "text": [
        "usage: average_nucleotide_identity.py [-h] [-o OUTDIRNAME] [-i INDIRNAME] [-v] [-f] [-s] [-l LOGFILE] [--skip_nucmer] [--skip_blastn]\r\n",
        "                                      [--noclobber] [-g] [--gformat GFORMAT] [--gmethod GMETHOD] [--labels LABELS] [--classes CLASSES] [-m METHOD]\r\n",
        "                                      [--scheduler SCHEDULER] [--maxmatch] [--nucmer_exe NUCMER_EXE] [--blastn_exe BLASTN_EXE]\r\n",
        "                                      [--makeblastdb_exe MAKEBLASTDB_EXE] [--blastall_exe BLASTALL_EXE] [--formatdb_exe FORMATDB_EXE]\r\n",
        "\r\n",
        "optional arguments:\r\n",
        "  -h, --help            show this help message and exit\r\n",
        "  -o OUTDIRNAME, --outdir OUTDIRNAME\r\n",
        "                        Output directory\r\n",
        "  -i INDIRNAME, --indir INDIRNAME\r\n",
        "                        Input directory name\r\n",
        "  -v, --verbose         Give verbose output\r\n",
        "  -f, --force           Force file overwriting\r\n",
        "  -s, --fragsize        Sequence fragment size for ANIb\r\n",
        "  -l LOGFILE, --logfile LOGFILE\r\n",
        "                        Logfile location\r\n",
        "  --skip_nucmer         Skip NUCmer runs, for testing (e.g. if output already present)\r\n",
        "  --skip_blastn         Skip BLASTN runs, for testing (e.g. if output already present)\r\n",
        "  --noclobber           Don't nuke existing files\r\n",
        "  -g, --graphics        Generate heatmap of ANI\r\n",
        "  --gformat GFORMAT     Graphics output format [pdf|png|jpg|svg]\r\n",
        "  --gmethod GMETHOD     Graphics output method [mpl|R]\r\n",
        "  --labels LABELS       Path to file containing sequence labels\r\n",
        "  --classes CLASSES     Path to file containing sequence classes\r\n",
        "  -m METHOD, --method METHOD\r\n",
        "                        ANI method [ANIm|ANIb|ANIblastall|TETRA]\r\n",
        "  --scheduler SCHEDULER\r\n",
        "                        Job scheduler [multiprocessing|SGE]\r\n",
        "  --maxmatch            Override MUMmer to allow all NUCmer matches\r\n",
        "  --nucmer_exe NUCMER_EXE\r\n",
        "                        Path to NUCmer executable\r\n",
        "  --blastn_exe BLASTN_EXE\r\n",
        "                        Path to BLASTN+ executable\r\n",
        "  --makeblastdb_exe MAKEBLASTDB_EXE\r\n",
        "                        Path to BLAST+ makeblastdb executable\r",
        "\r\n",
        "  --blastall_exe BLASTALL_EXE\r\n",
        "                        Path to BLASTALL executable\r\n",
        "  --formatdb_exe FORMATDB_EXE\r\n",
        "                        Path to BLAST formatdb executable\r\n"
       ]
      }
     ],
     "prompt_number": 2
    },
    {
     "cell_type": "code",
     "collapsed": false,
     "input": [
      "# Using the average_nucleotide_identity.py script on the nucleotide sequences\n",
      "# in the ./my_sequences directory, to produce a table of ANIm scores.\n",
      "#\n",
      "# (uncomment the line below to run an ANIm analysis on the files in ./my_sequences)\n",
      "#!./average_nucleotide_identity.py -i my_sequences -o assignment_ANIm -m ANIm -v"
     ],
     "language": "python",
     "metadata": {},
     "outputs": [],
     "prompt_number": 3
    },
    {
     "cell_type": "markdown",
     "metadata": {},
     "source": [
      "**NOTE:** The graphical output of the `average_nucleotide_identity.py` script will not be available to you on the Life Sciences server, as a more recent `matplotlib` version is required."
     ]
    },
    {
     "cell_type": "heading",
     "level": 2,
     "metadata": {},
     "source": [
      "Part 3"
     ]
    },
    {
     "cell_type": "markdown",
     "metadata": {},
     "source": [
      "Use suitable whole genome alignments to investigate whether the draft genome has undergone rearrangement with respect to any of the complete genomes in the genus you identified in part 1. Produce graphical output to demonstrate the extent of rearrangement (or lack thereof). Comment on your figures, and your choice of alignment program."
     ]
    },
    {
     "cell_type": "markdown",
     "metadata": {},
     "source": [
      "**NOTE:** The `whole_genome_alignments_A.md` exercises may provide a useful template."
     ]
    },
    {
     "cell_type": "markdown",
     "metadata": {},
     "source": [
      "**NOTE:** The `nucmer_to_crunch.py` script in this directory will be useful in generating `.crunch` output from `NUCmer` comparisons that can then be visualised using `ACT`. This can be run from an iPython notebook, as below:"
     ]
    },
    {
     "cell_type": "code",
     "collapsed": false,
     "input": [
      "# Help text for the nucmer_to_crunch.py script\n",
      "!./nucmer_to_crunch.py -h"
     ],
     "language": "python",
     "metadata": {},
     "outputs": [
      {
       "output_type": "stream",
       "stream": "stdout",
       "text": [
        "usage: nucmer_to_crunch.py [-h] [-o OUTFILENAME] [-i INFILENAME] [-v]\r\n",
        "\r\n",
        "optional arguments:\r\n",
        "  -h, --help            show this help message and exit\r\n",
        "  -o OUTFILENAME, --outfile OUTFILENAME\r\n",
        "                        Output .crunch file\r\n",
        "  -i INFILENAME, --infile INFILENAME\r\n",
        "                        Input .coords file\r\n",
        "  -v, --verbose         Give verbose output\r\n"
       ]
      }
     ],
     "prompt_number": 4
    }
   ],
   "metadata": {}
  }
 ]
}